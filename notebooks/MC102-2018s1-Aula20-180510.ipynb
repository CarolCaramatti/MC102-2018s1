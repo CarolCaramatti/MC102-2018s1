{
 "cells": [
  {
   "cell_type": "code",
   "execution_count": 1,
   "metadata": {
    "ExecuteTime": {
     "end_time": "2018-04-26T01:12:04.093689Z",
     "start_time": "2018-04-26T01:12:04.090231Z"
    },
    "init_cell": true
   },
   "outputs": [],
   "source": [
    "from IPython.core.interactiveshell import InteractiveShell\n",
    "InteractiveShell.ast_node_interactivity = \"all\""
   ]
  },
  {
   "cell_type": "markdown",
   "metadata": {},
   "source": [
    "# Recursão\n",
    "**MC102-2018s1-Aula20-180510**"
   ]
  },
  {
   "cell_type": "markdown",
   "metadata": {},
   "source": [
    "Uma definição recursiva ou uma função recursiva *recorre* ou *retorna* a si mesma.   \n",
    "Em matemática, você certamente já viu o conceito de *fatorial*, que é usualmente definido como...\n",
    "\n",
    "$\n",
    "n! = \\left\\{\n",
    "  \\begin{array}{lr}\n",
    "    n \\times (n - 1)! & \\textrm{se} \\; n \\ge 1\\\\\n",
    "    1 & \\textrm{se} \\;  n = 0\n",
    "  \\end{array}\n",
    "\\right.\n",
    "$\n",
    "\n",
    "Esse é o exemplo clássico de uma definição recursiva: o fatorial de $n$ é definido em função do fatorial de $n - 1$."
   ]
  },
  {
   "cell_type": "markdown",
   "metadata": {},
   "source": [
    "O corpo de uma *função recursiva* contém uma ou mais chamadas a ela mesma, pontos estes para os quais ela eventualmente retornará seus resultados.   \n",
    "\n",
    "Uma definição recursiva cria o risco de uma sequência infinita de chamadas.   \n",
    "Para que isso não aconteça, é preciso que a cada chamada o tamanho do problema diminua e caminhe em direção a um *caso base*, que tem solução trivial.\n",
    "\n",
    "Isso é o que acontece, por exemplo, na definição do fatorial.   \n",
    "Nela, $n$ diminui a cada chamada.   \n",
    "Como $n$ é um inteiro, após um número finito de repetições ele fatalmente chegará a $0$, cujo fatorial é conhecido e interromperá a recursão."
   ]
  },
  {
   "cell_type": "markdown",
   "metadata": {},
   "source": [
    "## Implementação\n",
    "A definição de uma função para o cálculo do fatorial em Python é muito próxima da definição matemática:"
   ]
  },
  {
   "cell_type": "code",
   "execution_count": 2,
   "metadata": {},
   "outputs": [],
   "source": [
    "def fatorial(n):\n",
    "    if n >= 1:\n",
    "        return n * fatorial(n - 1)\n",
    "    elif n == 0:\n",
    "        return 1\n",
    "    else:\n",
    "        return None"
   ]
  },
  {
   "cell_type": "markdown",
   "metadata": {},
   "source": [
    "Vamos incorporar alguns “prints” a essa definição para ver como o processamento evolui durante a execução de uma chamada típica."
   ]
  },
  {
   "cell_type": "code",
   "execution_count": 3,
   "metadata": {},
   "outputs": [],
   "source": [
    "def fatorial(n, ind=''):\n",
    "    print(f'{ind}calculando fatorial({n})')\n",
    "    if n >= 1:\n",
    "        print(f'{ind}fatorial({n}) = {n} * fatorial({n - 1})')\n",
    "        tmp = n * fatorial(n - 1, ind + 4 * ' ')\n",
    "        print(f'{ind}fatorial({n}) = {tmp}')\n",
    "        return tmp\n",
    "    elif n == 0:\n",
    "        print(f'{ind}fatorial(0) = 1')\n",
    "        return 1\n",
    "    else:\n",
    "        return None"
   ]
  },
  {
   "cell_type": "markdown",
   "metadata": {},
   "source": [
    "E agora vamos calcular `fatorial(5)`..."
   ]
  },
  {
   "cell_type": "code",
   "execution_count": 4,
   "metadata": {},
   "outputs": [
    {
     "name": "stdout",
     "output_type": "stream",
     "text": [
      "calculando fatorial(5)\n",
      "fatorial(5) = 5 * fatorial(4)\n",
      "    calculando fatorial(4)\n",
      "    fatorial(4) = 4 * fatorial(3)\n",
      "        calculando fatorial(3)\n",
      "        fatorial(3) = 3 * fatorial(2)\n",
      "            calculando fatorial(2)\n",
      "            fatorial(2) = 2 * fatorial(1)\n",
      "                calculando fatorial(1)\n",
      "                fatorial(1) = 1 * fatorial(0)\n",
      "                    calculando fatorial(0)\n",
      "                    fatorial(0) = 1\n",
      "                fatorial(1) = 1\n",
      "            fatorial(2) = 2\n",
      "        fatorial(3) = 6\n",
      "    fatorial(4) = 24\n",
      "fatorial(5) = 120\n"
     ]
    },
    {
     "data": {
      "text/plain": [
       "120"
      ]
     },
     "execution_count": 4,
     "metadata": {},
     "output_type": "execute_result"
    }
   ],
   "source": [
    "fatorial(5)"
   ]
  },
  {
   "cell_type": "markdown",
   "metadata": {},
   "source": [
    "A grande maioria das funções recursivas admite também uma versão iterativa.   \n",
    "Esta geralmente é mais rápida mas também mais complicada.   \n",
    "Neste caso, poderíamos ter..."
   ]
  },
  {
   "cell_type": "code",
   "execution_count": 5,
   "metadata": {},
   "outputs": [],
   "source": [
    "def fatorial(n):\n",
    "    fat = 1\n",
    "    for i in range(2, n + 1):\n",
    "        fat *= i\n",
    "    return fat"
   ]
  },
  {
   "cell_type": "code",
   "execution_count": 6,
   "metadata": {},
   "outputs": [
    {
     "name": "stdout",
     "output_type": "stream",
     "text": [
      "1\n",
      "1\n",
      "2\n",
      "6\n",
      "24\n",
      "120\n"
     ]
    }
   ],
   "source": [
    "for n in range(6):\n",
    "    print(fatorial(n))"
   ]
  },
  {
   "cell_type": "markdown",
   "metadata": {},
   "source": [
    "## Exemplo\n",
    "Calcular a soma dos elementos de uma lista"
   ]
  },
  {
   "cell_type": "markdown",
   "metadata": {},
   "source": [
    "### Desenvolvimento\n",
    "A soma dos elementos de uma lista $l$ com $n$ elementos pode ser definida como:   \n",
    "\n",
    "$\n",
    "\\operatorname{soma}(l) = \\left\\{\n",
    "  \\begin{array}{lr}\n",
    "    l_0 + \\operatorname{soma}(l_1, \\dots l_{n-1}) & \\text{se} \\; n \\gt 0\\\\\n",
    "    0 & \\text{se} \\;  n = 0\n",
    "  \\end{array}\n",
    "\\right.\n",
    "$\n"
   ]
  },
  {
   "cell_type": "markdown",
   "metadata": {},
   "source": [
    "Como no caso do fatorial, a implementação em Python é direta..."
   ]
  },
  {
   "cell_type": "code",
   "execution_count": 7,
   "metadata": {},
   "outputs": [],
   "source": [
    "def soma(l):\n",
    "    if len(l) > 0:\n",
    "        return l[0] + soma(l[1:])\n",
    "    else:\n",
    "        return 0"
   ]
  },
  {
   "cell_type": "code",
   "execution_count": 8,
   "metadata": {},
   "outputs": [
    {
     "data": {
      "text/plain": [
       "25"
      ]
     },
     "execution_count": 8,
     "metadata": {},
     "output_type": "execute_result"
    }
   ],
   "source": [
    "soma([1, 3, 5, 7, 9])"
   ]
  },
  {
   "cell_type": "markdown",
   "metadata": {},
   "source": [
    "## As 3 Leis da Recursão\n",
    "Um algoritmo recursivo deve\n",
    "1.   Ter um caso base cuja solução é trivial.\n",
    "1.   Chamar a si próprio.\n",
    "1.   Mudar seu estado a cada chamada, movendo-se progressivamente em direção ao caso base."
   ]
  },
  {
   "cell_type": "markdown",
   "metadata": {},
   "source": [
    "## Exemplo\n",
    "A sequência de Fibonacci é definida como:\n",
    "\n",
    "$\n",
    "\\operatorname{fib}(n) = \\left\\{\n",
    "  \\begin{array}{lr}\n",
    "    \\operatorname{fib}(n-2) + \\operatorname{fib}(n-1) &  \\text{se} \\; n > 1 \\\\\n",
    "    1     & \\text{se} \\; n = 1 \\\\\n",
    "    0     & \\text{se} \\; n = 0 \n",
    "  \\end{array}\n",
    "\\right.\n",
    "$\n",
    "\n",
    "Defina uma função que calcule $\\operatorname{fib}(n)$, $\\forall n \\ge 0$."
   ]
  },
  {
   "cell_type": "markdown",
   "metadata": {},
   "source": [
    "Vamos começar definindo uma versão recursiva $\\operatorname{fibr}$."
   ]
  },
  {
   "cell_type": "code",
   "execution_count": 9,
   "metadata": {},
   "outputs": [],
   "source": [
    "def fibr(n):\n",
    "    if n > 1:\n",
    "        return fibr(n-2) + fibr(n-1)\n",
    "    elif n == 1:\n",
    "        return 1\n",
    "    elif n == 0:\n",
    "        return 0\n",
    "    else:\n",
    "        return None"
   ]
  },
  {
   "cell_type": "markdown",
   "metadata": {},
   "source": [
    "Como no caso do fatorial, vamos inserir alguns “prints” para poder acompanhar a evolução de uma chamada típica."
   ]
  },
  {
   "cell_type": "code",
   "execution_count": 10,
   "metadata": {},
   "outputs": [],
   "source": [
    "def fib(n, sep=''):\n",
    "    print(f'{sep}calculando fib({n})')\n",
    "    if n > 1:\n",
    "        print(f'{sep}fib({n}) = fib({n-2}) + fib({n-1})')\n",
    "        tmp = fib(n-2, sep + 4 * ' ') + fib(n-1, sep + 4 * ' ')\n",
    "        print(f'{sep}fib({n}) = {tmp}')\n",
    "        return tmp\n",
    "    elif n == 1:\n",
    "        print(f'{sep}fib({n}) = {1}')\n",
    "        return 1\n",
    "    elif n == 0:\n",
    "        print(f'{sep}fib({n}) = {0}')\n",
    "        return 0\n",
    "    else:\n",
    "        return None"
   ]
  },
  {
   "cell_type": "code",
   "execution_count": 11,
   "metadata": {},
   "outputs": [
    {
     "name": "stdout",
     "output_type": "stream",
     "text": [
      "calculando fib(5)\n",
      "fib(5) = fib(3) + fib(4)\n",
      "    calculando fib(3)\n",
      "    fib(3) = fib(1) + fib(2)\n",
      "        calculando fib(1)\n",
      "        fib(1) = 1\n",
      "        calculando fib(2)\n",
      "        fib(2) = fib(0) + fib(1)\n",
      "            calculando fib(0)\n",
      "            fib(0) = 0\n",
      "            calculando fib(1)\n",
      "            fib(1) = 1\n",
      "        fib(2) = 1\n",
      "    fib(3) = 2\n",
      "    calculando fib(4)\n",
      "    fib(4) = fib(2) + fib(3)\n",
      "        calculando fib(2)\n",
      "        fib(2) = fib(0) + fib(1)\n",
      "            calculando fib(0)\n",
      "            fib(0) = 0\n",
      "            calculando fib(1)\n",
      "            fib(1) = 1\n",
      "        fib(2) = 1\n",
      "        calculando fib(3)\n",
      "        fib(3) = fib(1) + fib(2)\n",
      "            calculando fib(1)\n",
      "            fib(1) = 1\n",
      "            calculando fib(2)\n",
      "            fib(2) = fib(0) + fib(1)\n",
      "                calculando fib(0)\n",
      "                fib(0) = 0\n",
      "                calculando fib(1)\n",
      "                fib(1) = 1\n",
      "            fib(2) = 1\n",
      "        fib(3) = 2\n",
      "    fib(4) = 3\n",
      "fib(5) = 5\n"
     ]
    },
    {
     "data": {
      "text/plain": [
       "5"
      ]
     },
     "execution_count": 11,
     "metadata": {},
     "output_type": "execute_result"
    }
   ],
   "source": [
    "fib(5)"
   ]
  },
  {
   "cell_type": "markdown",
   "metadata": {},
   "source": [
    "Como no caso do fatorial, também vamos definir uma versão iterativa $\\operatorname{fibi}$ ..."
   ]
  },
  {
   "cell_type": "code",
   "execution_count": 12,
   "metadata": {},
   "outputs": [],
   "source": [
    "def fibi(n):\n",
    "    if n == 0:\n",
    "        return 0\n",
    "    fm1, f = 0, 1\n",
    "    for i in range(n - 1):\n",
    "        fm1, f = f, fm1 + f\n",
    "    return f"
   ]
  },
  {
   "cell_type": "code",
   "execution_count": null,
   "metadata": {},
   "outputs": [
    {
     "data": {
      "text/plain": [
       "5"
      ]
     },
     "execution_count": 13,
     "metadata": {},
     "output_type": "execute_result"
    }
   ],
   "source": [
    "fibi(5)"
   ]
  },
  {
   "cell_type": "markdown",
   "metadata": {},
   "source": [
    "Agora vamos comparar o desempenho de $\\operatorname{fib}$ e $\\operatorname{fibi}$ usando o módulo `timeit`."
   ]
  },
  {
   "cell_type": "code",
   "execution_count": null,
   "metadata": {},
   "outputs": [
    {
     "name": "stdout",
     "output_type": "stream",
     "text": [
      "n:  0   fibr:    0.000002   fibi: 0.000001   tr/ti:        1.52\n",
      "n:  1   fibr:    0.000001   fibi: 0.000002   tr/ti:        0.49\n",
      "n:  2   fibr:    0.000003   fibi: 0.000003   tr/ti:        0.78\n",
      "n:  3   fibr:    0.000003   fibi: 0.000003   tr/ti:        1.18\n",
      "n:  4   fibr:    0.000005   fibi: 0.000003   tr/ti:        1.70\n",
      "n:  5   fibr:    0.000008   fibi: 0.000003   tr/ti:        2.51\n",
      "n:  6   fibr:    0.000012   fibi: 0.000003   tr/ti:        3.56\n",
      "n:  7   fibr:    0.000019   fibi: 0.000004   tr/ti:        5.43\n",
      "n:  8   fibr:    0.000030   fibi: 0.000004   tr/ti:        8.32\n",
      "n:  9   fibr:    0.000048   fibi: 0.000004   tr/ti:       13.12\n",
      "n: 10   fibr:    0.000084   fibi: 0.000007   tr/ti:       11.55\n",
      "n: 11   fibr:    0.000123   fibi: 0.000007   tr/ti:       17.25\n",
      "n: 12   fibr:    0.000196   fibi: 0.000004   tr/ti:       43.65\n",
      "n: 13   fibr:    0.000316   fibi: 0.000004   tr/ti:       70.31\n",
      "n: 14   fibr:    0.000507   fibi: 0.000005   tr/ti:      106.69\n",
      "n: 15   fibr:    0.000844   fibi: 0.000005   tr/ti:      176.19\n",
      "n: 16   fibr:    0.001395   fibi: 0.000007   tr/ti:      208.73\n",
      "n: 17   fibr:    0.002237   fibi: 0.000006   tr/ti:      396.62\n",
      "n: 18   fibr:    0.003602   fibi: 0.000007   tr/ti:      507.95\n",
      "n: 19   fibr:    0.006193   fibi: 0.000008   tr/ti:      800.10\n",
      "n: 20   fibr:    0.009575   fibi: 0.000008   tr/ti:     1171.11\n",
      "n: 21   fibr:    0.016125   fibi: 0.000008   tr/ti:     1928.40\n",
      "n: 22   fibr:    0.024785   fibi: 0.000007   tr/ti:     3618.19\n",
      "n: 23   fibr:    0.032770   fibi: 0.000006   tr/ti:     5325.06\n",
      "n: 24   fibr:    0.054761   fibi: 0.000008   tr/ti:     7080.54\n",
      "n: 25   fibr:    0.098205   fibi: 0.000007   tr/ti:    13220.89\n",
      "n: 26   fibr:    0.136519   fibi: 0.000007   tr/ti:    19799.70\n",
      "n: 27   fibr:    0.225645   fibi: 0.000007   tr/ti:    30889.07\n",
      "n: 28   fibr:    0.354097   fibi: 0.000006   tr/ti:    54551.99\n",
      "n: 29   fibr:    0.571727   fibi: 0.000007   tr/ti:    80445.65\n",
      "n: 30   fibr:    0.924144   fibi: 0.000008   tr/ti:   121215.11\n",
      "n: 31   fibr:    1.458570   fibi: 0.000008   tr/ti:   187212.12\n",
      "n: 32   fibr:    2.503234   fibi: 0.000009   tr/ti:   287035.21\n",
      "n: 33   fibr:    4.080499   fibi: 0.000009   tr/ti:   477810.09\n",
      "n: 34   fibr:    6.221988   fibi: 0.000010   tr/ti:   653089.94\n",
      "n: 35   fibr:    9.909128   fibi: 0.000008   tr/ti:  1216889.52\n",
      "n: 36   fibr:   15.829935   fibi: 0.000009   tr/ti:  1805009.17\n",
      "n: 37   fibr:   25.523550   fibi: 0.000009   tr/ti:  2875244.03\n",
      "n: 38   fibr:   42.008716   fibi: 0.000010   tr/ti:  4292294.47\n",
      "n: 39   fibr:   68.845220   fibi: 0.000010   tr/ti:  6710058.86\n"
     ]
    }
   ],
   "source": [
    "from timeit import Timer\n",
    "\n",
    "for i in range(41):\n",
    "    s = \"fibr(\" + str(i) + \")\"\n",
    "    tr = Timer(s, globals=globals()).timeit(3)\n",
    "    \n",
    "    s = \"fibi(\" + str(i) + \")\"\n",
    "    ti = Timer(s, globals=globals()).timeit(3)\n",
    "    \n",
    "    trti = tr / ti\n",
    "    print(f\"n: {i:2d}   fibr: {tr:11.6f}   fibi: {ti:8.6f}   tr/ti:{trti:12.2f}\")"
   ]
  },
  {
   "cell_type": "markdown",
   "metadata": {},
   "source": [
    "Como a tabela mostra claramente, o desempenho de $\\operatorname{fibr}$ é severamente impactado pelo recálculo constante das primeiros termos da sequência."
   ]
  },
  {
   "cell_type": "markdown",
   "metadata": {},
   "source": [
    "## Memoization\n",
    "A técnica de **_memoization_** (assim mesmo!) permite mitigar esse problema, trocando desempenho por memória.   \n",
    "Todos os resultados produzidos por $\\operatorname{fibr}$ são salvos em um dicionário, que é consultado antes de se realizar qualquer cálculo.   \n",
    "Como um dicionário é uma estrutura muito eficiente de Python, o desempenho de $\\operatorname{fibr}$ melhora expressivamente.\n",
    "\n",
    "Vamos implementar $\\operatorname{fibm}$, uma versão de $\\operatorname{fibr}$ com *memoization*."
   ]
  },
  {
   "cell_type": "code",
   "execution_count": null,
   "metadata": {},
   "outputs": [],
   "source": [
    "memo = {0:0, 1:1}\n",
    "def fibm(n):\n",
    "    if n not in memo:\n",
    "        memo[n] = fibm(n - 2) + fibm(n - 1)\n",
    "    return memo[n]"
   ]
  },
  {
   "cell_type": "markdown",
   "metadata": {},
   "source": [
    "Agora vamos comparar o desempenho de $\\operatorname{fibm}$ e $\\operatorname{fibi}$."
   ]
  },
  {
   "cell_type": "code",
   "execution_count": null,
   "metadata": {},
   "outputs": [],
   "source": [
    "from timeit import Timer\n",
    "\n",
    "\n",
    "for i in range(41):\n",
    "    s = \"fibm(\" + str(i) + \")\"\n",
    "    tm = Timer(s, globals = globals()).timeit(3)\n",
    "    \n",
    "    s = \"fibi(\" + str(i) + \")\"\n",
    "    ti = Timer(s, globals = globals()).timeit(3)\n",
    "\n",
    "    tmti = tm / ti\n",
    "    \n",
    "    print(f\"n: {i:2d}   fibm: {tm:11.6f}   fibi: {ti:8.6f}   tm/ti:{tmti:12.2f}\")"
   ]
  },
  {
   "cell_type": "markdown",
   "metadata": {},
   "source": [
    "Veja a diferença!"
   ]
  },
  {
   "cell_type": "markdown",
   "metadata": {},
   "source": [
    "## Exemplo: Torres de Hanói\n",
    "“Torres de Hanói” é um quebra-cabeça clássico. Uma base sustenta três pinos verticais, $A$, $B$ e $C$. Em $A$ há um certo número de discos com diferentes diâmetros, empilhados em ordem decrescente de tamanho, isto é, o disco maior está na base e o menor no alto da pilha. O objetivo do jogo é mover a torre de discos do pino $A$ para o pino $C$, obedecendo as seguintes regras:   \n",
    "\n",
    "-   Em cada lance, um disco deve ser movido de um pino para outro.   \n",
    "-   Em cada lance, apenas o disco de cima de um dos pinos pode ser movido.\n",
    "-   Um disco só pode ser colocado em outro pino, se este estiver vazio ou se o disco superior desse pino for maior do que aquele que está sendo movido.\n",
    "\n",
    "<img src=\"../img/TorreDeHanoi.jpeg\" alt=\"Torre de Hanói\" title=\"Torre de Hanói\" />"
   ]
  },
  {
   "cell_type": "code",
   "execution_count": null,
   "metadata": {},
   "outputs": [],
   "source": [
    "def hanoi(n, de, aux, para):\n",
    "    if n > 0:\n",
    "        # mover (n - 1) discos 'de' -> 'aux' (usando 'para')\n",
    "        hanoi(n - 1, de, para, aux)\n",
    "        # mover o disco restante 'de' -> 'para'\n",
    "        para.append(de.pop())\n",
    "        print_status()\n",
    "        # mover (n - 1) discos 'aux' -> 'para' (usando 'de')\n",
    "        hanoi(n - 1, aux, de, para)\n",
    "        \n",
    "de   = [4,3,2,1]\n",
    "aux  = []\n",
    "para = []\n",
    "\n",
    "def print_status():\n",
    "    print(f'{str(de):12}  {str(aux):12}  {str(para):12}')\n",
    "\n",
    "print_status()\n",
    "hanoi(len(de), de, aux, para)"
   ]
  },
  {
   "cell_type": "markdown",
   "metadata": {},
   "source": [
    "## Exemplo: Triângulo de Pascal\n",
    "Escrever uma função recursiva que gere o “triângulo de Pascal”:\n",
    "\\begin{array}{ c c c c c c c c c c c }\n",
    "& & & & & 1                    \\\\\n",
    "& & & & 1 & & 1                \\\\\n",
    "& & & 1 & & 2 & & 1            \\\\\n",
    "& & 1  & & 3 & & 3 & & 1       \\\\\n",
    "& 1 & & 4 & & 6 & & 4 & & 1    \\\\\n",
    "1 & & 5 & & 10 & & 10 & & 5 & & 1\n",
    "\\end{array}"
   ]
  },
  {
   "cell_type": "markdown",
   "metadata": {},
   "source": [
    "### Desenvolvimento\n",
    "Para ajudar nosso raciocínio, vamos “encostar” o triângulo na margem esquerda...\n",
    "\\begin{array}{ c c c c c c c c c c c }\n",
    "1                    \\\\\n",
    "1 & & 1                \\\\\n",
    "1 & & 2 & & 1            \\\\\n",
    "1  & & 3 & & 3 & & 1       \\\\\n",
    "1 & & 4 & & 6 & & 4 & & 1    \\\\\n",
    "1 & & 5 & & 10 & & 10 & & 5 & & 1\n",
    "\\end{array}\n",
    "\n",
    "... e “enxergar” um zero no final de cada linha...\n",
    "\n",
    "\\begin{array}{ c c c c c c c c c c c c c c c}\n",
    "1 & & 0                  \\\\\n",
    "1 & & 1 & & 0               \\\\\n",
    "1 & & 2 & & 1 & & 0           \\\\\n",
    "1  & & 3 & & 3 & & 1 & & 0      \\\\\n",
    "1 & & 4 & & 6 & & 4 & & 1 & & 0   \\\\\n",
    "1 & & 5 & & 10 & & 10 & & 5 & & 1 & & 0\n",
    "\\end{array}"
   ]
  },
  {
   "cell_type": "code",
   "execution_count": null,
   "metadata": {},
   "outputs": [],
   "source": [
    "def tripascal(n):\n",
    "    if n == 1:\n",
    "        linha = [1]\n",
    "    else:\n",
    "        linha = tripascal(n - 1) + [0]\n",
    "        for i in range(-1, -n, -1):\n",
    "            linha[i] = linha[i] + linha[i - 1]\n",
    "    print(linha)\n",
    "    return linha\n",
    "\n",
    "x = tripascal(6)"
   ]
  }
 ],
 "metadata": {
  "kernelspec": {
   "display_name": "Python 3",
   "language": "python",
   "name": "python3"
  },
  "language_info": {
   "codemirror_mode": {
    "name": "ipython",
    "version": 3
   },
   "file_extension": ".py",
   "mimetype": "text/x-python",
   "name": "python",
   "nbconvert_exporter": "python",
   "pygments_lexer": "ipython3",
   "version": "3.6.4"
  },
  "latex_envs": {
   "LaTeX_envs_menu_present": true,
   "autoclose": false,
   "autocomplete": true,
   "bibliofile": "biblio.bib",
   "cite_by": "apalike",
   "current_citInitial": 1,
   "eqLabelWithNumbers": true,
   "eqNumInitial": 1,
   "hotkeys": {
    "equation": "Ctrl-E",
    "itemize": "Ctrl-I"
   },
   "labels_anchors": false,
   "latex_user_defs": false,
   "report_style_numbering": false,
   "user_envs_cfg": false
  }
 },
 "nbformat": 4,
 "nbformat_minor": 2
}
