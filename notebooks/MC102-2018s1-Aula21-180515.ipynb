{
 "cells": [
  {
   "cell_type": "code",
   "execution_count": 1,
   "metadata": {
    "ExecuteTime": {
     "end_time": "2018-04-26T01:12:04.093689Z",
     "start_time": "2018-04-26T01:12:04.090231Z"
    },
    "init_cell": true
   },
   "outputs": [],
   "source": [
    "from IPython.core.interactiveshell import InteractiveShell\n",
    "InteractiveShell.ast_node_interactivity = \"all\""
   ]
  },
  {
   "cell_type": "code",
   "execution_count": 2,
   "metadata": {},
   "outputs": [],
   "source": [
    "from time import perf_counter\n",
    "from random import shuffle"
   ]
  },
  {
   "cell_type": "markdown",
   "metadata": {},
   "source": [
    "# Algoritmos de Ordenação\n",
    "Nesta classe de problemas, desejamos rearranjar uma dada coleção de objetos, de modo que estes fiquem numa determinada ordem.\n",
    "\n",
    "Este é um dos problemas mais recorrentes em computação e, por conta disso, sempre mereceu extenso estudo.\n",
    "\n",
    "Há diversos algoritmos desenvolvidos com esse propósito, com sensíveis diferenças de abordagem e desempenho."
   ]
  },
  {
   "cell_type": "markdown",
   "metadata": {},
   "source": [
    "Hoje nós vamos estudar quatro deles:\n",
    "\n",
    "-   Ordenação por seleção\n",
    "-   Bubble sort\n",
    "-   Ordenação por inserção\n",
    "-   Quicksort\n",
    "\n",
    "Um quinto algoritmo, *merge sort*, será visto quando estudarmos o tratamento de arquivos."
   ]
  },
  {
   "cell_type": "markdown",
   "metadata": {},
   "source": [
    "Embora esses algoritmos sejam aplicáveis a qualquer coleção de objetos entre os quais exista uma relação de ordem, por conveniência, nós iremos usar *listas de inteiros* em quase todos os exemplos."
   ]
  },
  {
   "cell_type": "markdown",
   "metadata": {},
   "source": [
    "## Selection sort\n",
    "Para cada posição de uma lista dada, este modelo *seleciona* o item que deve ser colocado ali.\n",
    "\n",
    "Por exemplo, dada uma lista\n",
    "\\begin{array}{ | c | c | c | c | c | c | c | c | }\n",
    "    \\hline\n",
    "    54 & 26 & 93 & 17 & 77 & 31 & 44 & 55 \\\\\n",
    "    \\hline\n",
    "\\end{array}\n",
    "\n",
    "*P:* Qual o item que deverá ir para a posição 0?    "
   ]
  },
  {
   "cell_type": "markdown",
   "metadata": {},
   "source": [
    "*R:* O menor item da lista."
   ]
  },
  {
   "cell_type": "markdown",
   "metadata": {},
   "source": [
    "Assim, localizamos o menor item da lista e o trocamos com o item que está na posição 0.\n",
    "\n",
    "Depois dessa operação, nossa lista estará assim\n",
    "\\begin{array}{ | c | c | c | c | c | c | c | c | }\n",
    "    \\hline\n",
    "    17 & 26 & 93 & 54 & 77 & 31 & 44 & 55 \\\\\n",
    "    \\hline\n",
    "\\end{array}\n",
    "\n",
    "*P:* O que fazer agora?   "
   ]
  },
  {
   "cell_type": "markdown",
   "metadata": {},
   "source": [
    "*R:* Localizar o menor item do trecho $[1:]$ e colocá-lo na posição $1$."
   ]
  },
  {
   "cell_type": "markdown",
   "metadata": {},
   "source": [
    "Dessa forma, é como se nossa lista se “dividisse” em duas:\n",
    "\n",
    "-   uma ordenada, à esquerda, e\n",
    "-   uma desordenada, à direita.\n",
    "\n",
    "Em cada passo, a lista ordenada ganha mais um item e a lista desordenada perde um, até acabar."
   ]
  },
  {
   "cell_type": "markdown",
   "metadata": {},
   "source": [
    "Passo a passo, na lista do exemplo:\n",
    "\\begin{array}{ l | c | c | c | c | c | c | c | c | } \n",
    "    \\hline\n",
    "    i  & 54 & 26 & 93 & 17 & 77 & 31 & 44 & 55 \\\\\n",
    "    \\hline\n",
    "    0 & \\textit{17} & 26 & 93 & \\textit{54} & 77 & 31 & 44 & 55 \\\\\n",
    "    \\hline\n",
    "    1 & 17 & \\textit{26} & 93 & 54 & 77 & 31 & 44 & 55 \\\\\n",
    "    \\hline\n",
    "    2 & 17 & 26 & \\textit{31} & 54 & 77 & \\textit{93} & 44 & 55 \\\\\n",
    "    \\hline\n",
    "    3 & 17 & 26 & 31 & \\textit{44} & 77 & 93 & \\textit{54} & 55 \\\\\n",
    "    \\hline\n",
    "    4 & 17 & 26 & 31 & 44 & \\textit{54} & 93 & \\textit{77} & 55 \\\\\n",
    "    \\hline\n",
    "    5 & 17 & 26 & 31 & 44 & 54 & \\textit{55} & 77 & \\textit{93} \\\\\n",
    "    \\hline\n",
    "    6 & 17 & 26 & 31 & 44 & 54 & 55 & \\textit{77} & 93 \\\\\n",
    "    \\hline\n",
    "      & 17 & 26 & 31 & 44 & 54 & 55 & 77 & 93 \\\\\n",
    "    \\hline\n",
    "\\end{array}\n",
    "\n"
   ]
  },
  {
   "cell_type": "markdown",
   "metadata": {},
   "source": [
    "Vamos esboçar nosso algoritmo, lembrando que, para uma lista com $n$ itens, serão necessários apenas $n - 1$ passos, uma vez que o último item já estará na posição certa por construção.\n",
    "```python\n",
    "def selectionSort(lst):\n",
    "    for i in range(len(lst) - 1):\n",
    "        # fazer m = índice do menor item em lst[i:]\n",
    "        # permutar os itens i e m\n",
    "```"
   ]
  },
  {
   "cell_type": "code",
   "execution_count": 3,
   "metadata": {},
   "outputs": [],
   "source": [
    "def selectionSort(lst):\n",
    "    for i in range(len(lst) - 1):\n",
    "        # fazer m = índice do menor item em lst[i:]\n",
    "        m = i\n",
    "        for j in range(i + 1, len(lst)):\n",
    "            if lst[j] < lst[m]:\n",
    "                m = j\n",
    "        # permutar os itens i e m\n",
    "        lst[i], lst[m] = lst[m], lst[i]"
   ]
  },
  {
   "cell_type": "code",
   "execution_count": 4,
   "metadata": {},
   "outputs": [
    {
     "name": "stdout",
     "output_type": "stream",
     "text": [
      "\n",
      "l[:5] = [5, 4, 0, 3, 7]\n",
      "l[-5:] = [8, 6, 1, 9, 2]\n",
      "n:     10  ts:   0.000013\n",
      "l[:5] = [0, 1, 2, 3, 4]\n",
      "l[-5:] = [5, 6, 7, 8, 9]\n",
      "\n",
      "l[:5] = [29, 87, 94, 51, 6]\n",
      "l[-5:] = [60, 39, 93, 3, 17]\n",
      "n:    100  ts:   0.000448\n",
      "l[:5] = [0, 1, 2, 3, 4]\n",
      "l[-5:] = [95, 96, 97, 98, 99]\n",
      "\n",
      "l[:5] = [108, 421, 868, 297, 668]\n",
      "l[-5:] = [205, 610, 184, 459, 236]\n",
      "n:   1000  ts:   0.049383\n",
      "l[:5] = [0, 1, 2, 3, 4]\n",
      "l[-5:] = [995, 996, 997, 998, 999]\n",
      "\n",
      "l[:5] = [739, 2792, 5579, 859, 8656]\n",
      "l[-5:] = [8283, 1065, 3122, 2988, 5987]\n",
      "n:  10000  ts:   3.810873\n",
      "l[:5] = [0, 1, 2, 3, 4]\n",
      "l[-5:] = [9995, 9996, 9997, 9998, 9999]\n"
     ]
    }
   ],
   "source": [
    "for i in range(1, 5):\n",
    "    n = 10 ** i\n",
    "    l = [x for x in range(n)]\n",
    "    shuffle(l)\n",
    "    print()\n",
    "    print(f'l[:5] = {l[:5]}')\n",
    "    print(f'l[-5:] = {l[-5:]}')\n",
    "    \n",
    "    ini = perf_counter()\n",
    "    selectionSort(l)\n",
    "    ts = perf_counter() - ini\n",
    "\n",
    "    print(f'n:{n:7}  ts:{ts:11.6f}')\n",
    "    print(f'l[:5] = {l[:5]}')\n",
    "    print(f'l[-5:] = {l[-5:]}')"
   ]
  },
  {
   "cell_type": "markdown",
   "metadata": {},
   "source": [
    "O algoritmo abaixo está publicado na página [Sorting a list using selection sort in Python](https://www.codesdope.com/blog/article/sorting-a-list-using-selection-sort-in-python/).    \n",
    "O que você acha dele?"
   ]
  },
  {
   "cell_type": "code",
   "execution_count": 5,
   "metadata": {},
   "outputs": [
    {
     "name": "stdout",
     "output_type": "stream",
     "text": [
      "[10, 11, 12, 14, 15, 16, 19]\n"
     ]
    }
   ],
   "source": [
    "a = [16, 19, 11, 15, 10, 12, 14]\n",
    "\n",
    "i = 0\n",
    "while i < len(a):\n",
    "    #smallest element in the sublist\n",
    "    smallest = min(a[i:])\n",
    "    #index of smallest element\n",
    "    index_of_smallest = a.index(smallest)\n",
    "    #swapping\n",
    "    a[i], a[index_of_smallest] = a[index_of_smallest], a[i]\n",
    "    i = i + 1\n",
    "print(a)"
   ]
  },
  {
   "cell_type": "markdown",
   "metadata": {},
   "source": [
    "*R:* Ele não funciona se houver itens repetidos em $a$.   \n",
    "Por exemplo,..."
   ]
  },
  {
   "cell_type": "code",
   "execution_count": 6,
   "metadata": {},
   "outputs": [
    {
     "name": "stdout",
     "output_type": "stream",
     "text": [
      "[10, 19, 11, 15, 15, 12, 15]\n",
      "[10, 11, 19, 15, 15, 12, 15]\n",
      "[10, 11, 12, 15, 15, 19, 15]\n",
      "[10, 11, 12, 15, 15, 19, 15]\n",
      "[10, 11, 12, 15, 15, 19, 15]\n",
      "[10, 11, 12, 19, 15, 15, 15]\n",
      "[10, 11, 12, 19, 15, 15, 15]\n",
      "[10, 11, 12, 19, 15, 15, 15]\n"
     ]
    }
   ],
   "source": [
    "a = [15, 19, 11, 15, 10, 12, 15]\n",
    "\n",
    "i = 0\n",
    "while i < len(a):\n",
    "    #smallest element in the sublist\n",
    "    smallest = min(a[i:])\n",
    "    #index of smallest element\n",
    "    index_of_smallest = a.index(smallest)\n",
    "    #swapping\n",
    "    a[i], a[index_of_smallest] = a[index_of_smallest], a[i]\n",
    "    print(a)\n",
    "    i = i + 1\n",
    "print(a)"
   ]
  },
  {
   "cell_type": "markdown",
   "metadata": {},
   "source": [
    "*P:* Onde está o *bug*?"
   ]
  },
  {
   "cell_type": "markdown",
   "metadata": {},
   "source": [
    "*R:* Execute o algoritmo sobre a lista dada. Depois da seleção do primeiro $15,$ sua lista deverá estar assim...    \n",
    "\\begin{array}{ l | c | c | c | c | c | c | c | } \n",
    "    \\hline\n",
    "      & 15 & 19 & 11 & 15 & 10 & 12 & 15 \\\\\n",
    "    \\hline\n",
    "    0 & \\textit{10} & 19 & 11 & \\textit{15} & 15 & 12 & 15 \\\\\n",
    "    \\hline\n",
    "    1 & 10 & \\textit{11} & \\textit{19} & 15 & 15 & 12 & 15 \\\\\n",
    "    \\hline\n",
    "    2 & 10 & 11 & \\textit{12} & 15 & 15 & \\textit{19} & 15 \\\\\n",
    "    \\hline\n",
    "    3 & 10 & 11 & 12 & \\textit{15} & 15 & 19 & 15 \\\\\n",
    "    \\hline\n",
    "\\end{array}"
   ]
  },
  {
   "cell_type": "markdown",
   "metadata": {},
   "source": [
    "Vamos nos concentrar nesta última linha, que será a “entrada” para o próximo ciclo do `while`.\n",
    "\\begin{array}{ l | c | c | c | c | c | c | c | } \n",
    "      &    &    &    &    & i &    &    \\\\\n",
    "    \\hline\n",
    "    3 & 10 & 11 & 12 & \\textit{15} & 15 & 19 & 15 \\\\\n",
    "    \\hline\n",
    "\\end{array}\n",
    "`smallest` vai ser procurado no trecho $a[i:]$ e será encontrado o $15$ (que está no índice $0$ desse trecho!).    \n",
    "Em seguida vai ser calculado `index_of_smallest` como o índice de `smallest` em $a$ (isso é o que está na expressão!).   \n",
    "O resultado será $3$, que é o índice do primeiro $15$ em $a$ (este é o bug!).    \n",
    "Assim temos $i = 4$ e $index\\_of\\_smallest = 3$ e, na troca, os dois $15$ trocam (erradamente) de posição."
   ]
  },
  {
   "cell_type": "markdown",
   "metadata": {},
   "source": [
    "Portanto, entramos para o próximo ciclo do `while` com a lista no seguinte estado:\n",
    "\\begin{array}{ l | c | c | c | c | c | c | c | } \n",
    "      &    &    &    &    &   &  i &    \\\\\n",
    "    \\hline\n",
    "    3 & 10 & 11 & 12 & \\textit{15} & \\textit{15} & 19 & 15 \\\\\n",
    "    \\hline\n",
    "\\end{array}\n",
    "`smallest` vai ser procurado no trecho $a[i:]$ e será encontrado o último $15$ da lista.    \n",
    "Em seguida `index_of_smallest` vai ser calculado como o índice de `smallest` em $a$ e o resultado novamente será $3$ — o índice do primeiro $15$.    \n",
    "Agora temos $i = 5$ e $index\\_of\\_smallest = 3$ e, com isso, o $15$ (índice $3$) e o $19$ (índice $5$) trocam (erroneamente) de posição.\n",
    "\n",
    "Há mais uma última troca entre dois $15$ e o algoritmo termina com a lista no seguinte estado, em que o $19$ aparece erroneamente no meio da lista.\n",
    "\\begin{array}{ l | c | c | c | c | c | c | c | } \n",
    "    \\\\\n",
    "    \\hline\n",
    "      & 10 & 11 & 12 & 19 & 15 & 15 & 15 \\\\\n",
    "    \\hline\n",
    "\\end{array}"
   ]
  },
  {
   "cell_type": "markdown",
   "metadata": {},
   "source": [
    "O *bug* está em procurarmos `smallest` a partir do início de $a[i:]$ e `index_of_smallest` a partir do início de $a$.   \n",
    "Assim, quando `smallest` já estiver presente em $a[:i]$ (que é o que acontece quando há itens repetidos) calcula-se um índice incorreto.   \n",
    "\n",
    "Para corrigi-lo, é preciso calcular `index_of_smallest`, na linha 8, a partir do início de $a[i:]$ e depois adicionar um `offset` igual a $i$, antes que se possa usá-lo para indexar $a$.\n",
    "\n",
    "Depois dessa alteração, o algoritmo funciona perfeitamente."
   ]
  },
  {
   "cell_type": "code",
   "execution_count": 7,
   "metadata": {},
   "outputs": [
    {
     "name": "stdout",
     "output_type": "stream",
     "text": [
      "[15, 19, 11, 15, 10, 12, 15]\n",
      "0 4\n",
      "[10, 19, 11, 15, 15, 12, 15]\n",
      "1 2\n",
      "[10, 11, 19, 15, 15, 12, 15]\n",
      "2 5\n",
      "[10, 11, 12, 15, 15, 19, 15]\n",
      "3 3\n",
      "[10, 11, 12, 15, 15, 19, 15]\n",
      "4 4\n",
      "[10, 11, 12, 15, 15, 19, 15]\n",
      "5 6\n",
      "[10, 11, 12, 15, 15, 15, 19]\n",
      "[10, 11, 12, 15, 15, 15, 19]\n"
     ]
    }
   ],
   "source": [
    "a = [15, 19, 11, 15, 10, 12, 15]\n",
    "print(a)\n",
    "\n",
    "i = 0\n",
    "while i < len(a) - 1:\n",
    "    #smallest element in the sublist\n",
    "    smallest = min(a[i:])\n",
    "    #index of smallest element\n",
    "    index_of_smallest = a[i:].index(smallest) + i\n",
    "    #swapping\n",
    "    print(i, index_of_smallest)\n",
    "    a[i], a[index_of_smallest] = a[index_of_smallest], a[i]\n",
    "    print(a)\n",
    "    i = i + 1\n",
    "print(a)"
   ]
  },
  {
   "cell_type": "markdown",
   "metadata": {},
   "source": [
    "A versão abaixo implementa essa mesma proposta, de uma forma um pouco mais concisa..."
   ]
  },
  {
   "cell_type": "code",
   "execution_count": 8,
   "metadata": {},
   "outputs": [],
   "source": [
    "def selectionSort(lst):\n",
    "    for i in range(len(lst) - 1):\n",
    "        # fazer m = índice do menor item em lst[i:]\n",
    "        m = lst[i:].index(min(lst[i:]))\n",
    "        # permutar os itens i e m\n",
    "        lst[i], lst[i + m] = lst[i + m], lst[i]"
   ]
  },
  {
   "cell_type": "code",
   "execution_count": 9,
   "metadata": {},
   "outputs": [
    {
     "name": "stdout",
     "output_type": "stream",
     "text": [
      "\n",
      "l[:5] = [3, 1, 0, 6, 2]\n",
      "l[-5:] = [5, 9, 7, 8, 4]\n",
      "n:     10  ts:   0.000014\n",
      "l[:5] = [0, 1, 2, 3, 4]\n",
      "l[-5:] = [5, 6, 7, 8, 9]\n",
      "\n",
      "l[:5] = [16, 99, 67, 46, 22]\n",
      "l[-5:] = [15, 48, 20, 57, 61]\n",
      "n:    100  ts:   0.000235\n",
      "l[:5] = [0, 1, 2, 3, 4]\n",
      "l[-5:] = [95, 96, 97, 98, 99]\n",
      "\n",
      "l[:5] = [487, 806, 754, 392, 126]\n",
      "l[-5:] = [884, 398, 288, 473, 865]\n",
      "n:   1000  ts:   0.016097\n",
      "l[:5] = [0, 1, 2, 3, 4]\n",
      "l[-5:] = [995, 996, 997, 998, 999]\n",
      "\n",
      "l[:5] = [4087, 8977, 9177, 8202, 2884]\n",
      "l[-5:] = [9429, 994, 895, 796, 4799]\n",
      "n:  10000  ts:   1.514011\n",
      "l[:5] = [0, 1, 2, 3, 4]\n",
      "l[-5:] = [9995, 9996, 9997, 9998, 9999]\n"
     ]
    }
   ],
   "source": [
    "for i in range(1, 5):\n",
    "    n = 10 ** i\n",
    "    l = [x for x in range(n)]\n",
    "    shuffle(l)\n",
    "    print()\n",
    "    print(f'l[:5] = {l[:5]}')\n",
    "    print(f'l[-5:] = {l[-5:]}')\n",
    "    \n",
    "    ini = perf_counter()\n",
    "    selectionSort(l)\n",
    "    ts = perf_counter() - ini\n",
    "\n",
    "    print(f'n:{n:7}  ts:{ts:11.6f}')\n",
    "    print(f'l[:5] = {l[:5]}')\n",
    "    print(f'l[-5:] = {l[-5:]}')"
   ]
  },
  {
   "cell_type": "markdown",
   "metadata": {},
   "source": [
    "Uma outra possibilidade é usar uma *tuple comprehension* para obter o menor item em $lst[i:]$ e o respectivo índice, como na versão abaixo:"
   ]
  },
  {
   "cell_type": "code",
   "execution_count": 10,
   "metadata": {},
   "outputs": [],
   "source": [
    "def selectionSort(lst):\n",
    "    n = len(lst)\n",
    "    for i in range(n - 1):\n",
    "        # fazer m = índice do menor item em lst[i:]\n",
    "        vm, im = min((lst[k], k) for k in range(i, n))\n",
    "        # permutar os itens i e m\n",
    "        lst[i], lst[im] = lst[im], lst[i]"
   ]
  },
  {
   "cell_type": "code",
   "execution_count": 11,
   "metadata": {},
   "outputs": [
    {
     "name": "stdout",
     "output_type": "stream",
     "text": [
      "\n",
      "l[:5] = [3, 4, 7, 9, 0]\n",
      "l[-5:] = [5, 6, 1, 2, 8]\n",
      "n:     10  ts:   0.000021\n",
      "l[:5] = [0, 1, 2, 3, 4]\n",
      "l[-5:] = [5, 6, 7, 8, 9]\n",
      "\n",
      "l[:5] = [41, 92, 50, 64, 88]\n",
      "l[-5:] = [91, 34, 14, 36, 72]\n",
      "n:    100  ts:   0.000686\n",
      "l[:5] = [0, 1, 2, 3, 4]\n",
      "l[-5:] = [95, 96, 97, 98, 99]\n",
      "\n",
      "l[:5] = [402, 182, 439, 303, 127]\n",
      "l[-5:] = [745, 278, 210, 833, 159]\n",
      "n:   1000  ts:   0.073098\n",
      "l[:5] = [0, 1, 2, 3, 4]\n",
      "l[-5:] = [995, 996, 997, 998, 999]\n",
      "\n",
      "l[:5] = [6661, 992, 5434, 1079, 3189]\n",
      "l[-5:] = [9097, 7309, 6070, 7898, 2131]\n",
      "n:  10000  ts:   6.220957\n",
      "l[:5] = [0, 1, 2, 3, 4]\n",
      "l[-5:] = [9995, 9996, 9997, 9998, 9999]\n"
     ]
    }
   ],
   "source": [
    "for i in range(1, 5):\n",
    "    n = 10 ** i\n",
    "    l = [x for x in range(n)]\n",
    "    shuffle(l)\n",
    "    print()\n",
    "    print(f'l[:5] = {l[:5]}')\n",
    "    print(f'l[-5:] = {l[-5:]}')\n",
    "    \n",
    "    ini = perf_counter()\n",
    "    selectionSort(l)\n",
    "    ts = perf_counter() - ini\n",
    "\n",
    "    print(f'n:{n:7}  ts:{ts:11.6f}')\n",
    "    print(f'l[:5] = {l[:5]}')\n",
    "    print(f'l[-5:] = {l[-5:]}')"
   ]
  },
  {
   "cell_type": "markdown",
   "metadata": {},
   "source": [
    "O importante aqui é notar que, apesar da variedade de implementações, o desempenho do algoritmo não se altera substancialmente e sua complexidade continua sendo $\\mathcal{O}(n^2).$"
   ]
  },
  {
   "cell_type": "markdown",
   "metadata": {},
   "source": [
    "## Bubble sort\n",
    "Este modelo ordena os dois últimos itens de uma lista dada, depois os dois penúltimos, e assim por diante até chegar ao início da lista.\n",
    "\n",
    "Por exemplo, dada a lista abaixo\n",
    "\\begin{array}{ | c | c | c | c | c | c | c | c | }\n",
    "    \\hline\n",
    "    54 & 26 & 93 & 17 & 77 & 31 & 44 & 55 \\\\\n",
    "    \\hline\n",
    "\\end{array}\n",
    "comparamos $44$ e $55$ e eles estão em ordem,    \n",
    "comparamos $31$ e $44$ e eles também estão em ordem,    \n",
    "comparamos $77$ e $31$ e invertemos suas posições, chegando a \n",
    "\\begin{array}{ | c | c | c | c | c | c | c | c | }\n",
    "    \\hline\n",
    "    54 & 26 & 93 & 17 & \\textit{31} & \\textit{77} & 44 & 55 \\\\\n",
    "    \\hline\n",
    "\\end{array}\n",
    "Continuamos o processo, comparamos $17$ e $31$ e eles estão em ordem,   \n",
    "comparamos $93$ e $17$, invertemos suas posições e chegamos a\n",
    "\\begin{array}{ | c | c | c | c | c | c | c | c | }\n",
    "    \\hline\n",
    "    54 & 26 & \\textit{17} & \\textit{93} & 31 & 77 & 44 & 55 \\\\\n",
    "    \\hline\n",
    "\\end{array}\n",
    "Continuamos, comparando $26$ e $17$, que também trocam de posição\n",
    "\\begin{array}{ | c | c | c | c | c | c | c | c | }\n",
    "    \\hline\n",
    "    54 & \\textit{17} & \\textit{26} & 93 & 31 & 77 & 44 & 55 \\\\\n",
    "    \\hline\n",
    "\\end{array}\n",
    "e, finalmente, $54$ e $17$, o que nos deixa com\n",
    "\\begin{array}{ | c | c | c | c | c | c | c | c | }\n",
    "    \\hline\n",
    "    \\textit{17} & \\textit{54} & 26 & 93 & 31 & 77 & 44 & 55 \\\\\n",
    "    \\hline\n",
    "\\end{array}\n",
    "\n",
    "*P:* O que aconteceu?    "
   ]
  },
  {
   "cell_type": "markdown",
   "metadata": {},
   "source": [
    "*R:* O $17$, por ser mais “leve”, “borbulhou” até o começo da lista.\n",
    "\n",
    "Se repetirmos esse processo sobre os trechos $[1:]$, $[2:]$, $\\dots$, criaremos as mesmas listas esquerda e direita do modelo de seleção anterior."
   ]
  },
  {
   "cell_type": "code",
   "execution_count": 12,
   "metadata": {},
   "outputs": [],
   "source": [
    "def bubbleSort(alist):\n",
    "    n = len(alist)\n",
    "    for i in range(n - 1):\n",
    "        for j in range(n - 1, i, -1):\n",
    "            if alist[j] < alist[j - 1]:\n",
    "                alist[j], alist[j - 1] =  \\\n",
    "                    alist[j - 1], alist[j]"
   ]
  },
  {
   "cell_type": "code",
   "execution_count": 13,
   "metadata": {},
   "outputs": [
    {
     "name": "stdout",
     "output_type": "stream",
     "text": [
      "\n",
      "l[:5] = [2, 9, 7, 5, 8]\n",
      "l[-5:] = [1, 4, 0, 6, 3]\n",
      "n:     10  ts:   0.000023\n",
      "l[:5] = [0, 1, 2, 3, 4]\n",
      "l[-5:] = [5, 6, 7, 8, 9]\n",
      "\n",
      "l[:5] = [89, 43, 94, 70, 27]\n",
      "l[-5:] = [81, 74, 78, 13, 2]\n",
      "n:    100  ts:   0.000754\n",
      "l[:5] = [0, 1, 2, 3, 4]\n",
      "l[-5:] = [95, 96, 97, 98, 99]\n",
      "\n",
      "l[:5] = [148, 285, 999, 81, 136]\n",
      "l[-5:] = [694, 751, 690, 11, 482]\n",
      "n:   1000  ts:   0.097446\n",
      "l[:5] = [0, 1, 2, 3, 4]\n",
      "l[-5:] = [995, 996, 997, 998, 999]\n",
      "\n",
      "l[:5] = [6915, 9707, 2100, 7251, 6891]\n",
      "l[-5:] = [1623, 1972, 6120, 5254, 5018]\n",
      "n:  10000  ts:   7.997947\n",
      "l[:5] = [0, 1, 2, 3, 4]\n",
      "l[-5:] = [9995, 9996, 9997, 9998, 9999]\n"
     ]
    }
   ],
   "source": [
    "for i in range(1, 5):\n",
    "    n = 10 ** i\n",
    "    l = [x for x in range(n)]\n",
    "    shuffle(l)\n",
    "    print()\n",
    "    print(f'l[:5] = {l[:5]}')\n",
    "    print(f'l[-5:] = {l[-5:]}')\n",
    "    \n",
    "    ini = perf_counter()\n",
    "    bubbleSort(l)\n",
    "    ts = perf_counter() - ini\n",
    "\n",
    "    print(f'n:{n:7}  ts:{ts:11.6f}')\n",
    "    print(f'l[:5] = {l[:5]}')\n",
    "    print(f'l[-5:] = {l[-5:]}')"
   ]
  },
  {
   "cell_type": "markdown",
   "metadata": {},
   "source": [
    "*Bubble sort*, apesar de sua abordagem interessante, é reconhecido como um dos métodos de ordenação mais lentos, dentre os métodos com complexidade $\\mathcal{O}(n^2).$"
   ]
  },
  {
   "cell_type": "markdown",
   "metadata": {},
   "source": [
    "## Insertion sort\n",
    "Este modelo também cria as listas esquerda e direita dos modelos anteriores.\n",
    "\n",
    "Em cada passo, o primeiro item da lista direita é removido e *inserido* na posição adequada na lista esquerda.\n",
    "\n",
    "Dessa forma, a cada passo, a lista ordenada (esquerda) ganha mais um item enquanto a lista desordenada (direita) perde um, até acabar."
   ]
  },
  {
   "cell_type": "markdown",
   "metadata": {},
   "source": [
    "### Desenvolvimento\n",
    "Suponha que a lista ordenada esteja no trecho $[:i]$ e a lista desordenada em $[i:]$.\n",
    "\n",
    "O primeiro item da lista naturalmente já faz parte da lista esquerda, portanto o valor inicial de $i$ é $1$.\n",
    "\n",
    "Vamos começar a esboçar nosso algoritmo...\n",
    "```python\n",
    "def insertionSort(alist):\n",
    "    n = len(alist)\n",
    "    for i in range(1, n):\n",
    "        # encontrar a posição p onde alist[i] deve ser colocado\n",
    "        # colocar alist[i] na posição p\n",
    "```"
   ]
  },
  {
   "cell_type": "markdown",
   "metadata": {},
   "source": [
    "Vamos usar novamente a lista dos exemplos anteriores\n",
    "\\begin{array}{ | c | c | c | c | c | c | c | c | }\n",
    "    \\hline\n",
    "    54 & 26 & 93 & 17 & 77 & 31 & 44 & 55 \\\\\n",
    "    \\hline\n",
    "\\end{array}\n",
    "\n",
    "e supor que já tenhamos avançado até o ponto em que $i = 5$ e, portanto, com a lista no seguinte estado\n",
    "\\begin{array}{ | c | c | c | c | c | c | c | c | }\n",
    "    & & & & & i \\\\\n",
    "    \\hline\n",
    "    17 & 26 & 54 & 77 & 93 & 31 & 44 & 55 \\\\\n",
    "    \\hline\n",
    "\\end{array}\n",
    "\n",
    "Vamos nos concentrar na lista ordenada (esquerda) e supor que tenhamos salvo o item $i$ numa variável $si$.\n",
    "\\begin{array}{ | c | c | c | c | c | c | }\n",
    "    & & & & & i \\\\\n",
    "    \\hline\n",
    "    17 & 26 & 54 & 77 & 93 & \\;\\;\\,   \\\\\n",
    "    \\hline\n",
    "\\end{array}\n",
    "\n",
    "Vamos percorrer esse trecho da lista, do fim para o começo, movendo os itens maiores do que $si$ uma posição para a direita e parando quando encontrarmos um item menor ou igual a $si$ ou chegarmos ao começo da lista.\n",
    "\n",
    "Neste caso chegamos ao seguinte estado\n",
    "\\begin{array}{ | c | c | c | c | c | c | }\n",
    "    & & p & & & i \\\\\n",
    "    \\hline\n",
    "    17 & 26 & \\;\\;\\, & 54 & 77 & 93    \\\\\n",
    "    \\hline\n",
    "\\end{array}\n",
    "\n",
    "Agora podemos simplesmente colocar $si$ na posição $p$ da lista e avançar $i$ mais uma posição.\n",
    "\n",
    "Com isso podemos concluir o desenvolvimento do nosso algoritmo."
   ]
  },
  {
   "cell_type": "code",
   "execution_count": 14,
   "metadata": {},
   "outputs": [],
   "source": [
    "def insertionSort(alist):\n",
    "    n = len(alist)\n",
    "    for i in range(1, n):\n",
    "        # salvar alist[i]\n",
    "        si = alist[i]\n",
    "        # encontrar a posição p onde si deve ser colocado\n",
    "        p = i\n",
    "        while p > 0 and alist[p - 1] > si:\n",
    "            alist[p] = alist[p - 1]\n",
    "            p -= 1\n",
    "        # colocar si na posição p\n",
    "        alist[p] = si"
   ]
  },
  {
   "cell_type": "code",
   "execution_count": 15,
   "metadata": {},
   "outputs": [
    {
     "name": "stdout",
     "output_type": "stream",
     "text": [
      "\n",
      "l[:5] = [2, 5, 8, 1, 4]\n",
      "l[-5:] = [9, 0, 3, 6, 7]\n",
      "n:     10  ts:   0.000011\n",
      "l[:5] = [0, 1, 2, 3, 4]\n",
      "l[-5:] = [5, 6, 7, 8, 9]\n",
      "\n",
      "l[:5] = [47, 9, 99, 70, 33]\n",
      "l[-5:] = [16, 93, 3, 72, 60]\n",
      "n:    100  ts:   0.000417\n",
      "l[:5] = [0, 1, 2, 3, 4]\n",
      "l[-5:] = [95, 96, 97, 98, 99]\n",
      "\n",
      "l[:5] = [928, 958, 585, 81, 833]\n",
      "l[-5:] = [394, 73, 953, 713, 209]\n",
      "n:   1000  ts:   0.043895\n",
      "l[:5] = [0, 1, 2, 3, 4]\n",
      "l[-5:] = [995, 996, 997, 998, 999]\n",
      "\n",
      "l[:5] = [3934, 4766, 8636, 7035, 6713]\n",
      "l[-5:] = [5915, 9428, 6434, 9574, 6031]\n",
      "n:  10000  ts:   4.671575\n",
      "l[:5] = [0, 1, 2, 3, 4]\n",
      "l[-5:] = [9995, 9996, 9997, 9998, 9999]\n"
     ]
    }
   ],
   "source": [
    "for i in range(1, 5):\n",
    "    n = 10 ** i\n",
    "    l = [x for x in range(n)]\n",
    "    shuffle(l)\n",
    "    print()\n",
    "    print(f'l[:5] = {l[:5]}')\n",
    "    print(f'l[-5:] = {l[-5:]}')\n",
    "    \n",
    "    ini = perf_counter()\n",
    "    insertionSort(l)\n",
    "    ts = perf_counter() - ini\n",
    "\n",
    "    print(f'n:{n:7}  ts:{ts:11.6f}')\n",
    "    print(f'l[:5] = {l[:5]}')\n",
    "    print(f'l[-5:] = {l[-5:]}')"
   ]
  },
  {
   "cell_type": "markdown",
   "metadata": {},
   "source": [
    "Embora o desempenho de *insertion sort* tenha se mostrado um pouco superior ao dos anteriores, ele também constrói sua solução item a item e, em cada passo, faz uma passagem “completa” sobre a lista, o que coloca sua complexidade na classe $\\mathcal{O}(n^2)$.\n",
    "\n",
    "Para alterar esse quadro, será necessária uma intervenção mais radical."
   ]
  },
  {
   "cell_type": "markdown",
   "metadata": {},
   "source": [
    "## Quicksort\n",
    "O modelo conhecido como *quicksort* foi desenvolvido em 1959 por Tony Hoare, um dos nomes mais influentes na história da computação e é reconhecido até hoje como um sinônimo de ordenação eficiente.\n",
    "\n",
    "Quicksort usa um pivô para dividir a lista original em duas sub-listas, uma delas com itens menores ou iguais ao pivô e a outra com itens maiores ou iguais ao pivô.\n",
    "\n",
    "Como não há qualquer interseção entre essas duas sub-listas, elas podem ser ordenadas separadamente.   \n",
    "\n",
    "Se o pivô for “eficiente”, cada uma delas terá aproximadamente metade dos itens da lista original. Nesse caso, o número de passos necessários para atingirmos sub-listas de comprimento unitário, que estarão ordenadas por construção, será da ordem de $\\log_2{n}$.\n",
    "\n",
    "Como em cada passo, faremos ao todo uma passagem completa pela lista, a complexidade do algoritmo será $\\mathcal{O}(n \\log_2 n)$, o que lhe confere um desempenho superior."
   ]
  },
  {
   "cell_type": "markdown",
   "metadata": {},
   "source": [
    "### Desenvolvimento\n",
    "Implementaremos diretamente a definição, apenas aproveitando para criar uma terceira lista com itens iguais ao pivô, o que poderá ser útil caso existam muitas repetições."
   ]
  },
  {
   "cell_type": "code",
   "execution_count": 16,
   "metadata": {},
   "outputs": [],
   "source": [
    "def quickSort(alist):\n",
    "    if len(alist) <= 1: \n",
    "        return alist\n",
    "    else:    \n",
    "        pivô = alist[0]\n",
    "        menores = [x for x in alist if x < pivô]\n",
    "        iguais  = [x for x in alist if x == pivô]\n",
    "        maiores = [x for x in alist if x > pivô]\n",
    "        return quickSort(menores) + iguais + quickSort(maiores)"
   ]
  },
  {
   "cell_type": "code",
   "execution_count": 17,
   "metadata": {},
   "outputs": [
    {
     "name": "stdout",
     "output_type": "stream",
     "text": [
      "\n",
      "l[:5] = [2, 7, 5, 0, 8]\n",
      "l[-5:] = [3, 4, 9, 1, 6]\n",
      "n:     10  ts:   0.000036\n",
      "l[:5] = [0, 1, 2, 3, 4]\n",
      "l[-5:] = [5, 6, 7, 8, 9]\n",
      "\n",
      "l[:5] = [44, 62, 10, 22, 7]\n",
      "l[-5:] = [79, 76, 83, 80, 67]\n",
      "n:    100  ts:   0.000155\n",
      "l[:5] = [0, 1, 2, 3, 4]\n",
      "l[-5:] = [95, 96, 97, 98, 99]\n",
      "\n",
      "l[:5] = [731, 146, 272, 454, 175]\n",
      "l[-5:] = [260, 74, 29, 82, 698]\n",
      "n:   1000  ts:   0.002076\n",
      "l[:5] = [0, 1, 2, 3, 4]\n",
      "l[-5:] = [995, 996, 997, 998, 999]\n",
      "\n",
      "l[:5] = [4016, 8196, 9397, 761, 6692]\n",
      "l[-5:] = [7825, 9658, 1509, 5891, 8741]\n",
      "n:  10000  ts:   0.026237\n",
      "l[:5] = [0, 1, 2, 3, 4]\n",
      "l[-5:] = [9995, 9996, 9997, 9998, 9999]\n",
      "\n",
      "l[:5] = [70136, 37080, 53923, 39301, 73187]\n",
      "l[-5:] = [30669, 80926, 48037, 98278, 89083]\n",
      "n: 100000  ts:   0.317341\n",
      "l[:5] = [0, 1, 2, 3, 4]\n",
      "l[-5:] = [99995, 99996, 99997, 99998, 99999]\n",
      "\n",
      "l[:5] = [804227, 274245, 716961, 404161, 730193]\n",
      "l[-5:] = [504399, 837946, 271199, 865401, 457952]\n",
      "n:1000000  ts:   4.927742\n",
      "l[:5] = [0, 1, 2, 3, 4]\n",
      "l[-5:] = [999995, 999996, 999997, 999998, 999999]\n"
     ]
    }
   ],
   "source": [
    "for i in range(1, 7):\n",
    "    n = 10 ** i\n",
    "    l = [x for x in range(n)]\n",
    "    shuffle(l)\n",
    "    print()\n",
    "    print(f'l[:5] = {l[:5]}')\n",
    "    print(f'l[-5:] = {l[-5:]}')\n",
    "    \n",
    "    ini = perf_counter()\n",
    "    l = quickSort(l)\n",
    "    ts = perf_counter() - ini\n",
    "\n",
    "    print(f'n:{n:7}  ts:{ts:11.6f}')\n",
    "    print(f'l[:5] = {l[:5]}')\n",
    "    print(f'l[-5:] = {l[-5:]}')"
   ]
  },
  {
   "cell_type": "markdown",
   "metadata": {},
   "source": [
    "Essa implementação é simples e direta, mas cria três novas listas e faz três passagens pela lista original em cada passo.\n",
    "\n",
    "Vamos desenvolver uma nova versão que opere somente sobre a lista original."
   ]
  },
  {
   "cell_type": "markdown",
   "metadata": {},
   "source": [
    "Suponha que esteja disponível uma função\n",
    "$$\\mathrm{partition}(lst, \\,primeiro, \\,\\mathit{último})$$\n",
    "a qual, dado um trecho de uma lista $lst$ definido por $lst[primeiro], \\dots lst[\\mathit{último}]$ e um $\\mathit{pivô}$ com valor igual ao valor inicial de $lst[primeiro]$, retorna um índice $i$ tal que:\n",
    "-   $lst[primeiro], \\dots lst[i - 1] \\le \\mathit{pivô}$\n",
    "-   $lst[i + 1], \\dots lst[\\mathit{último}] \\ge \\mathit{pivô}$ e\n",
    "-   $lst[i] = \\mathit{pivô}$"
   ]
  },
  {
   "cell_type": "markdown",
   "metadata": {},
   "source": [
    "Como a interseção desses trechos é nula, podemos definir uma função recursiva\n",
    "$$\\mathrm{quicksort}(lst, \\,primeiro, \\,\\mathit{último})$$\n",
    "a qual, se    \n",
    "-  $primeiro \\ge \\mathit{último}$, não faz nada e\n",
    "-  $primeiro \\lt \\mathit{último}$, se desdobra em   \n",
    "   - $\\mathrm{quicksort}(lst, \\,primeiro, \\,ponto\\_de\\_corte - 1)$ e\n",
    "   - $\\mathrm{quicksort}(lst, \\,ponto\\_de\\_corte + 1, \\,\\mathit{último})$    \n",
    "   \n",
    "onde $ponto\\_de\\_corte$ é o resultado de uma chamada de $\\mathrm{partition}()$."
   ]
  },
  {
   "cell_type": "code",
   "execution_count": 18,
   "metadata": {},
   "outputs": [],
   "source": [
    "def quicksort(lst, primeiro=0, ultimo=None):\n",
    "    if ultimo is None:\n",
    "        ultimo = len(lst) - 1\n",
    "    if primeiro < ultimo:\n",
    "        ponto_de_corte = partition(lst, primeiro, ultimo)\n",
    "        quicksort(lst, primeiro, ponto_de_corte - 1)\n",
    "        quicksort(lst, ponto_de_corte + 1, ultimo)"
   ]
  },
  {
   "cell_type": "markdown",
   "metadata": {},
   "source": [
    "O próximo passo será definir a função $\\mathrm{partition}()$."
   ]
  },
  {
   "cell_type": "code",
   "execution_count": 19,
   "metadata": {},
   "outputs": [],
   "source": [
    "def partition(lst, primeiro, ultimo):\n",
    "    valor_do_pivo = lst[primeiro]\n",
    "    marcador_esq = primeiro + 1\n",
    "    marcador_dir = ultimo\n",
    "    done = False\n",
    "\n",
    "    while not done:\n",
    "        while marcador_esq <= marcador_dir and \\\n",
    "                  lst[marcador_esq] <= valor_do_pivo:\n",
    "            marcador_esq = marcador_esq + 1\n",
    "\n",
    "        while marcador_dir >= marcador_esq and \\\n",
    "                  lst[marcador_dir] >= valor_do_pivo:\n",
    "            marcador_dir = marcador_dir -1\n",
    "\n",
    "        if marcador_dir < marcador_esq:\n",
    "            done = True\n",
    "        else:\n",
    "            lst[marcador_esq], lst[marcador_dir] = lst[marcador_dir], lst[marcador_esq]\n",
    "\n",
    "    lst[primeiro], lst[marcador_dir] =  \\\n",
    "        lst[marcador_dir], lst[primeiro]\n",
    "\n",
    "    return marcador_dir"
   ]
  },
  {
   "cell_type": "code",
   "execution_count": 20,
   "metadata": {},
   "outputs": [
    {
     "name": "stdout",
     "output_type": "stream",
     "text": [
      "\n",
      "l[:5] = [1, 0, 7, 4, 5]\n",
      "l[-5:] = [2, 9, 6, 3, 8]\n",
      "n:     10  tqs:   0.000016\n",
      "l[:5] = [0, 1, 2, 3, 4]\n",
      "l[-5:] = [5, 6, 7, 8, 9]\n",
      "\n",
      "l[:5] = [3, 62, 45, 57, 91]\n",
      "l[-5:] = [58, 96, 47, 5, 32]\n",
      "n:    100  tqs:   0.000165\n",
      "l[:5] = [0, 1, 2, 3, 4]\n",
      "l[-5:] = [95, 96, 97, 98, 99]\n",
      "\n",
      "l[:5] = [725, 146, 779, 254, 145]\n",
      "l[-5:] = [877, 900, 326, 208, 36]\n",
      "n:   1000  tqs:   0.002468\n",
      "l[:5] = [0, 1, 2, 3, 4]\n",
      "l[-5:] = [995, 996, 997, 998, 999]\n",
      "\n",
      "l[:5] = [3495, 8660, 3382, 8736, 6229]\n",
      "l[-5:] = [8561, 5011, 1410, 7399, 5727]\n",
      "n:  10000  tqs:   0.031027\n",
      "l[:5] = [0, 1, 2, 3, 4]\n",
      "l[-5:] = [9995, 9996, 9997, 9998, 9999]\n",
      "\n",
      "l[:5] = [28886, 59162, 42833, 97773, 52053]\n",
      "l[-5:] = [4744, 21942, 34602, 87271, 51791]\n",
      "n: 100000  tqs:   0.338022\n",
      "l[:5] = [0, 1, 2, 3, 4]\n",
      "l[-5:] = [99995, 99996, 99997, 99998, 99999]\n",
      "\n",
      "l[:5] = [753247, 220393, 376071, 271291, 876175]\n",
      "l[-5:] = [672283, 159163, 98206, 263863, 328684]\n",
      "n:1000000  tqs:   4.475980\n",
      "l[:5] = [0, 1, 2, 3, 4]\n",
      "l[-5:] = [999995, 999996, 999997, 999998, 999999]\n"
     ]
    }
   ],
   "source": [
    "from random import shuffle\n",
    "from time import perf_counter\n",
    "\n",
    "for i in range(1, 7):\n",
    "    n = 10 ** i\n",
    "    l = [x for x in range(n)]\n",
    "    shuffle(l)\n",
    "    print()\n",
    "    print(f'l[:5] = {l[:5]}')\n",
    "    print(f'l[-5:] = {l[-5:]}')\n",
    "\n",
    "    ini = perf_counter()\n",
    "    quicksort(l)\n",
    "    tqs = perf_counter() - ini\n",
    "\n",
    "    print(f'n:{n:7}  tqs:{tqs:11.6f}')\n",
    "    print(f'l[:5] = {l[:5]}')\n",
    "    print(f'l[-5:] = {l[-5:]}')"
   ]
  },
  {
   "cell_type": "markdown",
   "metadata": {},
   "source": [
    "## Python’s “sort()” and “sorted()”\n",
    "Essas implementações tiveram o propósito de apresentar e discutir diversos algoritmos desenvolvidos para resolver esse importante problema e permitir que você use raciocínio semelhante quando apropriado ou necessário.\n",
    "\n",
    "No entanto, nenhuma delas é capaz de rivalizar com as implementações nativas e otimizadas de Python, como mostram os resultados abaixo."
   ]
  },
  {
   "cell_type": "code",
   "execution_count": 21,
   "metadata": {},
   "outputs": [
    {
     "name": "stdout",
     "output_type": "stream",
     "text": [
      "\n",
      "l[:5] = [2, 6, 9, 1, 4]\n",
      "l[-5:] = [5, 0, 8, 3, 7]\n",
      "n:     10  ts:   0.000002\n",
      "l[:5] = [0, 1, 2, 3, 4]\n",
      "l[-5:] = [5, 6, 7, 8, 9]\n",
      "\n",
      "l[:5] = [42, 33, 22, 94, 38]\n",
      "l[-5:] = [15, 26, 12, 84, 30]\n",
      "n:    100  ts:   0.000010\n",
      "l[:5] = [0, 1, 2, 3, 4]\n",
      "l[-5:] = [95, 96, 97, 98, 99]\n",
      "\n",
      "l[:5] = [649, 774, 160, 104, 736]\n",
      "l[-5:] = [976, 482, 605, 707, 713]\n",
      "n:   1000  ts:   0.000145\n",
      "l[:5] = [0, 1, 2, 3, 4]\n",
      "l[-5:] = [995, 996, 997, 998, 999]\n",
      "\n",
      "l[:5] = [8502, 4699, 609, 4430, 9563]\n",
      "l[-5:] = [2180, 2052, 7363, 7794, 9375]\n",
      "n:  10000  ts:   0.002334\n",
      "l[:5] = [0, 1, 2, 3, 4]\n",
      "l[-5:] = [9995, 9996, 9997, 9998, 9999]\n",
      "\n",
      "l[:5] = [35581, 10667, 37219, 46958, 22947]\n",
      "l[-5:] = [2254, 52691, 57010, 55054, 18127]\n",
      "n: 100000  ts:   0.026047\n",
      "l[:5] = [0, 1, 2, 3, 4]\n",
      "l[-5:] = [99995, 99996, 99997, 99998, 99999]\n",
      "\n",
      "l[:5] = [544938, 176365, 731291, 203863, 873545]\n",
      "l[-5:] = [761010, 844314, 212929, 256401, 503922]\n",
      "n:1000000  ts:   0.572410\n",
      "l[:5] = [0, 1, 2, 3, 4]\n",
      "l[-5:] = [999995, 999996, 999997, 999998, 999999]\n"
     ]
    }
   ],
   "source": [
    "for i in range(1, 7):\n",
    "    n = 10 ** i\n",
    "    l = [x for x in range(n)]\n",
    "    shuffle(l)\n",
    "    print()\n",
    "    print(f'l[:5] = {l[:5]}')\n",
    "    print(f'l[-5:] = {l[-5:]}')\n",
    "    \n",
    "    ini = perf_counter()\n",
    "    l.sort()\n",
    "    ts = perf_counter() - ini\n",
    "\n",
    "    print(f'n:{n:7}  ts:{ts:11.6f}')\n",
    "    print(f'l[:5] = {l[:5]}')\n",
    "    print(f'l[-5:] = {l[-5:]}')"
   ]
  },
  {
   "cell_type": "code",
   "execution_count": 22,
   "metadata": {},
   "outputs": [
    {
     "name": "stdout",
     "output_type": "stream",
     "text": [
      "\n",
      "l[:5] = [7, 2, 3, 1, 5]\n",
      "l[-5:] = [6, 8, 4, 0, 9]\n",
      "n:     10  ts:   0.000005\n",
      "l[:5] = [0, 1, 2, 3, 4]\n",
      "l[-5:] = [5, 6, 7, 8, 9]\n",
      "\n",
      "l[:5] = [41, 66, 93, 23, 69]\n",
      "l[-5:] = [62, 99, 76, 3, 71]\n",
      "n:    100  ts:   0.000016\n",
      "l[:5] = [0, 1, 2, 3, 4]\n",
      "l[-5:] = [95, 96, 97, 98, 99]\n",
      "\n",
      "l[:5] = [687, 46, 37, 819, 781]\n",
      "l[-5:] = [778, 411, 110, 250, 947]\n",
      "n:   1000  ts:   0.000214\n",
      "l[:5] = [0, 1, 2, 3, 4]\n",
      "l[-5:] = [995, 996, 997, 998, 999]\n",
      "\n",
      "l[:5] = [3416, 3875, 4701, 1014, 2571]\n",
      "l[-5:] = [9735, 8721, 8939, 1032, 9505]\n",
      "n:  10000  ts:   0.003583\n",
      "l[:5] = [0, 1, 2, 3, 4]\n",
      "l[-5:] = [9995, 9996, 9997, 9998, 9999]\n",
      "\n",
      "l[:5] = [83415, 51253, 98496, 74943, 48459]\n",
      "l[-5:] = [23938, 70022, 37327, 81757, 57105]\n",
      "n: 100000  ts:   0.032405\n",
      "l[:5] = [0, 1, 2, 3, 4]\n",
      "l[-5:] = [99995, 99996, 99997, 99998, 99999]\n",
      "\n",
      "l[:5] = [469161, 547798, 678030, 964631, 379854]\n",
      "l[-5:] = [213666, 359890, 981340, 898784, 556599]\n",
      "n:1000000  ts:   0.633211\n",
      "l[:5] = [0, 1, 2, 3, 4]\n",
      "l[-5:] = [999995, 999996, 999997, 999998, 999999]\n"
     ]
    }
   ],
   "source": [
    "for i in range(1, 7):\n",
    "    n = 10 ** i\n",
    "    l = [x for x in range(n)]\n",
    "    shuffle(l)\n",
    "    print()\n",
    "    print(f'l[:5] = {l[:5]}')\n",
    "    print(f'l[-5:] = {l[-5:]}')\n",
    "    \n",
    "    ini = perf_counter()\n",
    "    l = sorted(l)\n",
    "    ts = perf_counter() - ini\n",
    "\n",
    "    print(f'n:{n:7}  ts:{ts:11.6f}')\n",
    "    print(f'l[:5] = {l[:5]}')\n",
    "    print(f'l[-5:] = {l[-5:]}')"
   ]
  },
  {
   "cell_type": "markdown",
   "metadata": {},
   "source": [
    "### Noções básicas\n",
    "O método `sort()` está disponível apenas para listas.   \n",
    "Ele atua sobre a lista à qual é aplicado e retorna None."
   ]
  },
  {
   "cell_type": "code",
   "execution_count": 23,
   "metadata": {},
   "outputs": [
    {
     "name": "stdout",
     "output_type": "stream",
     "text": [
      "None\n",
      "[17, 26, 31, 44, 54, 55, 77, 93]\n"
     ]
    }
   ],
   "source": [
    "lista = [54, 26, 93, 17, 77, 31, 44, 55]\n",
    "print(lista.sort())\n",
    "print(lista)"
   ]
  },
  {
   "cell_type": "code",
   "execution_count": 24,
   "metadata": {},
   "outputs": [
    {
     "ename": "AttributeError",
     "evalue": "'tuple' object has no attribute 'sort'",
     "output_type": "error",
     "traceback": [
      "\u001b[0;31m---------------------------------------------------------------------------\u001b[0m",
      "\u001b[0;31mAttributeError\u001b[0m                            Traceback (most recent call last)",
      "\u001b[0;32m<ipython-input-24-fc7dcb17d20b>\u001b[0m in \u001b[0;36m<module>\u001b[0;34m()\u001b[0m\n\u001b[1;32m      1\u001b[0m \u001b[0mtupla\u001b[0m \u001b[0;34m=\u001b[0m \u001b[0;34m(\u001b[0m\u001b[0;36m54\u001b[0m\u001b[0;34m,\u001b[0m \u001b[0;36m26\u001b[0m\u001b[0;34m,\u001b[0m \u001b[0;36m93\u001b[0m\u001b[0;34m,\u001b[0m \u001b[0;36m17\u001b[0m\u001b[0;34m,\u001b[0m \u001b[0;36m77\u001b[0m\u001b[0;34m,\u001b[0m \u001b[0;36m31\u001b[0m\u001b[0;34m,\u001b[0m \u001b[0;36m44\u001b[0m\u001b[0;34m,\u001b[0m \u001b[0;36m55\u001b[0m\u001b[0;34m)\u001b[0m\u001b[0;34m\u001b[0m\u001b[0m\n\u001b[0;32m----> 2\u001b[0;31m \u001b[0mprint\u001b[0m\u001b[0;34m(\u001b[0m\u001b[0mtupla\u001b[0m\u001b[0;34m.\u001b[0m\u001b[0msort\u001b[0m\u001b[0;34m(\u001b[0m\u001b[0;34m)\u001b[0m\u001b[0;34m)\u001b[0m\u001b[0;34m\u001b[0m\u001b[0m\n\u001b[0m\u001b[1;32m      3\u001b[0m \u001b[0mprint\u001b[0m\u001b[0;34m(\u001b[0m\u001b[0mtupla\u001b[0m\u001b[0;34m)\u001b[0m\u001b[0;34m\u001b[0m\u001b[0m\n",
      "\u001b[0;31mAttributeError\u001b[0m: 'tuple' object has no attribute 'sort'"
     ]
    }
   ],
   "source": [
    "tupla = (54, 26, 93, 17, 77, 31, 44, 55)\n",
    "print(tupla.sort())\n",
    "print(tupla)"
   ]
  },
  {
   "cell_type": "markdown",
   "metadata": {},
   "source": [
    "A função `sorted()`, por sua vez, está disponível para qualquer obbjeto iterável.   \n",
    "Ela não modifica o argumento que recebe e seu resultado é sempre uma lista. "
   ]
  },
  {
   "cell_type": "code",
   "execution_count": 25,
   "metadata": {},
   "outputs": [
    {
     "name": "stdout",
     "output_type": "stream",
     "text": [
      "[17, 26, 31, 44, 54, 55, 77, 93]\n",
      "[54, 26, 93, 17, 77, 31, 44, 55]\n"
     ]
    }
   ],
   "source": [
    "lista = [54, 26, 93, 17, 77, 31, 44, 55]\n",
    "print(sorted(lista))\n",
    "print(lista)"
   ]
  },
  {
   "cell_type": "code",
   "execution_count": 26,
   "metadata": {},
   "outputs": [
    {
     "name": "stdout",
     "output_type": "stream",
     "text": [
      "[17, 26, 31, 44, 54, 55, 77, 93]\n",
      "(54, 26, 93, 17, 77, 31, 44, 55)\n"
     ]
    }
   ],
   "source": [
    "tupla = (54, 26, 93, 17, 77, 31, 44, 55)\n",
    "print(sorted(tupla))\n",
    "print(tupla)"
   ]
  },
  {
   "cell_type": "code",
   "execution_count": 27,
   "metadata": {},
   "outputs": [
    {
     "name": "stdout",
     "output_type": "stream",
     "text": [
      "[' ', '!', 'O', 'a', 'e', 'l', 'l', 'o', 'p', 's', 's', 'á']\n",
      "Olá pessoal!\n"
     ]
    }
   ],
   "source": [
    "cadeia = 'Olá pessoal!'\n",
    "print(sorted(cadeia))\n",
    "print(cadeia)"
   ]
  },
  {
   "cell_type": "markdown",
   "metadata": {},
   "source": [
    "### Parâmetros adicionais de *sort()* e *sorted()*\n",
    "#### *key*\n",
    "O valor de `key` deve ser uma função com **um** parâmetro que retorna uma *chave* a ser usada para ordenar o objeto. "
   ]
  },
  {
   "cell_type": "code",
   "execution_count": 28,
   "metadata": {},
   "outputs": [
    {
     "name": "stdout",
     "output_type": "stream",
     "text": [
      "[' ', '!', 'a', 'e', 'l', 'l', 'O', 'o', 'p', 's', 's', 'á']\n"
     ]
    }
   ],
   "source": [
    "cadeia = 'Olá pessoal!'\n",
    "print(sorted(cadeia, key=str.lower))"
   ]
  },
  {
   "cell_type": "code",
   "execution_count": 29,
   "metadata": {},
   "outputs": [
    {
     "name": "stdout",
     "output_type": "stream",
     "text": [
      "['De', 'de', 'espera', 'menos', 'mesmo', 'nada', 'não', 'onde', 'onde', 'se', 'vem', 'É']\n"
     ]
    }
   ],
   "source": [
    "frase = '''De onde menos se espera \n",
    "           É de onde não vem nada mesmo'''\n",
    "print(sorted(frase.split(), key=str.lower))"
   ]
  },
  {
   "cell_type": "code",
   "execution_count": 30,
   "metadata": {},
   "outputs": [
    {
     "name": "stdout",
     "output_type": "stream",
     "text": [
      "['É', 'De', 'se', 'de', 'não', 'vem', 'onde', 'onde', 'nada', 'menos', 'mesmo', 'espera']\n"
     ]
    }
   ],
   "source": [
    "frase = '''De onde menos se espera \n",
    "           É de onde não vem nada mesmo'''\n",
    "print(sorted(frase.split(), key=len))"
   ]
  },
  {
   "cell_type": "markdown",
   "metadata": {},
   "source": [
    "No exemplo a seguir, alunos são representados por tuplas contendo *nome, ra, matéria, ano, nota*.   \n",
    "Um *grupo* é representado como uma lista de alunos."
   ]
  },
  {
   "cell_type": "code",
   "execution_count": 31,
   "metadata": {},
   "outputs": [
    {
     "data": {
      "text/plain": [
       "[('Maria', 1234, 'mc102', 2015, 8.0),\n",
       " ('Chico', 1357, 'mc102', 2016, 4.0),\n",
       " ('Rosa', 2468, 'mc102', 2016, 9.0),\n",
       " ('Joaquim', 4321, 'mc102', 2016, 8.0)]"
      ]
     },
     "execution_count": 31,
     "metadata": {},
     "output_type": "execute_result"
    }
   ],
   "source": [
    "alunoA = ('Joaquim', 4321, 'mc102', 2016, 8.0)\n",
    "alunoB = ('Maria', 1234, 'mc102', 2015, 8.0)\n",
    "alunoC = ('Chico', 1357, 'mc102', 2016, 4.0)\n",
    "alunoD = ('Rosa', 2468, 'mc102', 2016, 9.0)\n",
    "\n",
    "grupo = [alunoA, alunoB, alunoC, alunoD]\n",
    "sorted(grupo, key=lambda x: x[1])"
   ]
  },
  {
   "cell_type": "code",
   "execution_count": 32,
   "metadata": {},
   "outputs": [
    {
     "data": {
      "text/plain": [
       "[('Maria', 1234, 'mc102', 2015, 8.0),\n",
       " ('Rosa', 2468, 'mc102', 2016, 9.0),\n",
       " ('Chico', 1357, 'mc102', 2016, 4.0),\n",
       " ('Joaquim', 4321, 'mc102', 2016, 8.0)]"
      ]
     },
     "execution_count": 32,
     "metadata": {},
     "output_type": "execute_result"
    }
   ],
   "source": [
    "alunoA = ('Joaquim', 4321, 'mc102', 2016, 8.0)\n",
    "alunoB = ('Maria', 1234, 'mc102', 2015, 8.0)\n",
    "alunoC = ('Chico', 1357, 'mc102', 2016, 4.0)\n",
    "alunoD = ('Rosa', 2468, 'mc102', 2016, 9.0)\n",
    "\n",
    "grupo = [alunoA, alunoB, alunoC, alunoD]\n",
    "sorted(grupo, key=lambda x: (x[3], len(x[0])))"
   ]
  },
  {
   "cell_type": "code",
   "execution_count": 33,
   "metadata": {},
   "outputs": [
    {
     "data": {
      "text/plain": [
       "[('Chico', 1357, 'mc102', 2016, 4.0),\n",
       " ('Joaquim', 4321, 'mc102', 2016, 8.0),\n",
       " ('Maria', 1234, 'mc102', 2015, 8.0),\n",
       " ('Rosa', 2468, 'mc102', 2016, 9.0)]"
      ]
     },
     "execution_count": 33,
     "metadata": {},
     "output_type": "execute_result"
    }
   ],
   "source": [
    "from operator import itemgetter\n",
    "\n",
    "alunoA = ('Joaquim', 4321, 'mc102', 2016, 8.0)\n",
    "alunoB = ('Maria', 1234, 'mc102', 2015, 8.0)\n",
    "alunoC = ('Chico', 1357, 'mc102', 2016, 4.0)\n",
    "alunoD = ('Rosa', 2468, 'mc102', 2016, 9.0)\n",
    "\n",
    "grupo = [alunoA, alunoB, alunoC, alunoD]\n",
    "sorted(grupo, key=itemgetter(4, 0))"
   ]
  },
  {
   "cell_type": "markdown",
   "metadata": {},
   "source": [
    "##### Funções do módulo *operator*\n",
    "O módulo `operator` disponibiliza as funções `itemgetter()`,  `attrgetter()` e `methodcaller()`, que podem simplificar e agilizar essas chamadas."
   ]
  },
  {
   "cell_type": "markdown",
   "metadata": {},
   "source": [
    "Por exemplo, a chamada abaixo ordena a lista dos exemplos anteriores por *nota* e, no caso de empate, pelo *nome*."
   ]
  },
  {
   "cell_type": "markdown",
   "metadata": {},
   "source": [
    "### Ordenação ascendente e descendente\n",
    "Tanto `sort()` quanto `sorted()` admitem um parâmetro booleano `reverse` (valor *default* = `False`) para indicar se a ordenação deverá ser em ordem ascendente (`False`) ou descendente (`True`)."
   ]
  },
  {
   "cell_type": "code",
   "execution_count": 34,
   "metadata": {},
   "outputs": [
    {
     "data": {
      "text/plain": [
       "[('Rosa', 2468, 'mc102', 2016, 9.0),\n",
       " ('Joaquim', 4321, 'mc102', 2016, 8.0),\n",
       " ('Maria', 1234, 'mc102', 2015, 8.0),\n",
       " ('Chico', 1357, 'mc102', 2016, 4.0)]"
      ]
     },
     "execution_count": 34,
     "metadata": {},
     "output_type": "execute_result"
    }
   ],
   "source": [
    "from operator import itemgetter\n",
    "\n",
    "alunoA = ('Joaquim', 4321, 'mc102', 2016, 8.0)\n",
    "alunoB = ('Maria', 1234, 'mc102', 2015, 8.0)\n",
    "alunoC = ('Chico', 1357, 'mc102', 2016, 4.0)\n",
    "alunoD = ('Rosa', 2468, 'mc102', 2016, 9.0)\n",
    "\n",
    "grupo = [alunoA, alunoB, alunoC, alunoD]\n",
    "sorted(grupo, key=itemgetter(4), reverse=True)"
   ]
  },
  {
   "cell_type": "markdown",
   "metadata": {},
   "source": [
    "### Estabilidade da ordenação\n",
    "E se quiséssemos colcoar o grupo de alunos na ordem inversa das *notas* e, no caso de empate, na ordem crescente dos *nomes* e, no caso de empate, na ordem crescente dos *ras*?    \n",
    "\n",
    "Uma condição complexa como essa é geralmente atacada de uma entre duas maneiras:\n",
    "\n",
    "-   Criando-se uma função específica para gerar a chave complexa desejada.\n",
    "-   Quebrando a ordenação em uma sequência de passos, cada um deles aproveitando o resultado do passo anterior.    \n",
    "    Para que isso seja possível, é preciso que o processo de ordenação seja **estável**, isto é, que cada passo da ordenação não destrua a ordem provisória estabelecida nos passos anteriores.    \n",
    "    Em Python, `sort()` e `sorted()` têm essa propriedade."
   ]
  },
  {
   "cell_type": "markdown",
   "metadata": {},
   "source": [
    "Vamos começar criando a função específica"
   ]
  },
  {
   "cell_type": "code",
   "execution_count": 35,
   "metadata": {},
   "outputs": [
    {
     "data": {
      "text/plain": [
       "[('Rosa', 2468, 'mc102', 2016, 9.0),\n",
       " ('Joaquim', 4321, 'mc102', 2016, 8.0),\n",
       " ('Maria', 1234, 'mc102', 2015, 8.0),\n",
       " ('Chico', 1357, 'mc102', 2016, 4.0),\n",
       " ('Chico', 7531, 'mc102', 2016, 4.0)]"
      ]
     },
     "execution_count": 35,
     "metadata": {},
     "output_type": "execute_result"
    }
   ],
   "source": [
    "def chave(aluno):\n",
    "    return (-aluno[4], aluno[0], aluno[1])\n",
    "\n",
    "alunoA = ('Joaquim', 4321, 'mc102', 2016, 8.0)\n",
    "alunoB = ('Maria', 1234, 'mc102', 2015, 8.0)\n",
    "alunoC = ('Chico', 7531, 'mc102', 2016, 4.0)\n",
    "alunoD = ('Rosa', 2468, 'mc102', 2016, 9.0)\n",
    "alunoE = ('Chico', 1357, 'mc102', 2016, 4.0)\n",
    "\n",
    "grupo = [alunoA, alunoB, alunoC, alunoD, alunoE]\n",
    "sorted(grupo, key=chave)"
   ]
  },
  {
   "cell_type": "markdown",
   "metadata": {},
   "source": [
    "Agora vamos fazer a mesma coisa como uma sequência de ordenações parciais..."
   ]
  },
  {
   "cell_type": "code",
   "execution_count": 36,
   "metadata": {},
   "outputs": [],
   "source": [
    "alunoA = ('Joaquim', 4321, 'mc102', 2016, 8.0)\n",
    "alunoB = ('Maria', 1234, 'mc102', 2015, 8.0)\n",
    "alunoC = ('Chico', 7531, 'mc102', 2016, 4.0)\n",
    "alunoD = ('Rosa', 2468, 'mc102', 2016, 9.0)\n",
    "alunoE = ('Chico', 1357, 'mc102', 2016, 4.0)\n",
    "\n",
    "grupo = [alunoA, alunoB, alunoC, alunoD, alunoE]"
   ]
  },
  {
   "cell_type": "markdown",
   "metadata": {},
   "source": [
    "Nesta abordagem, a ordenação prossegue das chaves de menor para as de maior prioridade. Portanto, começamos pelo *ra* (posição $1$ na tupla)."
   ]
  },
  {
   "cell_type": "code",
   "execution_count": 37,
   "metadata": {},
   "outputs": [
    {
     "data": {
      "text/plain": [
       "[('Maria', 1234, 'mc102', 2015, 8.0),\n",
       " ('Chico', 1357, 'mc102', 2016, 4.0),\n",
       " ('Rosa', 2468, 'mc102', 2016, 9.0),\n",
       " ('Joaquim', 4321, 'mc102', 2016, 8.0),\n",
       " ('Chico', 7531, 'mc102', 2016, 4.0)]"
      ]
     },
     "execution_count": 37,
     "metadata": {},
     "output_type": "execute_result"
    }
   ],
   "source": [
    "from operator import itemgetter\n",
    "\n",
    "grupo_ord = sorted(grupo, key=itemgetter(1))\n",
    "grupo_ord"
   ]
  },
  {
   "cell_type": "markdown",
   "metadata": {},
   "source": [
    "Agora os *nomes* (poisção $0$ na tupla)..."
   ]
  },
  {
   "cell_type": "code",
   "execution_count": 38,
   "metadata": {},
   "outputs": [
    {
     "data": {
      "text/plain": [
       "[('Chico', 1357, 'mc102', 2016, 4.0),\n",
       " ('Chico', 7531, 'mc102', 2016, 4.0),\n",
       " ('Joaquim', 4321, 'mc102', 2016, 8.0),\n",
       " ('Maria', 1234, 'mc102', 2015, 8.0),\n",
       " ('Rosa', 2468, 'mc102', 2016, 9.0)]"
      ]
     },
     "execution_count": 38,
     "metadata": {},
     "output_type": "execute_result"
    }
   ],
   "source": [
    "grupo_ord = sorted(grupo_ord, key=itemgetter(0))\n",
    "grupo_ord"
   ]
  },
  {
   "cell_type": "markdown",
   "metadata": {},
   "source": [
    "E, finalmente, as *notas* (posição $4$ na tupla, na ordem inversa)..."
   ]
  },
  {
   "cell_type": "code",
   "execution_count": 39,
   "metadata": {},
   "outputs": [
    {
     "data": {
      "text/plain": [
       "[('Rosa', 2468, 'mc102', 2016, 9.0),\n",
       " ('Joaquim', 4321, 'mc102', 2016, 8.0),\n",
       " ('Maria', 1234, 'mc102', 2015, 8.0),\n",
       " ('Chico', 1357, 'mc102', 2016, 4.0),\n",
       " ('Chico', 7531, 'mc102', 2016, 4.0)]"
      ]
     },
     "execution_count": 39,
     "metadata": {},
     "output_type": "execute_result"
    }
   ],
   "source": [
    "grupo_ord = sorted(grupo_ord, key=itemgetter(4), \n",
    "                   reverse=True)\n",
    "grupo_ord"
   ]
  },
  {
   "cell_type": "markdown",
   "metadata": {},
   "source": [
    "Note que o que impede que a ordenação seja realizada de uma única vez é o `reverse` nas *notas*.    \n",
    "Assim, é possível reunir os dois primeiros passos e depois realizar o último separadamente."
   ]
  },
  {
   "cell_type": "code",
   "execution_count": 40,
   "metadata": {},
   "outputs": [],
   "source": [
    "alunoA = ('Joaquim', 4321, 'mc102', 2016, 8.0)\n",
    "alunoB = ('Maria', 1234, 'mc102', 2015, 8.0)\n",
    "alunoC = ('Chico', 7531, 'mc102', 2016, 4.0)\n",
    "alunoD = ('Rosa', 2468, 'mc102', 2016, 9.0)\n",
    "alunoE = ('Chico', 1357, 'mc102', 2016, 4.0)\n",
    "\n",
    "grupo = [alunoA, alunoB, alunoC, alunoD, alunoE]"
   ]
  },
  {
   "cell_type": "code",
   "execution_count": 41,
   "metadata": {},
   "outputs": [
    {
     "data": {
      "text/plain": [
       "[('Chico', 1357, 'mc102', 2016, 4.0),\n",
       " ('Chico', 7531, 'mc102', 2016, 4.0),\n",
       " ('Joaquim', 4321, 'mc102', 2016, 8.0),\n",
       " ('Maria', 1234, 'mc102', 2015, 8.0),\n",
       " ('Rosa', 2468, 'mc102', 2016, 9.0)]"
      ]
     },
     "execution_count": 41,
     "metadata": {},
     "output_type": "execute_result"
    }
   ],
   "source": [
    "from operator import itemgetter\n",
    "\n",
    "grupo_ord = sorted(grupo, key=itemgetter(0, 1))\n",
    "grupo_ord"
   ]
  },
  {
   "cell_type": "code",
   "execution_count": 42,
   "metadata": {},
   "outputs": [
    {
     "data": {
      "text/plain": [
       "[('Rosa', 2468, 'mc102', 2016, 9.0),\n",
       " ('Joaquim', 4321, 'mc102', 2016, 8.0),\n",
       " ('Maria', 1234, 'mc102', 2015, 8.0),\n",
       " ('Chico', 1357, 'mc102', 2016, 4.0),\n",
       " ('Chico', 7531, 'mc102', 2016, 4.0)]"
      ]
     },
     "execution_count": 42,
     "metadata": {},
     "output_type": "execute_result"
    }
   ],
   "source": [
    "grupo_ord = sorted(grupo_ord, key=itemgetter(4), \n",
    "                   reverse=True)\n",
    "grupo_ord"
   ]
  },
  {
   "cell_type": "code",
   "execution_count": null,
   "metadata": {},
   "outputs": [],
   "source": []
  }
 ],
 "metadata": {
  "kernelspec": {
   "display_name": "Python 3",
   "language": "python",
   "name": "python3"
  },
  "language_info": {
   "codemirror_mode": {
    "name": "ipython",
    "version": 3
   },
   "file_extension": ".py",
   "mimetype": "text/x-python",
   "name": "python",
   "nbconvert_exporter": "python",
   "pygments_lexer": "ipython3",
   "version": "3.6.4"
  }
 },
 "nbformat": 4,
 "nbformat_minor": 2
}
