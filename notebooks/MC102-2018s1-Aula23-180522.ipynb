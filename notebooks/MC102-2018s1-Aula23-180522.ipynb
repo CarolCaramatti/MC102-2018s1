{
 "cells": [
  {
   "cell_type": "code",
   "execution_count": 1,
   "metadata": {
    "ExecuteTime": {
     "end_time": "2018-04-26T01:12:04.093689Z",
     "start_time": "2018-04-26T01:12:04.090231Z"
    },
    "init_cell": true
   },
   "outputs": [],
   "source": [
    "from IPython.core.interactiveshell import InteractiveShell\n",
    "InteractiveShell.ast_node_interactivity = \"all\""
   ]
  },
  {
   "cell_type": "code",
   "execution_count": 2,
   "metadata": {},
   "outputs": [],
   "source": [
    "from time import perf_counter\n",
    "from random import shuffle"
   ]
  },
  {
   "cell_type": "markdown",
   "metadata": {},
   "source": [
    "# Arquivos\n",
    "Até aqui somente trabalhamos com dados presentes na memória principal, que se perdem assim que o programa termina ou é interrompido por qualquer razão.\n",
    "\n",
    "Quando é preciso que os dados sejam armazenados de maneira mais persistente, nós os gravamos em arquivos na memória secundária, geralmente um disco magnético ou uma memória *flash*.\n",
    "\n",
    "A biblioteca padrão de Python oferece um conjunto de funções destinadas à manipulação de arquivos. As funções mais relevantes desse grupo serão estudadas aqui.    \n",
    "\n",
    "Para os exemplos, usaremos os arquivos de dados `mbox.txt` e `mbox-short.txt` que acompanham o livro *Python for Everybody: Exploring Data in Python 3* de Charles R Severance , publicado sob uma licença Creative Commons Non-Commercial ShareAlike 3.0.    \n",
    "Esses arquivos estão no formato *Mbox* — o nome genérico de uma família de formatos de arquivos usados para armazenar coleções de mensagens de e-mail."
   ]
  },
  {
   "cell_type": "markdown",
   "metadata": {},
   "source": [
    "## Abertura de arquivos\n",
    "Para que seja possível trabalhar com um arquivo, é preciso abri-lo. Para isso, chamamos a função `open` passando o *caminho* do arquivo e o *modo* de acesso desejados.    \n",
    "Na sua forma mais simples, um caminho é dado apenas pelo *nome* do arquivo.    \n",
    "O *modo* é uma *string*. Por exemplo, `'r'` para leitura, `'w'` para escrita.\n",
    "Outros parâmetros de `open`, que estudaremos mais à frente, são opcionais e têm valores padrão.\n",
    "\n",
    "Quando a chamada é bem sucedida, `open` retorna uma *alça* para o arquivo desejado.    \n",
    "Uma *alça* é um objeto contendo, entre outros, dados de localização, acesso e controle do arquivo.   \n",
    "A *alça* permite ou otimiza a implementação de utras funções e métodos, que estabelecem a funcionalidade desejada.\n",
    "\n",
    "Por exemplo,..."
   ]
  },
  {
   "cell_type": "code",
   "execution_count": 3,
   "metadata": {},
   "outputs": [
    {
     "name": "stdout",
     "output_type": "stream",
     "text": [
      "<_io.TextIOWrapper name='../data/mbox.txt' mode='r' encoding='UTF-8'>\n"
     ]
    }
   ],
   "source": [
    "arq = open('../data/mbox.txt')\n",
    "print(arq)"
   ]
  },
  {
   "cell_type": "markdown",
   "metadata": {},
   "source": [
    "Neste exemplo, vemos que a *alça* retornada por `open` inclui, além do nome do arquivo, `mode` e `encoding` que foram inicializados com valores padrão."
   ]
  },
  {
   "cell_type": "markdown",
   "metadata": {},
   "source": [
    "Quando o arquivo não existe, `open` gera uma exceção. Por exemplo,..."
   ]
  },
  {
   "cell_type": "code",
   "execution_count": 27,
   "metadata": {},
   "outputs": [
    {
     "ename": "FileNotFoundError",
     "evalue": "[Errno 2] No such file or directory: '../data/stuff.txt'",
     "output_type": "error",
     "traceback": [
      "\u001b[0;31m---------------------------------------------------------------------------\u001b[0m",
      "\u001b[0;31mFileNotFoundError\u001b[0m                         Traceback (most recent call last)",
      "\u001b[0;32m<ipython-input-27-925a80766015>\u001b[0m in \u001b[0;36m<module>\u001b[0;34m()\u001b[0m\n\u001b[0;32m----> 1\u001b[0;31m \u001b[0marq\u001b[0m \u001b[0;34m=\u001b[0m \u001b[0mopen\u001b[0m\u001b[0;34m(\u001b[0m\u001b[0;34m'../data/stuff.txt'\u001b[0m\u001b[0;34m)\u001b[0m\u001b[0;34m\u001b[0m\u001b[0m\n\u001b[0m\u001b[1;32m      2\u001b[0m \u001b[0mprint\u001b[0m\u001b[0;34m(\u001b[0m\u001b[0marq\u001b[0m\u001b[0;34m)\u001b[0m\u001b[0;34m\u001b[0m\u001b[0m\n",
      "\u001b[0;31mFileNotFoundError\u001b[0m: [Errno 2] No such file or directory: '../data/stuff.txt'"
     ]
    }
   ],
   "source": [
    "arq = open('../data/stuff.txt')\n",
    "print(arq)"
   ]
  },
  {
   "cell_type": "markdown",
   "metadata": {},
   "source": [
    "Mais à frente, usaremos o par `try ... except` e o comando `with` para tratar esse problema de forma mais simples e efetiva."
   ]
  },
  {
   "cell_type": "markdown",
   "metadata": {},
   "source": [
    "Ao final da operação, todo arquivo deve ser *fechado*.    \n",
    "Fazemos isso usando o método `close`."
   ]
  },
  {
   "cell_type": "code",
   "execution_count": 5,
   "metadata": {},
   "outputs": [
    {
     "name": "stdout",
     "output_type": "stream",
     "text": [
      "File: ../data/mbox.txt  closed? False\n",
      "File: ../data/mbox.txt  closed? True\n"
     ]
    }
   ],
   "source": [
    "arq = open('../data/mbox.txt')\n",
    "print(f'File: {arq.name}  closed? {arq.closed}')\n",
    "arq.close()\n",
    "print(f'File: {arq.name}  closed? {arq.closed}')"
   ]
  },
  {
   "cell_type": "markdown",
   "metadata": {},
   "source": [
    "## Arquivos de texto\n",
    "Arquivos de texto são sequências de linhas.    \n",
    "Uma linha é uma sequência de caracteres (*string*) terminada por um caractere *nova linha*.   \n",
    "O caractere *nova linha* aparece na posição 10 da tabela ASCII e é representado graficamente por dois símbolos: o caractere de *escape* (`\\`) e `n`.   \n",
    "Quando uma cadeia que contém `'\\n'` é exibida, ela sofre uma quebra na posição em que esse caractere se encontra."
   ]
  },
  {
   "cell_type": "code",
   "execution_count": 6,
   "metadata": {},
   "outputs": [
    {
     "name": "stdout",
     "output_type": "stream",
     "text": [
      "Hello\n",
      "World!\n"
     ]
    }
   ],
   "source": [
    "texto = 'Hello\\nWorld!'\n",
    "print(texto)"
   ]
  },
  {
   "cell_type": "code",
   "execution_count": 7,
   "metadata": {},
   "outputs": [
    {
     "name": "stdout",
     "output_type": "stream",
     "text": [
      "H\n",
      "W \n",
      " 3\n"
     ]
    }
   ],
   "source": [
    "texto = 'H\\nW'\n",
    "print(texto, '\\n', len(texto))"
   ]
  },
  {
   "cell_type": "markdown",
   "metadata": {},
   "source": [
    "Neste exemplo, o caractere `'\\n'` entre o `H` e o `W` provoca a primeira quebra de linha aa saída. Em seguida, o caractere `\\n` colocado na lista do `print` provoca uma nova quebra de linha após o `W`. Finalmente, é exibido o comprimento da cadeia `texto` para mostrar que `'\\n'` conta mesmo como *um* caractere. Note que o *espaço* automaticamente inserido entre itens da lista do `print` desloca o `3` uma posição para a direita."
   ]
  },
  {
   "cell_type": "markdown",
   "metadata": {},
   "source": [
    "Por ser uma sequência, um arquivo pode ser usado como um objeto iterável num *loop* `for` ou `while`."
   ]
  },
  {
   "cell_type": "code",
   "execution_count": 8,
   "metadata": {},
   "outputs": [
    {
     "name": "stdout",
     "output_type": "stream",
     "text": [
      "Número de linhas : 194\n"
     ]
    }
   ],
   "source": [
    "arq = open('../data/drinks.csv')\n",
    "núm_linhas = 0\n",
    "for linha in arq:\n",
    "    núm_linhas += 1\n",
    "print('Número de linhas :', núm_linhas)\n",
    "arq.close()"
   ]
  },
  {
   "cell_type": "markdown",
   "metadata": {},
   "source": [
    "### Leitura de arquivos de texto\n",
    "Desde que o arquivo caiba na memória, é possível lê-lo todo de uma vez, como uma única *string*."
   ]
  },
  {
   "cell_type": "code",
   "execution_count": 9,
   "metadata": {},
   "outputs": [
    {
     "name": "stdout",
     "output_type": "stream",
     "text": [
      "Arquivo: ../data/drinks.csv\n",
      "Numero de caracteres: 4384\n",
      "80 primeiros caracteres: 'country,beer_servings,spirit_servings,wine_servings,total_litres_of_pure_alcohol'\n",
      "Número de linhas: 194\n"
     ]
    }
   ],
   "source": [
    "arq = open('../data/drinks.csv')\n",
    "texto = arq.read()\n",
    "print('Arquivo:', arq.name)\n",
    "print('Numero de caracteres:', len(texto))\n",
    "print('80 primeiros caracteres:', repr(texto[:80]))\n",
    "print('Número de linhas:', texto.count('\\n'))\n",
    "arq.close()"
   ]
  },
  {
   "cell_type": "markdown",
   "metadata": {},
   "source": [
    "O método `readline()` permite ler uma linha do arquivo ou parte dela..."
   ]
  },
  {
   "cell_type": "code",
   "execution_count": 10,
   "metadata": {},
   "outputs": [
    {
     "name": "stdout",
     "output_type": "stream",
     "text": [
      "country,beer_servings,spirit_servings,wine_servings,total_litres_of_pure_alcohol\n",
      "\n"
     ]
    }
   ],
   "source": [
    "arq = open('../data/drinks.csv')\n",
    "linha = arq.readline()\n",
    "print(linha)\n",
    "arq.close()"
   ]
  },
  {
   "cell_type": "code",
   "execution_count": 11,
   "metadata": {},
   "outputs": [
    {
     "name": "stdout",
     "output_type": "stream",
     "text": [
      "country,beer_servings,spirit_servings,wi\n"
     ]
    }
   ],
   "source": [
    "arq = open('../data/drinks.csv')\n",
    "linha = arq.readline(40)\n",
    "print(linha)\n",
    "arq.close()"
   ]
  },
  {
   "cell_type": "markdown",
   "metadata": {},
   "source": [
    "O método `readlines()` lê todas as linhas do arquivo (ou um certo número delas até um limite de caracteres) e cria uma lista com elas..."
   ]
  },
  {
   "cell_type": "code",
   "execution_count": 12,
   "metadata": {},
   "outputs": [
    {
     "name": "stdout",
     "output_type": "stream",
     "text": [
      "['country,beer_servings,spirit_servings,wine_servings,total_litres_of_pure_alcohol\\n',\n",
      " 'Afghanistan,0,0,0,0.0\\n',\n",
      " 'Albania,89,132,54,4.9\\n',\n",
      " 'Algeria,25,0,14,0.7\\n',\n",
      " 'Andorra,245,138,312,12.4\\n',\n",
      " 'Angola,217,57,45,5.9\\n']\n"
     ]
    }
   ],
   "source": [
    "import pprint\n",
    "pp = pprint.PrettyPrinter()\n",
    "\n",
    "arq = open('../data/drinks.csv')\n",
    "linhas = arq.readlines()\n",
    "pp.pprint(linhas[:6])\n",
    "arq.close()"
   ]
  },
  {
   "cell_type": "code",
   "execution_count": 13,
   "metadata": {},
   "outputs": [
    {
     "name": "stdout",
     "output_type": "stream",
     "text": [
      "['country,beer_servings,spirit_servings,wine_servings,total_litres_of_pure_alcohol\\n',\n",
      " 'Afghanistan,0,0,0,0.0\\n',\n",
      " 'Albania,89,132,54,4.9\\n',\n",
      " 'Algeria,25,0,14,0.7\\n',\n",
      " 'Andorra,245,138,312,12.4\\n',\n",
      " 'Angola,217,57,45,5.9\\n']\n"
     ]
    }
   ],
   "source": [
    "import pprint\n",
    "pp = pprint.PrettyPrinter()\n",
    "\n",
    "arq = open('../data/drinks.csv')\n",
    "linhas = arq.readlines(180)\n",
    "pp.pprint(linhas)\n",
    "arq.close()"
   ]
  },
  {
   "cell_type": "markdown",
   "metadata": {},
   "source": [
    "### Escrita de arquivos de texto\n",
    "Para podermos escrever num arquivo ele deve ser aberto, por exemplo, no modo `'w'`.    \n",
    "Se o arquivo já existir, ele será sobrescrito e o conteúdo anterior se perderá; caso contrário, ele será criado.   \n",
    "\n",
    "Uma vez que o arquivo esteja aberto, podemos acrescentar linhas a ele usando o método `write()`.   \n",
    "É preciso lembrar de acrescentar o caractere `'\\n'` ao final da linha porque ele não é colocado automaticamente como acontece em `print`. "
   ]
  },
  {
   "cell_type": "markdown",
   "metadata": {},
   "source": [
    "Por exemplo..."
   ]
  },
  {
   "cell_type": "code",
   "execution_count": 28,
   "metadata": {},
   "outputs": [],
   "source": [
    "arq = open('../data/linhas.txt', 'w')\n",
    "for i in range(5):\n",
    "    linha = 'Esta é a linha ' + str(i + 1) + '.'\n",
    "    x = arq.write(linha + '\\n')\n",
    "arq.close()"
   ]
  },
  {
   "cell_type": "code",
   "execution_count": 15,
   "metadata": {},
   "outputs": [
    {
     "name": "stdout",
     "output_type": "stream",
     "text": [
      "Esta é a linha 1.\n",
      "Esta é a linha 2.\n",
      "Esta é a linha 3.\n",
      "Esta é a linha 4.\n",
      "Esta é a linha 5.\n"
     ]
    }
   ],
   "source": [
    "arq = open('../data/linhas.txt')\n",
    "for linha in arq:\n",
    "    print(linha.rstrip())\n",
    "arq.close()"
   ]
  },
  {
   "cell_type": "markdown",
   "metadata": {},
   "source": [
    "## O comando `with`\n",
    "`with` é um gerente de contextos, responsável por automatizar parte dos processos que precedem e sucedem algumas tarefas, como, por exemplo, o fechamento de arquivos.   \n",
    "Isto garante que os arquivos abertos serão fechados caso uma exceção interrompa a execução do programa.\n",
    "\n",
    "Por exemplo, é possível fazer... (note que os dois `print`s foram colocados apenas para deixar mais claro o funcionamento do `with` e não fazem parte de uma implementação normal...)"
   ]
  },
  {
   "cell_type": "code",
   "execution_count": 16,
   "metadata": {},
   "outputs": [
    {
     "name": "stdout",
     "output_type": "stream",
     "text": [
      "../data/linhas.txt closed? False\n"
     ]
    },
    {
     "data": {
      "text/plain": [
       "18"
      ]
     },
     "execution_count": 16,
     "metadata": {},
     "output_type": "execute_result"
    },
    {
     "data": {
      "text/plain": [
       "18"
      ]
     },
     "execution_count": 16,
     "metadata": {},
     "output_type": "execute_result"
    },
    {
     "data": {
      "text/plain": [
       "18"
      ]
     },
     "execution_count": 16,
     "metadata": {},
     "output_type": "execute_result"
    },
    {
     "data": {
      "text/plain": [
       "18"
      ]
     },
     "execution_count": 16,
     "metadata": {},
     "output_type": "execute_result"
    },
    {
     "data": {
      "text/plain": [
       "18"
      ]
     },
     "execution_count": 16,
     "metadata": {},
     "output_type": "execute_result"
    },
    {
     "name": "stdout",
     "output_type": "stream",
     "text": [
      "../data/linhas.txt closed? True\n"
     ]
    }
   ],
   "source": [
    "with open('../data/linhas.txt', 'w') as arq:\n",
    "    print(f'{arq.name} closed? {arq.closed}')\n",
    "    for i in range(5):\n",
    "        linha = 'Esta é a linha ' + str(i + 1) + '.'\n",
    "        arq.write(linha + '\\n')\n",
    "print(f'{arq.name} closed? {arq.closed}')"
   ]
  },
  {
   "cell_type": "code",
   "execution_count": 17,
   "metadata": {},
   "outputs": [
    {
     "name": "stdout",
     "output_type": "stream",
     "text": [
      "../data/linhas.txt closed? False\n",
      "Esta é a linha 1.\n",
      "Esta é a linha 2.\n",
      "Esta é a linha 3.\n",
      "Esta é a linha 4.\n",
      "Esta é a linha 5.\n",
      "../data/linhas.txt closed? True\n"
     ]
    }
   ],
   "source": [
    "with open('../data/linhas.txt') as arq:\n",
    "    print(f'{arq.name} closed? {arq.closed}')\n",
    "    for linha in arq:\n",
    "        print(linha.rstrip())\n",
    "print(f'{arq.name} closed? {arq.closed}')"
   ]
  },
  {
   "cell_type": "markdown",
   "metadata": {},
   "source": [
    "## Buscas em arquivos\n",
    "Uma operação comum em arquivos de texto é procurar linhas que satisfaçam determinados critérios.    "
   ]
  },
  {
   "cell_type": "markdown",
   "metadata": {},
   "source": [
    "### Exemplo 1\n",
    "O arquivo `drinks.csv` é um arquivo de dados separados por vírgulas, um formato comum para representação de `datasets` de forma independente de máquina.\n",
    "\n",
    "A primeira linha de um arquivo `csv` descreve o conteúdo de cada linha do arquivo.   \n",
    "As demais linhas contêm os dados propriamente ditos.\n",
    "\n",
    "Vamos ler `drinks.csv` e mostrar os países com consumo anual de álcool superior a 10 l/habitante."
   ]
  },
  {
   "cell_type": "code",
   "execution_count": 18,
   "metadata": {},
   "outputs": [
    {
     "data": {
      "text/plain": [
       "'country,beer_servings,spirit_servings,wine_servings,total_litres_of_pure_alcohol\\n'"
      ]
     },
     "execution_count": 18,
     "metadata": {},
     "output_type": "execute_result"
    },
    {
     "name": "stdout",
     "output_type": "stream",
     "text": [
      "País              Cerveja   Uísque    Vinho   Álcool\n",
      "Andorra               245      138      312     12.4\n",
      "Australia             261       72      212     10.4\n",
      "Belarus               142      373       42     14.4\n",
      "Belgium               295       84      212     10.5\n",
      "Bulgaria              231      252       94     10.3\n",
      "Croatia               230       87      254     10.2\n",
      "Czech Republic        361      170      134     11.8\n",
      "Denmark               224       81      278     10.4\n",
      "France                127      151      370     11.8\n",
      "Germany               346      117      175     11.3\n",
      "Grenada               199      438       28     11.9\n",
      "Hungary               234      215      185     11.3\n",
      "Ireland               313      118      165     11.4\n",
      "Latvia                281      216       62     10.5\n",
      "Lithuania             343      244       56     12.9\n",
      "Luxembourg            236      133      271     11.4\n",
      "Poland                343      215       56     10.9\n",
      "Portugal              194       67      339     11.0\n",
      "Romania               297      122      167     10.4\n",
      "Russian Federati      247      326       73     11.5\n",
      "St. Lucia             171      315       71     10.1\n",
      "Slovakia              196      293      116     11.4\n",
      "Slovenia              270       51      276     10.6\n",
      "Switzerland           185      100      280     10.2\n",
      "United Kingdom        219      126      195     10.4\n"
     ]
    }
   ],
   "source": [
    "with open('../data/drinks.csv') as drinks:\n",
    "    drinks.readline()\n",
    "    print(f\"{'País':16} {'Cerveja':>8} {'Uísque':>8} {'Vinho':>8} {'Álcool':>8}\")\n",
    "    for linha in drinks:\n",
    "        descrs = linha.rstrip().split(',')\n",
    "        if float(descrs[4]) > 10.0:\n",
    "            print(f'{descrs[0][:16]:16} {descrs[1]:>8} {descrs[2]:>8} {descrs[3]:>8} {descrs[4]:>8}')"
   ]
  },
  {
   "cell_type": "markdown",
   "metadata": {},
   "source": [
    "### Exemplo\n",
    "Os arquivos `mbox.txt` e `mbox-short.txt` contêm muitas mensagens de e-mail.   \n",
    "Por exemplo, estas são as primeiras linhas do arquivo `mbox-short.txt`:\n",
    "```\n",
    "From stephen.marquard@uct.ac.za Sat Jan  5 09:14:16 2008\n",
    "Return-Path: <postmaster@collab.sakaiproject.org>\n",
    "Received: from murder (mail.umich.edu [141.211.14.90])\n",
    "\t by frankenstein.mail.umich.edu (Cyrus v2.3.8) with LMTPA;\n",
    "\t Sat, 05 Jan 2008 09:14:16 -0500\n",
    "X-Sieve: CMU Sieve 2.3\n",
    "Received: from murder ([unix socket])\n",
    "\t by mail.umich.edu (Cyrus v2.2.12) with LMTPA;\n",
    "\t Sat, 05 Jan 2008 09:14:16 -0500\n",
    "Received: from holes.mr.itd.umich.edu (holes.mr.itd.umich.edu [141.211.14.79])\n",
    "```"
   ]
  },
  {
   "cell_type": "markdown",
   "metadata": {},
   "source": [
    "Nesse arquivo, a primeira linha de uma mensagem sempre começa por `From:`.    \n",
    "Quantas mensagens há no arquivo?"
   ]
  },
  {
   "cell_type": "code",
   "execution_count": 19,
   "metadata": {},
   "outputs": [
    {
     "name": "stdout",
     "output_type": "stream",
     "text": [
      "Há 1797 linhas que começam por 'From:'\n"
     ]
    }
   ],
   "source": [
    "arq = open('../data/mbox.txt')\n",
    "núm_emails = 0\n",
    "for linha in arq:\n",
    "    if linha.startswith('From:'):\n",
    "        núm_emails += 1\n",
    "print(f\"Há {núm_emails} linhas que começam por 'From:'\")\n",
    "arq.close()"
   ]
  },
  {
   "cell_type": "code",
   "execution_count": 20,
   "metadata": {},
   "outputs": [
    {
     "name": "stdout",
     "output_type": "stream",
     "text": [
      "   1 From: stephen.marquard@uct.ac.za\n",
      "\n",
      " 201 From: cwen@iupui.edu\n",
      "\n",
      " 401 From: gjthomas@iupui.edu\n",
      "\n",
      " 601 From: jimeng@umich.edu\n",
      "\n",
      " 801 From: aaronz@vt.edu\n",
      "\n",
      "1001 From: ian@caret.cam.ac.uk\n",
      "\n",
      "1201 From: david.horwitz@uct.ac.za\n",
      "\n",
      "1401 From: mmmay@indiana.edu\n",
      "\n",
      "1601 From: mmmay@indiana.edu\n",
      "\n",
      "1797\n"
     ]
    }
   ],
   "source": [
    "arq = open('../data/mbox.txt')\n",
    "núm_emails = 0\n",
    "for linha in arq:\n",
    "    if linha.startswith('From:'):\n",
    "        núm_emails += 1\n",
    "        if núm_emails % 200 == 1:\n",
    "            print(f'{núm_emails:4} {linha}')\n",
    "print(f'{núm_emails:4}')\n",
    "arq.close()"
   ]
  },
  {
   "cell_type": "markdown",
   "metadata": {},
   "source": [
    "Por que as linhas estão com espaçamento duplo?"
   ]
  },
  {
   "cell_type": "markdown",
   "metadata": {},
   "source": [
    "Porque já vêm do arquivo com um `'\\n'` no final e, depois, `print` acrescenta mais um...\n",
    "\n",
    "Para evitar esse inconveniente, aplicamos o método `rstrip()` à `linha`, que remove *espaços em branco* do final da cadeia.   \n",
    "Lembre-se de que `'\\n'` é considerado *espaço em branco*."
   ]
  },
  {
   "cell_type": "code",
   "execution_count": 21,
   "metadata": {},
   "outputs": [
    {
     "name": "stdout",
     "output_type": "stream",
     "text": [
      "   1 From: stephen.marquard@uct.ac.za\n",
      " 201 From: cwen@iupui.edu\n",
      " 401 From: gjthomas@iupui.edu\n",
      " 601 From: jimeng@umich.edu\n",
      " 801 From: aaronz@vt.edu\n",
      "1001 From: ian@caret.cam.ac.uk\n",
      "1201 From: david.horwitz@uct.ac.za\n",
      "1401 From: mmmay@indiana.edu\n",
      "1601 From: mmmay@indiana.edu\n",
      "1797\n"
     ]
    }
   ],
   "source": [
    "arq = open('../data/mbox.txt')\n",
    "núm_emails = 0\n",
    "for linha in arq:\n",
    "    if linha.startswith('From:'):\n",
    "        núm_emails += 1\n",
    "        if núm_emails % 200 == 1:\n",
    "            print(f'{núm_emails:4} {linha.rstrip()}')\n",
    "print(f'{núm_emails:4}')\n",
    "arq.close()"
   ]
  },
  {
   "cell_type": "markdown",
   "metadata": {},
   "source": [
    "Um outro jeito de separar os endereços de email..."
   ]
  },
  {
   "cell_type": "code",
   "execution_count": 22,
   "metadata": {},
   "outputs": [
    {
     "name": "stdout",
     "output_type": "stream",
     "text": [
      "     1  stephen.marquard@uct.ac.za\n",
      "   201  cwen@iupui.edu\n",
      "   401  gjthomas@iupui.edu\n",
      "   601  jimeng@umich.edu\n",
      "   801  aaronz@vt.edu\n",
      "  1001  ian@caret.cam.ac.uk\n",
      "  1201  david.horwitz@uct.ac.za\n",
      "  1401  mmmay@indiana.edu\n",
      "  1601  mmmay@indiana.edu\n",
      "  1797\n"
     ]
    }
   ],
   "source": [
    "arq = open('../data/mbox.txt')\n",
    "núm_emails = 0\n",
    "for linha in arq:\n",
    "    linha = linha.rstrip()\n",
    "    if linha.startswith('From:'):\n",
    "        núm_emails += 1\n",
    "        if núm_emails % 200 == 1:\n",
    "            palavras = linha.split()\n",
    "            print(f'{núm_emails:6}  {palavras[1]}')\n",
    "print(f'{núm_emails:6}')"
   ]
  },
  {
   "cell_type": "markdown",
   "metadata": {},
   "source": [
    "E se quiséssemos saber quantos foram os remetentes distintos?"
   ]
  },
  {
   "cell_type": "markdown",
   "metadata": {},
   "source": [
    "Basta criar um conjunto ou um dicionário, que são estruturas cujos elementos são sempre distintos. "
   ]
  },
  {
   "cell_type": "code",
   "execution_count": 23,
   "metadata": {},
   "outputs": [
    {
     "name": "stdout",
     "output_type": "stream",
     "text": [
      "  1 a.fish@lancaster.ac.uk\n",
      "  2 aaronz@vt.edu\n",
      "  3 ajpoland@iupui.edu\n",
      "  4 antranig@caret.cam.ac.uk\n",
      "  5 arwhyte@umich.edu\n",
      "  6 bahollad@indiana.edu\n",
      "  7 bkirschn@umich.edu\n",
      "  8 chmaurer@iupui.edu\n",
      "  9 colin.clark@utoronto.ca\n",
      " 10 csev@umich.edu\n",
      " 11 cwen@iupui.edu\n",
      " 12 david.horwitz@uct.ac.za\n",
      " 13 dlhaines@umich.edu\n",
      " 14 gbhatnag@umich.edu\n",
      " 15 ggolden@umich.edu\n",
      " 16 gjthomas@iupui.edu\n",
      " 17 gopal.ramasammycook@gmail.com\n",
      " 18 gsilver@umich.edu\n",
      " 19 hu2@iupui.edu\n",
      " 20 ian@caret.cam.ac.uk\n",
      " 21 jimeng@umich.edu\n",
      " 22 jleasia@umich.edu\n",
      " 23 jlrenfro@ucdavis.edu\n",
      " 24 john.ellis@rsmart.com\n",
      " 25 josrodri@iupui.edu\n",
      " 26 jzaremba@unicon.net\n",
      " 27 kimsooil@bu.edu\n",
      " 28 knoop@umich.edu\n",
      " 29 ktsao@stanford.edu\n",
      " 30 lance@indiana.edu\n",
      " 31 louis@media.berkeley.edu\n",
      " 32 mbreuker@loi.nl\n",
      " 33 mmmay@indiana.edu\n",
      " 34 nuno@ufp.pt\n",
      " 35 ostermmg@whitman.edu\n",
      " 36 ray@media.berkeley.edu\n",
      " 37 rjlowe@iupui.edu\n",
      " 38 sgithens@caret.cam.ac.uk\n",
      " 39 ssmail@indiana.edu\n",
      " 40 stephen.marquard@uct.ac.za\n",
      " 41 stuart.freeman@et.gatech.edu\n",
      " 42 thoppaymallika@fhda.edu\n",
      " 43 tnguyen@iupui.edu\n",
      " 44 wagnermr@iupui.edu\n",
      " 45 zach.thomas@txstate.edu\n",
      " 46 zqian@umich.edu\n"
     ]
    }
   ],
   "source": [
    "arq = open('../data/mbox.txt')\n",
    "\n",
    "remetentes = set()\n",
    "for linha in arq:\n",
    "    if linha.startswith('From:'):\n",
    "        remetentes.add(linha.split()[1])\n",
    "\n",
    "i = 0\n",
    "for remetente in sorted(remetentes):\n",
    "    i += 1\n",
    "    print(f'{i:3} {remetente}')\n",
    "arq.close()"
   ]
  },
  {
   "cell_type": "markdown",
   "metadata": {},
   "source": [
    "E se quisermos apenas os remetentes distintos com domínio `@umich.edu`?"
   ]
  },
  {
   "cell_type": "code",
   "execution_count": 24,
   "metadata": {},
   "outputs": [
    {
     "name": "stdout",
     "output_type": "stream",
     "text": [
      "  1 arwhyte@umich.edu\n",
      "  2 bkirschn@umich.edu\n",
      "  3 csev@umich.edu\n",
      "  4 dlhaines@umich.edu\n",
      "  5 gbhatnag@umich.edu\n",
      "  6 ggolden@umich.edu\n",
      "  7 gsilver@umich.edu\n",
      "  8 jimeng@umich.edu\n",
      "  9 jleasia@umich.edu\n",
      " 10 knoop@umich.edu\n",
      " 11 zqian@umich.edu\n"
     ]
    }
   ],
   "source": [
    "arq = open('../data/mbox.txt')\n",
    "\n",
    "remetentes = set()\n",
    "for linha in arq:\n",
    "    if (linha.startswith('From:')\n",
    "        and linha.find('@umich.edu') != -1):\n",
    "        remetentes.add(linha.split()[1])\n",
    "\n",
    "i = 0\n",
    "for remetente in sorted(remetentes):\n",
    "    i += 1\n",
    "    print(f'{i:3} {remetente}')\n",
    "arq.close()"
   ]
  },
  {
   "cell_type": "markdown",
   "metadata": {},
   "source": [
    "Nesse arquivo, nem todos os endereços de email são de remententes.    \n",
    "E se quiséssemos conhecer todos eles?"
   ]
  },
  {
   "cell_type": "markdown",
   "metadata": {},
   "source": [
    "Precisaríamos localizá-los em cada uma das linhas do arquivo.   \n",
    "Para isso vamos criar uma *expressão regular* que defina um endereço de email válido e usá-la como argumento numa chamada da função `search()`.\n",
    "\n",
    "Se o arquivo pudesse conter mais de um endereço de email na mesma linha, deveríamos usar `findall` e não `search`."
   ]
  },
  {
   "cell_type": "code",
   "execution_count": 25,
   "metadata": {},
   "outputs": [
    {
     "name": "stdout",
     "output_type": "stream",
     "text": [
      "   1 source@collab.sakaiproject.org\n",
      " 501 david.horwitz@uct.ac.za\n",
      "1001 cwen@iupui.edu\n",
      "1501 source@collab.sakaiproject.org\n",
      "2001 zqian@umich.edu\n",
      "2501 source@collab.sakaiproject.org\n",
      "3001 ian@caret.cam.ac.uk\n",
      "3501 jimeng@umich.edu\n",
      "4001 source@collab.sakaiproject.org\n",
      "4501 sgithens@caret.cam.ac.uk\n",
      "5001 zqian@umich.edu\n",
      "5392\n"
     ]
    }
   ],
   "source": [
    "import re\n",
    "email_regex = r\"([a-zA-Z0-9_.+-]+@[a-zA-Z0-9-]+\\.[a-zA-Z0-9-.]+)$\"\n",
    "\n",
    "arq = open('../data/mbox.txt')\n",
    "seq = 0\n",
    "for linha in arq:\n",
    "    endereço = re.search(email_regex, linha, re.I)\n",
    "    if endereço:\n",
    "        seq += 1\n",
    "        if seq % 500 == 1:\n",
    "            print(f'{seq:4} {endereço.group(1)}')\n",
    "print(f'{seq:4}')\n",
    "arq.close()"
   ]
  },
  {
   "cell_type": "markdown",
   "metadata": {},
   "source": [
    "Novamente, se quisermos endereços únicos precisaremos reuni-los em um conjunto ou dicionário, que são estruturas sem elementos repetidos."
   ]
  },
  {
   "cell_type": "code",
   "execution_count": 26,
   "metadata": {},
   "outputs": [
    {
     "name": "stdout",
     "output_type": "stream",
     "text": [
      "   1 a.fish@lancaster.ac.uk\n",
      "   6 bahollad@indiana.edu\n",
      "  11 cwen@iupui.edu\n",
      "  16 gjthomas@iupui.edu\n",
      "  21 jimeng@umich.edu\n",
      "  26 jzaremba@unicon.net\n",
      "  31 louis@media.berkeley.edu\n",
      "  36 ray@media.berkeley.edu\n",
      "  41 stephen.marquard@uct.ac.za\n",
      "  46 zach.thomas@txstate.edu\n",
      "  47\n"
     ]
    }
   ],
   "source": [
    "import re\n",
    "email_regex = r\"([a-zA-Z0-9_.+-]+@[a-zA-Z0-9-]+\\.[a-zA-Z0-9-.]+)$\"\n",
    "\n",
    "arq = open('../data/mbox.txt')\n",
    "endereços = set()\n",
    "for linha in arq:\n",
    "    endereço = re.search(email_regex, linha, re.I)\n",
    "    if endereço:\n",
    "        endereços.add(endereço.group(1))\n",
    "        \n",
    "seq = 0\n",
    "for endereço in sorted(endereços):\n",
    "    seq += 1\n",
    "    if seq % 5 == 1:\n",
    "        print(f'{seq:4} {endereço}')\n",
    "print(f'{seq:4}')\n",
    "arq.close()"
   ]
  },
  {
   "cell_type": "code",
   "execution_count": null,
   "metadata": {},
   "outputs": [],
   "source": []
  }
 ],
 "metadata": {
  "kernelspec": {
   "display_name": "Python 3",
   "language": "python",
   "name": "python3"
  },
  "language_info": {
   "codemirror_mode": {
    "name": "ipython",
    "version": 3
   },
   "file_extension": ".py",
   "mimetype": "text/x-python",
   "name": "python",
   "nbconvert_exporter": "python",
   "pygments_lexer": "ipython3",
   "version": "3.6.4"
  }
 },
 "nbformat": 4,
 "nbformat_minor": 2
}
