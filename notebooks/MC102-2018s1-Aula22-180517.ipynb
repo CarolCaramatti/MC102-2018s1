{
 "cells": [
  {
   "cell_type": "code",
   "execution_count": 1,
   "metadata": {
    "ExecuteTime": {
     "end_time": "2018-04-26T01:12:04.093689Z",
     "start_time": "2018-04-26T01:12:04.090231Z"
    },
    "init_cell": true
   },
   "outputs": [],
   "source": [
    "from IPython.core.interactiveshell import InteractiveShell\n",
    "InteractiveShell.ast_node_interactivity = \"all\""
   ]
  },
  {
   "cell_type": "code",
   "execution_count": 2,
   "metadata": {},
   "outputs": [],
   "source": [
    "from time import perf_counter\n",
    "from random import shuffle"
   ]
  },
  {
   "cell_type": "markdown",
   "metadata": {},
   "source": [
    "# Busca"
   ]
  },
  {
   "cell_type": "markdown",
   "metadata": {},
   "source": [
    "## Introdução\n",
    "A exemplo do que acontece na ordenação, Python também tem um recurso poderoso para buscas: o operador `in`."
   ]
  },
  {
   "cell_type": "code",
   "execution_count": 3,
   "metadata": {},
   "outputs": [
    {
     "data": {
      "text/plain": [
       "True"
      ]
     },
     "execution_count": 3,
     "metadata": {},
     "output_type": "execute_result"
    }
   ],
   "source": [
    "5 in [1, 3, 5, 7, 9]"
   ]
  },
  {
   "cell_type": "code",
   "execution_count": 4,
   "metadata": {},
   "outputs": [
    {
     "data": {
      "text/plain": [
       "True"
      ]
     },
     "execution_count": 4,
     "metadata": {},
     "output_type": "execute_result"
    }
   ],
   "source": [
    "'a' in 'ortogonal'"
   ]
  },
  {
   "cell_type": "code",
   "execution_count": 5,
   "metadata": {},
   "outputs": [
    {
     "data": {
      "text/plain": [
       "False"
      ]
     },
     "execution_count": 5,
     "metadata": {},
     "output_type": "execute_result"
    }
   ],
   "source": [
    "3 in (2, 4, 6, 8)"
   ]
  },
  {
   "cell_type": "code",
   "execution_count": 6,
   "metadata": {},
   "outputs": [
    {
     "data": {
      "text/plain": [
       "True"
      ]
     },
     "execution_count": 6,
     "metadata": {},
     "output_type": "execute_result"
    }
   ],
   "source": [
    "'abc' in {'xyz': 2, 'aeiou':1, 'abc':0}"
   ]
  },
  {
   "cell_type": "markdown",
   "metadata": {},
   "source": [
    "No caso geral, um problema de busca consiste em, dada um valor e uma coleção de objetos cujos atributos incluem uma *chave*, encontrar nessa coleção um ou mais objetos cujas chaves sejam iguais ao valor dado.   \n",
    "\n",
    "Neste caso, nos interessa conhecer e comparar alguns algoritmos de busca clássicos.    \n",
    "Embora esses algoritmos sejam aplicáveis a qualquer coleção cujos itens possam ser comparados, os exemplos usarão listas de inteiros e como chaves os próprios valores dos itens."
   ]
  },
  {
   "cell_type": "markdown",
   "metadata": {},
   "source": [
    "## Busca sequencial\n",
    "Numa busca sequencial, as chaves dos itens da coleção são comparadas uma a uma com o valor dado, até que a igualdade entre eles seja satisfeita ou a coleção se esgote."
   ]
  },
  {
   "cell_type": "markdown",
   "metadata": {},
   "source": [
    "Se estivermos interessados apenas em saber se existe ou não algum item cuja chave seja igual ao valor dado, esse raciocínio pode ser implementado diretamente por um `while`, como no exemplo abaixo."
   ]
  },
  {
   "cell_type": "code",
   "execution_count": 7,
   "metadata": {},
   "outputs": [],
   "source": [
    "def busca_sequencial(valor, coleção):\n",
    "    i, achei = 0, False\n",
    "    while not achei and i < len(coleção):\n",
    "        if v == coleção[i]:\n",
    "            achei = True\n",
    "        else:\n",
    "            i += 1\n",
    "    return achei"
   ]
  },
  {
   "cell_type": "code",
   "execution_count": 8,
   "metadata": {},
   "outputs": [
    {
     "data": {
      "text/plain": [
       "[1, 3, 5]"
      ]
     },
     "execution_count": 8,
     "metadata": {},
     "output_type": "execute_result"
    },
    {
     "name": "stdout",
     "output_type": "stream",
     "text": [
      "False True False True False True \n"
     ]
    }
   ],
   "source": [
    "col = [x for x in range(1, 6, 2)]\n",
    "col\n",
    "\n",
    "for v in range(6):\n",
    "    print(busca_sequencial(v, col), end = ' ')\n",
    "print()"
   ]
  },
  {
   "cell_type": "markdown",
   "metadata": {},
   "source": [
    "Com uma pequena adaptação, esse algoritmo pode indicar também o índice do item cuja chave tem o valor procurado, como mostra o exemplo abaixo."
   ]
  },
  {
   "cell_type": "code",
   "execution_count": 9,
   "metadata": {},
   "outputs": [],
   "source": [
    "def busca_sequencial(valor, coleção):\n",
    "    i, achei = 0, False\n",
    "    while not achei and i < len(coleção):\n",
    "        if v == coleção[i]:\n",
    "            achei = True\n",
    "        else:\n",
    "            i += 1\n",
    "    if achei:\n",
    "        return i\n",
    "    else:\n",
    "        return None"
   ]
  },
  {
   "cell_type": "code",
   "execution_count": 10,
   "metadata": {},
   "outputs": [
    {
     "data": {
      "text/plain": [
       "[1, 3, 5]"
      ]
     },
     "execution_count": 10,
     "metadata": {},
     "output_type": "execute_result"
    },
    {
     "name": "stdout",
     "output_type": "stream",
     "text": [
      "None 0 None 1 None 2 \n"
     ]
    }
   ],
   "source": [
    "col = [x for x in range(1, 6, 2)]\n",
    "col\n",
    "\n",
    "for v in range(6):\n",
    "    print(busca_sequencial(v, col), end = ' ')\n",
    "print()"
   ]
  },
  {
   "cell_type": "markdown",
   "metadata": {},
   "source": [
    "O desempenho do algoritmo de busca sequencial pode ser resumido como mostra a tabela abaixo:\n",
    "\\begin{array}{ l | c | c | c |}\n",
    "    \\textsf{Caso} & \\textsf{Melhor} & \\textsf{Pior} & \\textsf{Médio} \\\\\n",
    "    \\hline\n",
    "    \\textrm{item está presente}     & 1 & n & \\frac{n}{2}  \\\\\n",
    "    \\textrm{item não está presente} & n & n & n\n",
    "\\end{array}"
   ]
  },
  {
   "cell_type": "markdown",
   "metadata": {},
   "source": [
    "Quando a coleção está ordenada, é possível melhorar o desempenho do algoritmo nos casos em que o item não existe porque, em vez de percorrer a coleção completa, é possível interromper a busca assim que for encontrado um item cuja chave é maior do que o valor procurado."
   ]
  },
  {
   "cell_type": "code",
   "execution_count": 11,
   "metadata": {},
   "outputs": [],
   "source": [
    "def busca_sequencial(valor, coleção):\n",
    "    i, achei, chega = 0, False, False\n",
    "    while not achei and not chega and i < len(coleção):\n",
    "        if valor == coleção[i]:\n",
    "            achei = True\n",
    "        elif valor < coleção[i]:\n",
    "            chega = True\n",
    "        else:\n",
    "            i += 1\n",
    "    if achei:\n",
    "        return i\n",
    "    else:\n",
    "        return None"
   ]
  },
  {
   "cell_type": "code",
   "execution_count": 12,
   "metadata": {},
   "outputs": [
    {
     "data": {
      "text/plain": [
       "[1, 3, 5]"
      ]
     },
     "execution_count": 12,
     "metadata": {},
     "output_type": "execute_result"
    },
    {
     "name": "stdout",
     "output_type": "stream",
     "text": [
      "None 0 None 1 None 2 \n"
     ]
    },
    {
     "data": {
      "text/plain": [
       "[1, 3, 5]"
      ]
     },
     "execution_count": 12,
     "metadata": {},
     "output_type": "execute_result"
    }
   ],
   "source": [
    "col = [x for x in range(1, 6, 2)]\n",
    "col\n",
    "\n",
    "for v in range(6):\n",
    "    print(busca_sequencial(v, col), end = ' ')\n",
    "print()\n",
    "\n",
    "col"
   ]
  },
  {
   "cell_type": "markdown",
   "metadata": {},
   "source": [
    "Com essa alteração, o desempenho do algoritmo de busca sequencial passa a ser\n",
    "\\begin{array}{ l | c | c | c |}\n",
    "    \\textsf{Caso} & \\textsf{Melhor} & \\textsf{Pior} & \\textsf{Médio} \\\\\n",
    "    \\hline\n",
    "    \\textrm{item está presente}     & 1 & n & \\frac{n}{2}  \\\\\n",
    "    \\textrm{item não está presente} & 1 & n & \\frac{n}{2}\n",
    "\\end{array}"
   ]
  },
  {
   "cell_type": "markdown",
   "metadata": {},
   "source": [
    "## Busca binária\n",
    "O modelo de busca binária aplica-se apenas a coleções ordenadas. O valor procurado é comparado com a chave do elemento central da coleção.    \n",
    "Se forem iguais, o problema está resolvido.   \n",
    "Se forem diferentes, e como a coleção está ordenada, uma das metades da coleção pode ser descartada com segurança.   \n",
    "Como o tamanho do trecho que deve ser examinado se reduz à metade a cada passo do algoritmo, o número máximo de passos para uma coleção com $n$ itens será $\\log_2{n}$ e, portanto, a complexidade do algoritmo será $\\mathcal{O}(log_2{n}).$ "
   ]
  },
  {
   "cell_type": "code",
   "execution_count": 13,
   "metadata": {},
   "outputs": [],
   "source": [
    "def busca_binária(valor, coleção, esq=0, dir=None):\n",
    "    if dir is None:\n",
    "        dir = len(coleção) - 1\n",
    "    if (dir < esq):\n",
    "        return False\n",
    "    else:\n",
    "        med = (esq + dir) // 2\n",
    "        if valor == coleção[med]:\n",
    "            return True\n",
    "        elif valor > coleção[med]:\n",
    "            return busca_binária(valor, coleção, med + 1, dir)\n",
    "        else:\n",
    "            return busca_binária(valor, coleção, esq, med - 1)"
   ]
  },
  {
   "cell_type": "code",
   "execution_count": 14,
   "metadata": {},
   "outputs": [
    {
     "data": {
      "text/plain": [
       "[1, 3, 5]"
      ]
     },
     "execution_count": 14,
     "metadata": {},
     "output_type": "execute_result"
    },
    {
     "name": "stdout",
     "output_type": "stream",
     "text": [
      "False True False True False True \n"
     ]
    },
    {
     "data": {
      "text/plain": [
       "[1, 3, 5]"
      ]
     },
     "execution_count": 14,
     "metadata": {},
     "output_type": "execute_result"
    }
   ],
   "source": [
    "col = [x for x in range(1, 6, 2)]\n",
    "col\n",
    "\n",
    "for v in range(6):\n",
    "    print(busca_binária(v, col), end = ' ')\n",
    "print()\n",
    "\n",
    "col"
   ]
  },
  {
   "cell_type": "markdown",
   "metadata": {},
   "source": [
    "Chamadas recursivas no final de uma função caracterizam “*recursividade de cauda*”, que é fácil de remover..."
   ]
  },
  {
   "cell_type": "code",
   "execution_count": 15,
   "metadata": {},
   "outputs": [],
   "source": [
    "def busca_binária(valor, coleção, esq=0, dir=None):\n",
    "    if dir is None:\n",
    "        dir = len(coleção) - 1\n",
    "    achei = False\n",
    "    while not achei and esq <= dir:\n",
    "        med = (esq + dir) // 2\n",
    "        if valor == coleção[med]:\n",
    "            achei = True\n",
    "        elif valor > coleção[med]:\n",
    "            esq = med + 1\n",
    "        else:\n",
    "            dir = med - 1\n",
    "    return achei"
   ]
  },
  {
   "cell_type": "code",
   "execution_count": 16,
   "metadata": {},
   "outputs": [
    {
     "data": {
      "text/plain": [
       "[1, 3, 5]"
      ]
     },
     "execution_count": 16,
     "metadata": {},
     "output_type": "execute_result"
    },
    {
     "name": "stdout",
     "output_type": "stream",
     "text": [
      "False True False True False True \n"
     ]
    },
    {
     "data": {
      "text/plain": [
       "[1, 3, 5]"
      ]
     },
     "execution_count": 16,
     "metadata": {},
     "output_type": "execute_result"
    }
   ],
   "source": [
    "col = [x for x in range(1, 6, 2)]\n",
    "col\n",
    "\n",
    "for v in range(6):\n",
    "    print(busca_binária(v, col), end = ' ')\n",
    "print()\n",
    "\n",
    "col"
   ]
  },
  {
   "cell_type": "markdown",
   "metadata": {},
   "source": [
    "Agora vamos comparar o desempenho desses três algoritmos..."
   ]
  },
  {
   "cell_type": "code",
   "execution_count": 17,
   "metadata": {},
   "outputs": [],
   "source": [
    "def busca_sequencial(valor, coleção):\n",
    "    i, achei = 0, False\n",
    "    while not achei and i < len(coleção):\n",
    "        if valor == coleção[i]:\n",
    "            achei = True\n",
    "        else:\n",
    "            i += 1\n",
    "    return achei"
   ]
  },
  {
   "cell_type": "code",
   "execution_count": 18,
   "metadata": {},
   "outputs": [],
   "source": [
    "def busca_sequencial_ordenada(valor, coleção):\n",
    "    i, achei, chega = 0, False, False\n",
    "    while not achei and not chega and i < len(coleção):\n",
    "        if valor == coleção[i]:\n",
    "            achei = True\n",
    "        elif valor < coleção[i]:\n",
    "            chega = True\n",
    "        else:\n",
    "            i += 1\n",
    "    return achei"
   ]
  },
  {
   "cell_type": "code",
   "execution_count": 19,
   "metadata": {},
   "outputs": [],
   "source": [
    "def busca_binária(valor, coleção, esq=0, dir=None):\n",
    "    if dir is None:\n",
    "        dir = len(coleção) - 1\n",
    "    achei = False\n",
    "    while not achei and esq <= dir:\n",
    "        med = (esq + dir) // 2\n",
    "        if valor == coleção[med]:\n",
    "            achei = True\n",
    "        elif valor > coleção[med]:\n",
    "            esq = med + 1\n",
    "        else:\n",
    "            dir = med - 1\n",
    "    return achei"
   ]
  },
  {
   "cell_type": "markdown",
   "metadata": {},
   "source": [
    "Para o teste, vamos criar uma lista com os $n$ primeiros números ímpares e depois “embaralhá-la”.    \n",
    "Em seguida, faremos buscas com os $2 \\times n$ primeiros inteiros. Vamos calcular e exibir o tempo gasto e o número de fracassos e sucessos nessas buscas."
   ]
  },
  {
   "cell_type": "code",
   "execution_count": 20,
   "metadata": {},
   "outputs": [
    {
     "name": "stdout",
     "output_type": "stream",
     "text": [
      "      n     busca sequencial           busca seq ordenada         busca binária         \n",
      "     10     0.000030[10, 10]           0.000027[10, 10]           0.000022[10, 10]      \n",
      "    100     0.002151[100, 100]         0.001895[100, 100]         0.000305[100, 100]    \n",
      "   1000     0.204131[1000, 1000]       0.179944[1000, 1000]       0.003906[1000, 1000]  \n",
      "  10000    21.090964[10000, 10000]    18.404745[10000, 10000]     0.055875[10000, 10000]\n"
     ]
    }
   ],
   "source": [
    "print(f\"{'n':>7}  {'   busca sequencial':25}\" +  \\\n",
    "      f\"  {'   busca seq ordenada':25}  {'   busca binária':25}\")\n",
    "for i in range(1, 5):\n",
    "    n = 10 ** i\n",
    "    l = [2 * x + 1 for x in range(n)]\n",
    "    shuffle(l)\n",
    "    \n",
    "    qbs = [0, 0]\n",
    "    ini = perf_counter()\n",
    "    for k in range(2 * n):\n",
    "        qbs[busca_sequencial(k, l)] += 1\n",
    "    tbs = perf_counter() - ini\n",
    "\n",
    "    l.sort()\n",
    "\n",
    "    qbso = [0, 0]\n",
    "    ini = perf_counter()\n",
    "    for k in range(2 * n):\n",
    "        qbso[busca_sequencial_ordenada(k, l)] += 1\n",
    "    tbso = perf_counter() - ini\n",
    "\n",
    "    qbb = [0, 0]\n",
    "    ini = perf_counter()\n",
    "    for k in range(2 * n):\n",
    "        qbb[busca_binária(k, l)] += 1\n",
    "    tbb = perf_counter() - ini\n",
    "\n",
    "    print(f\"{n:7}  {tbs:11.6f}{str(qbs):14}  {tbso:11.6f}{str(qbso):14}  {tbb:11.6f}{str(qbb):14}\")"
   ]
  },
  {
   "cell_type": "markdown",
   "metadata": {},
   "source": [
    "Para comparação, vamos executar as mesmas buscas, usando o operador `in` sobre uma lista e uma lista ordenada construídas como no caso acima.    \n",
    "Finalmente, vamos criar um dicionário usando a representação textual dos $n$ primeiros ímpares como chave.   \n",
    "Os tempos e resultados serão calculados e exibidos como nos exemplos anteriores."
   ]
  },
  {
   "cell_type": "code",
   "execution_count": 21,
   "metadata": {},
   "outputs": [
    {
     "name": "stdout",
     "output_type": "stream",
     "text": [
      "      n     in (lista)                 in (lista ordenada)        in (dicionário)      \n",
      "     10     0.000005[10, 10]           0.000005[10, 10]           0.000008[10, 10]      \n",
      "    100     0.000162[100, 100]         0.000162[100, 100]         0.000066[100, 100]    \n",
      "   1000     0.014790[1000, 1000]       0.013565[1000, 1000]       0.000729[1000, 1000]  \n",
      "  10000     1.635501[10000, 10000]     1.367732[10000, 10000]     0.007261[10000, 10000]\n"
     ]
    }
   ],
   "source": [
    "print(f\"{'n':>7} {'    in (lista)':25}\" +  \\\n",
    "      f\"  {'    in (lista ordenada)':25}  {'    in (dicionário)':25}\")\n",
    "for i in range(1, 5):\n",
    "    n = 10 ** i\n",
    "    l = [2 * x + 1 for x in range(n)]\n",
    "    shuffle(l)\n",
    "    \n",
    "\n",
    "    dl = {}\n",
    "    for k in range(n):\n",
    "        dl[str(l[k])] = k\n",
    "    \n",
    "    \n",
    "    qin = [0, 0]\n",
    "    ini = perf_counter()\n",
    "    for k in range(2 * n):\n",
    "        qin[k in l] += 1\n",
    "    tin = perf_counter() - ini\n",
    "    \n",
    "    qdl = [0, 0]\n",
    "    ini = perf_counter()\n",
    "    for k in range(2 * n):\n",
    "        qdl[str(k) in dl] += 1\n",
    "    tdl = perf_counter() - ini\n",
    "\n",
    "    l.sort()\n",
    "\n",
    "    qino = [0, 0]\n",
    "    ini = perf_counter()\n",
    "    for k in range(2 * n):\n",
    "        qino[k in l] += 1\n",
    "    tino = perf_counter() - ini\n",
    "\n",
    "    print(f\"{n:7}  {tin:11.6f}{str(qin):14}  {tino:11.6f}{str(qino):14}\" + \\\n",
    "          f\"  {tdl:11.6f}{str(qdl):14}\")"
   ]
  },
  {
   "cell_type": "code",
   "execution_count": null,
   "metadata": {},
   "outputs": [],
   "source": []
  }
 ],
 "metadata": {
  "kernelspec": {
   "display_name": "Python 3",
   "language": "python",
   "name": "python3"
  },
  "language_info": {
   "codemirror_mode": {
    "name": "ipython",
    "version": 3
   },
   "file_extension": ".py",
   "mimetype": "text/x-python",
   "name": "python",
   "nbconvert_exporter": "python",
   "pygments_lexer": "ipython3",
   "version": "3.6.4"
  }
 },
 "nbformat": 4,
 "nbformat_minor": 2
}
