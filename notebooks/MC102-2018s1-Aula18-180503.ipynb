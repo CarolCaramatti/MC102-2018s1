{
 "cells": [
  {
   "cell_type": "code",
   "execution_count": 1,
   "metadata": {
    "ExecuteTime": {
     "end_time": "2018-04-26T01:12:04.093689Z",
     "start_time": "2018-04-26T01:12:04.090231Z"
    },
    "init_cell": true
   },
   "outputs": [],
   "source": [
    "from IPython.core.interactiveshell import InteractiveShell\n",
    "InteractiveShell.ast_node_interactivity = \"all\""
   ]
  },
  {
   "cell_type": "markdown",
   "metadata": {},
   "source": [
    "# Matrizes e Vetores Multidimensionais"
   ]
  },
  {
   "cell_type": "markdown",
   "metadata": {},
   "source": [
    "## Matrizes e Vetores Multidimensionais em Python\n",
    "\n",
    "-   Matrizes e Vetores Multidimensionais são generalizações de vetores simples vistos anteriormente.\n",
    "\n",
    "-   Suponha por exemplo que devamos armazenar as notas de cada aluno em cada laboratório de MC102.\n",
    "\n",
    "    Podemos alocar 15 vetores (um para cada lab) de tamanho 50 (tamanho da turma), onde cada vetor\n",
    "  representa as notas de um laboratório específico.\n",
    "\n",
    "    Matrizes e Vetores Multidimensionais permitem fazer a mesma coisa mas com todas as informações\n",
    "  sendo acessadas por um nome em comum (ao invés de 15 nomes distintos)."
   ]
  },
  {
   "cell_type": "markdown",
   "metadata": {},
   "source": [
    "### Criação de Matrizes\n",
    "\n",
    "#### Declarando uma matriz com listas\n",
    "\n",
    "-   Para criar uma matriz de dimensões $l \\times c$ inicialmente vazia podemos utilizar uma *“list comprehension”*.\n",
    "\n",
    "**Exemplo** de uma matriz $3 \\times 4$ inicialmente zerada:"
   ]
  },
  {
   "cell_type": "code",
   "execution_count": null,
   "metadata": {},
   "outputs": [],
   "source": [
    "# vamos criar uma matriz com 3 linhas vazias\n",
    "mat = [[] for i in range(3)]\n",
    "mat"
   ]
  },
  {
   "cell_type": "code",
   "execution_count": null,
   "metadata": {},
   "outputs": [],
   "source": [
    "# vamos preencher cada linha com 4 zeros\n",
    "mat = [[0 for j in range(4)] for i in range(3)]\n",
    "mat"
   ]
  },
  {
   "cell_type": "markdown",
   "metadata": {},
   "source": [
    "-   Lembre-se de que os indices de uma lista sempre começam em 0.\n",
    "-   Note que cada lista interna representa uma linha da matriz"
   ]
  },
  {
   "cell_type": "markdown",
   "metadata": {},
   "source": [
    "#### Exemplo de declaração de matriz\n",
    "\n",
    "-   Criar uma matriz $3 \\times 4$ onde cada posição $(i,j)$ contém o valor $i \\cdot j$."
   ]
  },
  {
   "cell_type": "code",
   "execution_count": null,
   "metadata": {},
   "outputs": [],
   "source": [
    "# Usando laços for:\n",
    "\n",
    "mat = []\n",
    "for i in range(3):         # para cada linha i de 0 até 2\n",
    "    l = []                 #    linha i começa vazia\n",
    "    for j in range(4):     #    para cada coluna j de 0 até 3\n",
    "        l.append(i * j)    #        preenche a coluna j da linha i\n",
    "    mat.append(l)          #adiciona linha i à matriz\n",
    "print(mat)"
   ]
  },
  {
   "cell_type": "code",
   "execution_count": null,
   "metadata": {},
   "outputs": [],
   "source": [
    "# Usando list comprehension:\n",
    "\n",
    "mat = [[i * j for j in range(4)] for i in range(3)]\n",
    "print(mat)"
   ]
  },
  {
   "cell_type": "markdown",
   "metadata": {},
   "source": [
    "### Acesso a elementos de uma matriz\n",
    "\n",
    "-   Em qualquer lugar onde você usaria uma variável no seu programa, você pode usar um elemento específico de uma matriz da seguinte forma:   \n",
    "    ```nome_da_matriz[ind_linha][ind_coluna]```   \n",
    "    onde ```ind_linha```  e ```ind_coluna``` são inteiros especificando a linha e a coluna a serem acessadas."
   ]
  },
  {
   "cell_type": "markdown",
   "metadata": {},
   "source": [
    "-   No exemplo abaixo é criada uma matriz $4 \\times 3$ inicializada com zeros, e depois\n",
    "  é atribuído o valor 23 para o elemento na 2ª linha e 3ª coluna."
   ]
  },
  {
   "cell_type": "code",
   "execution_count": null,
   "metadata": {},
   "outputs": [],
   "source": [
    "# cria matriz 10x20 toda com zeros\n",
    "mat = [[0 for j in range(4)] for i in range (3)]\n",
    "\n",
    "# atribui o valor 23 ao elemento na 2a linha, 3a coluna\n",
    "mat[1][2] = 23\n",
    "\n",
    "print(mat)"
   ]
  },
  {
   "cell_type": "markdown",
   "metadata": {},
   "source": [
    "-   Lembre-se de que, como a matriz está implementada com listas, a primeira posição de qualquer dimensão corresponde ao índice 0.   \n",
    "    Por exemplo, ```mat[1][2]``` refere-se ao elemento na 2ª linha e 3ª coluna da matriz ```mat```."
   ]
  },
  {
   "cell_type": "code",
   "execution_count": null,
   "metadata": {},
   "outputs": [],
   "source": [
    "print(mat[1][2])"
   ]
  },
  {
   "cell_type": "markdown",
   "metadata": {},
   "source": [
    "O acesso a posições inválidas causa um erro de execução.   \n",
    "Por exemplo, ..."
   ]
  },
  {
   "cell_type": "code",
   "execution_count": null,
   "metadata": {},
   "outputs": [],
   "source": [
    "mat[15][32]"
   ]
  },
  {
   "cell_type": "markdown",
   "metadata": {},
   "source": [
    "### Declarando Vetores Multidimensionais\n",
    "\n",
    "-   Podemos criar vetores multi-dimensionais utilizando listas de listas como no caso bidimensional.\n",
    "\n",
    "-   Para criar um vetor de dimensões $d_1 \\times d_2 \\ldots \\times d_l $ inicialmente vazio podemos \n",
    "    utilizar uma *“list comprehension”*:\n",
    "    $$ [\\, [ \\,[ \\,[\\,]\\, \\text{for}\\, i_{l-1} \\, \\text{in range}(d_{l-1}) \\, ] \\ldots \\, ] \\, \n",
    "    \\text{for}\\, i_2 \\, \\text{in range}(d_2)\\,] \\, \\text{for} \\, i_1 \\, \\text{ in range}(d_1)]\n",
    "    $$\n",
    "\n",
    "-   Exemplo de vetor $3 \\times 4 \\times 5$ inicialmente vazio"
   ]
  },
  {
   "cell_type": "code",
   "execution_count": null,
   "metadata": {},
   "outputs": [],
   "source": [
    "mat = [ [ [] for j in range(4) ] for i in range(3) ]\n",
    "mat"
   ]
  },
  {
   "cell_type": "markdown",
   "metadata": {},
   "source": [
    "-   Exemplo de vetor $3 \\times 4 \\times 5$ inicialmente zerado."
   ]
  },
  {
   "cell_type": "code",
   "execution_count": null,
   "metadata": {},
   "outputs": [],
   "source": [
    "mat = [ [ [0 for k in range(5)] for j in range(4) ] for i in range(3) ]\n",
    "mat"
   ]
  },
  {
   "cell_type": "markdown",
   "metadata": {},
   "source": [
    "### Operando sobre vetores multidimensionais\n",
    "\n",
    "Criar funções que executem operações básicas sobre matrizes quadradas:\n",
    "-   Soma de 2 matrizes com dimensão $n \\times n$.\n",
    "-   Subtração de 2 matrizes com dimensão $n \\times n$.\n",
    "-   Cálculo da transposta de uma matriz de dimensão $n \\times n$.\n",
    "-   Multiplicação de 2 matrizes com dimensão $n \\times n$."
   ]
  },
  {
   "cell_type": "markdown",
   "metadata": {},
   "source": [
    "#### Leitura de uma matriz n x n\n",
    "Vamos implementar uma função que faça a leitura de uma matriz com dimensão $n \\times n$:"
   ]
  },
  {
   "cell_type": "code",
   "execution_count": null,
   "metadata": {},
   "outputs": [],
   "source": [
    "# Função que lê uma matriz n x n do teclado, linha por linha\n",
    "def ler_matriz(n):\n",
    "    mat = [[] for i in range(n)]\n",
    "    for i in range(n):\n",
    "        aux = input(f'Linha {i}: ').split()\n",
    "        for j in range(n):\n",
    "            mat[i].append(float(aux[j]))\n",
    "    return mat"
   ]
  },
  {
   "cell_type": "code",
   "execution_count": null,
   "metadata": {},
   "outputs": [],
   "source": [
    "n = int(input('Dimensão da matriz: '))\n",
    "mat = ler_matriz(n)\n",
    "mat"
   ]
  },
  {
   "cell_type": "markdown",
   "metadata": {},
   "source": [
    "Ou, simplificando, com uma *“list comprehension”*..."
   ]
  },
  {
   "cell_type": "code",
   "execution_count": null,
   "metadata": {},
   "outputs": [],
   "source": [
    "# Função que lê uma matriz n x n do teclado, linha por linha\n",
    "def ler_matriz(n):\n",
    "    return [[float(x) for x in input(f'Linha {i}: ').split()] for i in range(n)]"
   ]
  },
  {
   "cell_type": "code",
   "execution_count": null,
   "metadata": {},
   "outputs": [],
   "source": [
    "n = int(input('Dimensão da matriz: '))\n",
    "mat = ler_matriz(n)\n",
    "mat"
   ]
  },
  {
   "cell_type": "markdown",
   "metadata": {},
   "source": [
    "#### Impressão de uma matriz n x n\n",
    "Vamos implementar uma função que faça a impressão de uma matriz com dimensão $n \\times n$:"
   ]
  },
  {
   "cell_type": "code",
   "execution_count": null,
   "metadata": {},
   "outputs": [],
   "source": [
    "# Função que exibe uma matriz n x n no terminal, linha por linha\n",
    "def exibir_matriz(mat):\n",
    "    for linha in mat:\n",
    "        print(linha)"
   ]
  },
  {
   "cell_type": "code",
   "execution_count": null,
   "metadata": {},
   "outputs": [],
   "source": [
    "exibir_matriz(mat)"
   ]
  },
  {
   "cell_type": "markdown",
   "metadata": {},
   "source": [
    "#### Exemplo: Soma de Matrizes n x n"
   ]
  },
  {
   "cell_type": "code",
   "execution_count": null,
   "metadata": {},
   "outputs": [],
   "source": [
    "def somar_matrizes(mat_a, mat_b):\n",
    "    n = len(mat_a)\n",
    "    mat_s = [[0 for j in range(n)] for i in range(n)]\n",
    "    for i in range(n):\n",
    "        for j in range(n):\n",
    "            mat_s[i][j] = mat_a[i][j] + mat_b[i][j]\n",
    "    return mat_s"
   ]
  },
  {
   "cell_type": "markdown",
   "metadata": {},
   "source": [
    "#### Exemplo: Multiplicação de Matrizes\n",
    "\n",
    "-   Vamos criar uma função que multiplique duas matrizes $ma$ e $mb$ (de dimensão $n \\times n$) e retorne o  resultado em uma terceira matriz $mc$.\n",
    "-   Lembre-se de que uma posição $(i,j)$ de $mc$ terá o produto interno do vetor linha $i$\n",
    "de $ma$ pelo vetor coluna $j$ de $mb$:\n",
    "$$ mc_{i\\,j} = \\sum_{k=0}^{n-1} ma_{i\\,k} \\cdot mb_{k\\,j} $$"
   ]
  },
  {
   "cell_type": "markdown",
   "metadata": {},
   "source": [
    "-   Na implementação, para cada posição $[i,j]$ de $mc$\n",
    "devemos computar\n",
    "$$ mc[i,j] = \\sum_{k=0}^{n-1} ma[i,k] \\cdot mb[k,j]$$\n",
    "-   Assim, nossa função poderá ser..."
   ]
  },
  {
   "cell_type": "code",
   "execution_count": null,
   "metadata": {},
   "outputs": [],
   "source": [
    "def multiplicar_matrizes(ma, mb):\n",
    "    n = len(ma)\n",
    "    mc = [[0 for j in range(n) ] for i in range(n)]\n",
    "    for i in range(n):\n",
    "        for j in range(n):\n",
    "            for k in range(n): #calcula prod. interno da linha i por coluna j\n",
    "                mc[i][j] += ma[i][k] * mb[k][j]\n",
    "    return mc"
   ]
  },
  {
   "cell_type": "code",
   "execution_count": null,
   "metadata": {},
   "outputs": [],
   "source": [
    "#n = int(input('Dimensão da matriz: '))\n",
    "n = 3\n",
    "# ma = ler_matriz(n)\n",
    "ma = [[1, 2, 3], [0, 1, 4], [5, 6, 0]]\n",
    "\n",
    "# mb = ler_matriz(n)\n",
    "mb = [[-24, 18, 5], [20, -15, -4], [-5, 4, 1]]\n",
    "\n",
    "mc = multiplicar_matrizes(ma, mb)\n",
    "\n",
    "exibir_matriz(mc)"
   ]
  },
  {
   "cell_type": "markdown",
   "metadata": {},
   "source": [
    "#### Exemplo: Cálculo da transposta de uma matriz n x n\n",
    "-   Escrever uma função que calcule a transposta de uma matriz $n \\times n$.   \n",
    "\n",
    "-   A transposta de uma matriz $ma$ é uma matriz $mt$ tal que $mt_{i\\,j} = ma_{j\\,i}$ \n",
    "    para $0 \\le i \\lt n$ e $0 \\le j \\lt n$."
   ]
  },
  {
   "cell_type": "code",
   "execution_count": null,
   "metadata": {},
   "outputs": [],
   "source": [
    "def transposta(ma):\n",
    "    n = len(ma)\n",
    "    mt = [[0 for j in range(n)] for i in range(n)]\n",
    "    for i in range(n):\n",
    "        for j in range(n):\n",
    "            mt[i][j] = ma[j][i]\n",
    "    return mt"
   ]
  },
  {
   "cell_type": "code",
   "execution_count": null,
   "metadata": {},
   "outputs": [],
   "source": [
    "ma = [[1, 2, 3], [0, 1, 4], [5, 6, 0]]\n",
    "print(transposta(ma))"
   ]
  },
  {
   "cell_type": "markdown",
   "metadata": {},
   "source": [
    "Ou usando uma *“list comprehension”*..."
   ]
  },
  {
   "cell_type": "code",
   "execution_count": null,
   "metadata": {},
   "outputs": [],
   "source": [
    "ma = [[1, 2, 3], [0, 1, 4], [5, 6, 0]]\n",
    "n = len(ma)\n",
    "\n",
    "mt = [[linha[i] for linha in ma] for i in range(n)]\n",
    "print(mt)"
   ]
  },
  {
   "cell_type": "markdown",
   "metadata": {},
   "source": [
    "## Vetores multidimensionais homogêneos mais eficientes com NumPy\n",
    "\n",
    "-   NumPy é um módulo para Python desenvolvido para tratar eficientemente vetores multidimensionais homogêneos.   \n",
    "    Para que NumPy possa ser usado em um programa, é preciso importar o módulo ```numpy```.   \n",
    "    Por exemplo..."
   ]
  },
  {
   "cell_type": "code",
   "execution_count": 13,
   "metadata": {},
   "outputs": [],
   "source": [
    "import numpy as np"
   ]
  },
  {
   "cell_type": "markdown",
   "metadata": {},
   "source": [
    "-   Um vetor multidimensional homogêneo é uma\n",
    "tabela de elementos (geralmente números), todos do mesmo tipo, indexados por um\n",
    "tupla de inteiros positivos.\n",
    "\n",
    "-   Em NumPy, as dimensões são chamadas *eixos*.\n",
    "\n",
    "-   Por exemplo, as coordenadas de um ponto no espaço 3D ```[1, 2, 1]``` representam \n",
    "um eixo.  \n",
    "    Esse eixo tem 3 elementos e, por isso, dizemos que ele tem comprimento 3.\n",
    "\n",
    "-   No exemplo abaixo, o vetor tem 2 eixos.   \n",
    "    O primeiro eixo tem comprimento 2 e o segundo comprimento 3.   \n",
    "    ```\n",
    "    [[1., 0., 0.],   \n",
    "     [0., 1., 2.]]\n",
    "    ```"
   ]
  },
  {
   "cell_type": "markdown",
   "metadata": {},
   "source": [
    "A classe de vetores de NumPy é chamada ```ndarray```.   \n",
    "Ela também é conhecida pelo apelido ```array```.\n",
    "\n",
    "Note que ```numpy.array``` não é a mesma coisa que a classe ```array.array``` da biblioteca padrão\n",
    "de Python, que lida apenas com vetores unidimensionais e oferece menos funcionalidades."
   ]
  },
  {
   "cell_type": "markdown",
   "metadata": {},
   "source": [
    "Considere o objeto ```numpy.array``` abaixo"
   ]
  },
  {
   "cell_type": "code",
   "execution_count": 14,
   "metadata": {},
   "outputs": [
    {
     "data": {
      "text/plain": [
       "array([[1., 0., 0.],\n",
       "       [0., 1., 2.]])"
      ]
     },
     "execution_count": 14,
     "metadata": {},
     "output_type": "execute_result"
    }
   ],
   "source": [
    "a = np.array([[1., 0., 0.], [0., 1., 2.]])\n",
    "a"
   ]
  },
  {
   "cell_type": "markdown",
   "metadata": {},
   "source": [
    "Os atributos mais importantes desse objeto são:\n",
    "\n",
    "-   **ndarray.ndim**   \n",
    "    É o número de eixos (dimensões) do vetor."
   ]
  },
  {
   "cell_type": "code",
   "execution_count": 15,
   "metadata": {},
   "outputs": [
    {
     "data": {
      "text/plain": [
       "2"
      ]
     },
     "execution_count": 15,
     "metadata": {},
     "output_type": "execute_result"
    }
   ],
   "source": [
    "a.ndim"
   ]
  },
  {
   "cell_type": "markdown",
   "metadata": {},
   "source": [
    "-   **ndarray.shape**   \n",
    "    São as dimensões do vetor.   \n",
    "    Esta é uma tupla de inteiros indicando\n",
    "o tamanho do vetor em cada dimensão.   \n",
    "Para um vetor com $n$ linhas e $m$ colunas, ```shape``` será $(n, m)$.   \n",
    "O comprimento da tupla ```shape``` é, portanto, o número de eixos, ``` ndim```."
   ]
  },
  {
   "cell_type": "code",
   "execution_count": 16,
   "metadata": {},
   "outputs": [
    {
     "data": {
      "text/plain": [
       "(2, 3)"
      ]
     },
     "execution_count": 16,
     "metadata": {},
     "output_type": "execute_result"
    }
   ],
   "source": [
    "a.shape"
   ]
  },
  {
   "cell_type": "markdown",
   "metadata": {},
   "source": [
    "-   **ndarray.size**   \n",
    "    É o número total de elementos no vetor.   \n",
    "    Ele é igual ao produto dos elementos da tupla ```shape```.\n",
    "  "
   ]
  },
  {
   "cell_type": "code",
   "execution_count": 17,
   "metadata": {},
   "outputs": [
    {
     "data": {
      "text/plain": [
       "6"
      ]
     },
     "execution_count": 17,
     "metadata": {},
     "output_type": "execute_result"
    }
   ],
   "source": [
    "a.size"
   ]
  },
  {
   "cell_type": "markdown",
   "metadata": {},
   "source": [
    "-   **ndarray.dtype**   \n",
    "    É um objeto que descreve o tipo dos elementos na matriz.   \n",
    "    É possível criar ou especificar ```dtype```s usando tipos padrão do Python.   \n",
    "    Além disso NumPy oferece tipos próprios, como ```numpy.int32```, ```numpy.int16``` e \n",
    "```numpy.float64```, por exemplo."
   ]
  },
  {
   "cell_type": "code",
   "execution_count": 18,
   "metadata": {},
   "outputs": [
    {
     "data": {
      "text/plain": [
       "dtype('float64')"
      ]
     },
     "execution_count": 18,
     "metadata": {},
     "output_type": "execute_result"
    }
   ],
   "source": [
    "a.dtype"
   ]
  },
  {
   "cell_type": "markdown",
   "metadata": {},
   "source": [
    "-   **ndarray.itemsize**   \n",
    "    É o tamanho em bytes de cada elemento do vetor.   \n",
    "    Por exemplo, um vetor de elementos do tipo ```float64``` tem ```itemsize``` 8 (= 64/8), enquanto um do tipo ```complex32``` tem ```itemsize``` 4 (= 32/8). \n",
    "    Ele é equivalente a ```ndarray.dtype.itemsize```."
   ]
  },
  {
   "cell_type": "code",
   "execution_count": 19,
   "metadata": {},
   "outputs": [
    {
     "data": {
      "text/plain": [
       "8"
      ]
     },
     "execution_count": 19,
     "metadata": {},
     "output_type": "execute_result"
    }
   ],
   "source": [
    "a.itemsize"
   ]
  },
  {
   "cell_type": "markdown",
   "metadata": {},
   "source": [
    "-   **ndarray.data**   \n",
    "    É o bufferonde realmente estão os elementos do vetor.   \n",
    "    Normalmente nós não precisaremos usar esse atributo porque acessaremos os elementos\n",
    "de um vetor usando recursos de indexação."
   ]
  },
  {
   "cell_type": "code",
   "execution_count": 20,
   "metadata": {},
   "outputs": [
    {
     "data": {
      "text/plain": [
       "<memory at 0x1095b1630>"
      ]
     },
     "execution_count": 20,
     "metadata": {},
     "output_type": "execute_result"
    }
   ],
   "source": [
    "a.data"
   ]
  },
  {
   "cell_type": "markdown",
   "metadata": {},
   "source": [
    "## Criação de vetores\n",
    "\n",
    "Existem várias maneiras de criar vetores em NumPy.\n",
    "\n",
    "Por exemplo, você pode criar uma matriz a partir de uma lista ou tupla comum do Python usando a função ```array```.   \n",
    "O tipo da matriz resultante é deduzido do tipo dos elementos nas sequências."
   ]
  },
  {
   "cell_type": "code",
   "execution_count": 21,
   "metadata": {},
   "outputs": [
    {
     "data": {
      "text/plain": [
       "dtype('int64')"
      ]
     },
     "execution_count": 21,
     "metadata": {},
     "output_type": "execute_result"
    }
   ],
   "source": [
    "a = np.array([2, 3, 4])\n",
    "a.dtype"
   ]
  },
  {
   "cell_type": "code",
   "execution_count": 22,
   "metadata": {},
   "outputs": [
    {
     "data": {
      "text/plain": [
       "dtype('float64')"
      ]
     },
     "execution_count": 22,
     "metadata": {},
     "output_type": "execute_result"
    }
   ],
   "source": [
    "b = np.array([1, 3, 5.1])\n",
    "b.dtype"
   ]
  },
  {
   "cell_type": "markdown",
   "metadata": {},
   "source": [
    "Um erro frequente consiste em chamar ```array``` com múltiplos argumentos numéricos, ao invés de fornecer uma única lista de números como **um** argumento."
   ]
  },
  {
   "cell_type": "code",
   "execution_count": 23,
   "metadata": {},
   "outputs": [
    {
     "ename": "ValueError",
     "evalue": "only 2 non-keyword arguments accepted",
     "output_type": "error",
     "traceback": [
      "\u001b[0;31m---------------------------------------------------------------------------\u001b[0m",
      "\u001b[0;31mValueError\u001b[0m                                Traceback (most recent call last)",
      "\u001b[0;32m<ipython-input-23-7681c71c58ae>\u001b[0m in \u001b[0;36m<module>\u001b[0;34m()\u001b[0m\n\u001b[0;32m----> 1\u001b[0;31m \u001b[0ma\u001b[0m \u001b[0;34m=\u001b[0m \u001b[0mnp\u001b[0m\u001b[0;34m.\u001b[0m\u001b[0marray\u001b[0m\u001b[0;34m(\u001b[0m\u001b[0;36m1\u001b[0m\u001b[0;34m,\u001b[0m\u001b[0;36m2\u001b[0m\u001b[0;34m,\u001b[0m\u001b[0;36m3\u001b[0m\u001b[0;34m,\u001b[0m\u001b[0;36m4\u001b[0m\u001b[0;34m)\u001b[0m    \u001b[0;31m# WRONG\u001b[0m\u001b[0;34m\u001b[0m\u001b[0m\n\u001b[0m",
      "\u001b[0;31mValueError\u001b[0m: only 2 non-keyword arguments accepted"
     ]
    }
   ],
   "source": [
    "a = np.array(1,2,3,4)    # WRONG"
   ]
  },
  {
   "cell_type": "code",
   "execution_count": 24,
   "metadata": {},
   "outputs": [
    {
     "data": {
      "text/plain": [
       "array([1, 2, 3, 4])"
      ]
     },
     "execution_count": 24,
     "metadata": {},
     "output_type": "execute_result"
    }
   ],
   "source": [
    "a = np.array([1,2,3,4])  # RIGHT\n",
    "a"
   ]
  },
  {
   "cell_type": "markdown",
   "metadata": {},
   "source": [
    "```array``` transforma sequências de sequências em vetores bidimensionais, sequências de sequências de sequências em vetores tridimensionais e assim por diante."
   ]
  },
  {
   "cell_type": "code",
   "execution_count": 26,
   "metadata": {},
   "outputs": [
    {
     "data": {
      "text/plain": [
       "dtype('float64')"
      ]
     },
     "execution_count": 26,
     "metadata": {},
     "output_type": "execute_result"
    },
    {
     "data": {
      "text/plain": [
       "array([[1.5, 2. , 3. ],\n",
       "       [4. , 5. , 6. ]])"
      ]
     },
     "execution_count": 26,
     "metadata": {},
     "output_type": "execute_result"
    }
   ],
   "source": [
    "b = np.array([(1.5,2,3), (4,5,6)])\n",
    "b.dtype\n",
    "b"
   ]
  },
  {
   "cell_type": "markdown",
   "metadata": {},
   "source": [
    "O tipo do vetor também pode ser explicitamente especificado no momento da criação:"
   ]
  },
  {
   "cell_type": "code",
   "execution_count": 27,
   "metadata": {},
   "outputs": [
    {
     "data": {
      "text/plain": [
       "dtype('complex128')"
      ]
     },
     "execution_count": 27,
     "metadata": {},
     "output_type": "execute_result"
    },
    {
     "data": {
      "text/plain": [
       "array([[1.+0.j, 2.+0.j],\n",
       "       [3.+0.j, 4.+0.j]])"
      ]
     },
     "execution_count": 27,
     "metadata": {},
     "output_type": "execute_result"
    }
   ],
   "source": [
    "c = np.array([[1, 2], [3, 4]], dtype=complex)\n",
    "c.dtype\n",
    "c"
   ]
  },
  {
   "cell_type": "markdown",
   "metadata": {},
   "source": [
    "Muitas vezes não conhecemos os elementos de um vetor no momento da criação, apenas o tamanho do vetor é conhecido.   \n",
    "Por isso, NumPy oferece várias funções para criar vetores apenas reservando espaço.   \n",
    "Isso minimiza a necessidade de fazer vetores crescerem, que é uma operação cara.\n",
    "\n",
    "A função ```zeros``` cria um ``` array``` cheio de zeros, a função ```ones``` cria um vetor cheio de uns e a função ```empty``` cria um vetor cujo conteúdo inicial é imprevisível pois depende do estado da memória.   \n",
    "Por padrão, o ```dtype``` do vetor criado é ```float64```."
   ]
  },
  {
   "cell_type": "code",
   "execution_count": 28,
   "metadata": {},
   "outputs": [
    {
     "data": {
      "text/plain": [
       "array([[0., 0., 0., 0.],\n",
       "       [0., 0., 0., 0.],\n",
       "       [0., 0., 0., 0.]])"
      ]
     },
     "execution_count": 28,
     "metadata": {},
     "output_type": "execute_result"
    }
   ],
   "source": [
    "np.zeros((3,4))"
   ]
  },
  {
   "cell_type": "code",
   "execution_count": 29,
   "metadata": {},
   "outputs": [
    {
     "data": {
      "text/plain": [
       "array([[[1, 1, 1, 1],\n",
       "        [1, 1, 1, 1],\n",
       "        [1, 1, 1, 1]],\n",
       "\n",
       "       [[1, 1, 1, 1],\n",
       "        [1, 1, 1, 1],\n",
       "        [1, 1, 1, 1]]], dtype=int16)"
      ]
     },
     "execution_count": 29,
     "metadata": {},
     "output_type": "execute_result"
    }
   ],
   "source": [
    "# dtype can also be specified\n",
    "np.ones((2,3,4), dtype=np.int16)"
   ]
  },
  {
   "cell_type": "code",
   "execution_count": 30,
   "metadata": {},
   "outputs": [
    {
     "data": {
      "text/plain": [
       "array([[1.5, 2. , 3. ],\n",
       "       [4. , 5. , 6. ]])"
      ]
     },
     "execution_count": 30,
     "metadata": {},
     "output_type": "execute_result"
    }
   ],
   "source": [
    "# uninitialized, output may vary\n",
    "np.empty((2,3))"
   ]
  },
  {
   "cell_type": "markdown",
   "metadata": {},
   "source": [
    "Para criar sequências de números, NumPy fornece uma função análoga a ```range``` que retorna vetores ao invés de listas."
   ]
  },
  {
   "cell_type": "code",
   "execution_count": 31,
   "metadata": {},
   "outputs": [
    {
     "data": {
      "text/plain": [
       "array([10, 15, 20, 25])"
      ]
     },
     "execution_count": 31,
     "metadata": {},
     "output_type": "execute_result"
    }
   ],
   "source": [
    "np.arange(10, 30, 5)"
   ]
  },
  {
   "cell_type": "code",
   "execution_count": 35,
   "metadata": {},
   "outputs": [
    {
     "data": {
      "text/plain": [
       "array([0.  , 0.25, 0.5 , 0.75, 1.  , 1.25, 1.5 , 1.75])"
      ]
     },
     "execution_count": 35,
     "metadata": {},
     "output_type": "execute_result"
    }
   ],
   "source": [
    "# arange accepts float arguments\n",
    "np.arange(0, 2, 0.25)"
   ]
  },
  {
   "cell_type": "markdown",
   "metadata": {},
   "source": [
    "Quando ```arange``` é usado com argumentos de ponto flutuante, geralmente não é possível prever o número de elementos obtidos, devido à precisão finita das operações de ponto flutuante.   \n",
    "\n",
    "Por esta razão, normalmente é melhor usar a função ```linspace``` que recebe como argumento o número desejado de elementos, ao invés de um passo.   \n",
    "É importante salientar que, ao contrário de ```arange```, ```linspace``` inclui os dois pontos extremos ```start``` e ```stop```."
   ]
  },
  {
   "cell_type": "code",
   "execution_count": 37,
   "metadata": {},
   "outputs": [
    {
     "data": {
      "text/plain": [
       "array([0.  , 0.25, 0.5 , 0.75, 1.  , 1.25, 1.5 , 1.75, 2.  ])"
      ]
     },
     "execution_count": 37,
     "metadata": {},
     "output_type": "execute_result"
    }
   ],
   "source": [
    "from numpy import pi\n",
    "# 9 números de 0 a 2\n",
    "np.linspace( 0, 2, 9 )"
   ]
  },
  {
   "cell_type": "code",
   "execution_count": 47,
   "metadata": {},
   "outputs": [
    {
     "name": "stdout",
     "output_type": "stream",
     "text": [
      "[ 0.     0.5    0.866  1.     0.866  0.5    0.    -0.5   -0.866 -1.\n",
      " -0.866 -0.5   -0.   ]\n"
     ]
    }
   ],
   "source": [
    "# linspace é útil para avaliar funções em muitos pontos\n",
    "x = np.linspace(0, 2*pi, 361)\n",
    "f = np.sin(x)\n",
    "\n",
    "np.set_printoptions(precision=3, suppress=True)\n",
    "print(f[0:361:30])"
   ]
  },
  {
   "cell_type": "markdown",
   "metadata": {},
   "source": [
    "## Manipulação da Forma"
   ]
  },
  {
   "cell_type": "markdown",
   "metadata": {},
   "source": [
    "### Mudando a forma de um vetor\n",
    "A forma de um vetor é dada pelo número de elementos ao longo de cada eixo:"
   ]
  },
  {
   "cell_type": "code",
   "execution_count": 50,
   "metadata": {},
   "outputs": [
    {
     "data": {
      "text/plain": [
       "array([[2., 3., 9., 4.],\n",
       "       [6., 1., 1., 2.],\n",
       "       [4., 6., 0., 3.]])"
      ]
     },
     "execution_count": 50,
     "metadata": {},
     "output_type": "execute_result"
    }
   ],
   "source": [
    "a = np.floor(10 * np.random.random((3,4)))\n",
    "a"
   ]
  },
  {
   "cell_type": "code",
   "execution_count": null,
   "metadata": {},
   "outputs": [],
   "source": [
    "a.shape"
   ]
  },
  {
   "cell_type": "markdown",
   "metadata": {},
   "source": [
    "A forma de um vetor pode ser alterada por vários comandos.   \n",
    "Note que os três comandos a seguir retornam uma matriz modificada, mas não alteram a matriz original:"
   ]
  },
  {
   "cell_type": "code",
   "execution_count": null,
   "metadata": {},
   "outputs": [],
   "source": [
    "a.ravel()  # retorna o vetor, achatado"
   ]
  },
  {
   "cell_type": "code",
   "execution_count": null,
   "metadata": {},
   "outputs": [],
   "source": [
    "a.reshape(2, 6)  # retorna o vetor, com uma nova forma"
   ]
  },
  {
   "cell_type": "code",
   "execution_count": null,
   "metadata": {},
   "outputs": [],
   "source": [
    "a.T  # retorna a transposta do vetor"
   ]
  },
  {
   "cell_type": "code",
   "execution_count": null,
   "metadata": {},
   "outputs": [],
   "source": [
    "a.T.shape"
   ]
  },
  {
   "cell_type": "code",
   "execution_count": null,
   "metadata": {},
   "outputs": [],
   "source": [
    "a.shape"
   ]
  },
  {
   "cell_type": "markdown",
   "metadata": {},
   "source": [
    "A ordem dos elementos no vetor resultante de ```ravel()``` é normalmente “estilo-C”, isto é, o índice mais à direita “muda mais rápido”.   \n",
    "Assim, o elemento que vem depois de ```a [0,0]``` é ```a [0,1]```.\n",
    "\n",
    "Quando um vetor é reformatado, ele também é tratado em “estilo-C”.\n",
    "\n",
    "Como NumPy normalmente armazena seus vetores nessa ordem, ```ravel()``` normalmente não precisará copiar seu argumento.   \n",
    "No entanto, se o vetor foi criado a partir de fatias de outro vetor ou de opções incomuns, a cópia pode ser necessária.\n",
    "\n",
    "As funções ```ravel()``` e ```reshape()``` também podem ser chamadas incluindo-se um argumento opcional, para usar “estilo-FORTRAN”, no qual o índice mais à esquerda muda mais rapidamente.\n",
    "\n",
    "A função ```reshape``` retorna seu argumento com uma forma modificada, enquanto o método```nda.resize``` modifica o próprio array ```nda```:"
   ]
  },
  {
   "cell_type": "code",
   "execution_count": null,
   "metadata": {},
   "outputs": [],
   "source": [
    "a\n",
    "a.resize((2,6))\n",
    "a"
   ]
  },
  {
   "cell_type": "markdown",
   "metadata": {},
   "source": [
    "Se uma dimensão for dada como -1 em uma operação de redimensionamento, as outras dimensões são calculadas automaticamente:"
   ]
  },
  {
   "cell_type": "code",
   "execution_count": null,
   "metadata": {},
   "outputs": [],
   "source": [
    "a.reshape(4, -1)"
   ]
  },
  {
   "cell_type": "markdown",
   "metadata": {},
   "source": [
    "## Impressão de vetores\n",
    "Quando você imprime um vetor, NumPy o exibe de maneira semelhante a listas aninhadas, mas com o seguinte layout:\n",
    "\n",
    "-   o último eixo é impresso da esquerda para a direita,\n",
    "-   o penúltimo eixo é impresso de cima para baixo,\n",
    "-   o resto do vetor também é impresso de cima para baixo, com cada fatia separada da próxima por uma linha em branco.\n",
    "\n",
    "Assim, vetores unidimensionais são impressos como linhas, vetores bidimensionais como matrizes e vetores tridimensionais como listas de matrizes."
   ]
  },
  {
   "cell_type": "code",
   "execution_count": null,
   "metadata": {},
   "outputs": [],
   "source": [
    "# vetor unidimensional\n",
    "a = np.arange(6)\n",
    "print(a)"
   ]
  },
  {
   "cell_type": "code",
   "execution_count": null,
   "metadata": {},
   "outputs": [],
   "source": [
    "# vetor bidimensional\n",
    "b = np.arange(12).reshape(4,3)\n",
    "print(b)"
   ]
  },
  {
   "cell_type": "code",
   "execution_count": null,
   "metadata": {},
   "outputs": [],
   "source": [
    "# vetor tridimensional\n",
    "c = np.arange(24).reshape(2,3,4)\n",
    "print(c)"
   ]
  },
  {
   "cell_type": "code",
   "execution_count": null,
   "metadata": {},
   "outputs": [],
   "source": [
    "# vetor quadridimensional\n",
    "d = np.arange(48).reshape(2,3,2,4)\n",
    "print(d)"
   ]
  },
  {
   "cell_type": "markdown",
   "metadata": {},
   "source": [
    "Quando um vetor é muito grande para ser impresso, NumPy omite automaticamente a parte central do vetor e exibe apenas as pontas:"
   ]
  },
  {
   "cell_type": "code",
   "execution_count": null,
   "metadata": {},
   "outputs": [],
   "source": [
    "print(np.arange(10000))"
   ]
  },
  {
   "cell_type": "code",
   "execution_count": null,
   "metadata": {},
   "outputs": [],
   "source": [
    "print(np.arange(10000).reshape(100,100))"
   ]
  },
  {
   "cell_type": "markdown",
   "metadata": {},
   "source": [
    "Para desabilitar esse comportamento e forçar NumPy a imprimir todo o vetor, você pode alterar as opções de impressão usando ```set_printoptions```."
   ]
  },
  {
   "cell_type": "markdown",
   "metadata": {},
   "source": [
    "## Operações básicas\n",
    "Os operadores ```*, - , + , /``` e ```**```, quando aplicados sobre vetores, atuam elemento a elemento.   \n",
    "Um novo vetor é criado e preenchido com o resultado."
   ]
  },
  {
   "cell_type": "code",
   "execution_count": null,
   "metadata": {},
   "outputs": [],
   "source": [
    "m = np.ones((2,3))\n",
    "m + 1"
   ]
  },
  {
   "cell_type": "code",
   "execution_count": null,
   "metadata": {},
   "outputs": [],
   "source": [
    "m * 4"
   ]
  },
  {
   "cell_type": "code",
   "execution_count": null,
   "metadata": {},
   "outputs": [],
   "source": [
    "m = m + 1\n",
    "m"
   ]
  },
  {
   "cell_type": "code",
   "execution_count": null,
   "metadata": {},
   "outputs": [],
   "source": [
    "m ** 3"
   ]
  },
  {
   "cell_type": "code",
   "execution_count": null,
   "metadata": {},
   "outputs": [],
   "source": [
    "a = np.array([20,30,40,50])\n",
    "a"
   ]
  },
  {
   "cell_type": "code",
   "execution_count": null,
   "metadata": {},
   "outputs": [],
   "source": [
    "b = np.arange(4)\n",
    "b"
   ]
  },
  {
   "cell_type": "code",
   "execution_count": null,
   "metadata": {},
   "outputs": [],
   "source": [
    "c = a - b\n",
    "c"
   ]
  },
  {
   "cell_type": "code",
   "execution_count": null,
   "metadata": {},
   "outputs": [],
   "source": [
    "b ** 2"
   ]
  },
  {
   "cell_type": "code",
   "execution_count": null,
   "metadata": {},
   "outputs": [],
   "source": [
    "10 * np.sin(a)"
   ]
  },
  {
   "cell_type": "code",
   "execution_count": null,
   "metadata": {},
   "outputs": [],
   "source": [
    "a < 35"
   ]
  },
  {
   "cell_type": "markdown",
   "metadata": {},
   "source": [
    "Ao contrário de muitas linguagens para matrizes, em NumPy o operador de produto ```*``` é aplicado elemento a elemento.   \n",
    "O produto de vetores pode ser feito usando a função ou método ```dot```:"
   ]
  },
  {
   "cell_type": "code",
   "execution_count": null,
   "metadata": {},
   "outputs": [],
   "source": [
    "ma = np.array( [[1,1],\n",
    "               [0,1]] )\n",
    "mb = np.array( [[2,0],\n",
    "               [3,4]] )\n",
    "\n",
    "# produto elemento a elemento\n",
    "ma * mb"
   ]
  },
  {
   "cell_type": "code",
   "execution_count": null,
   "metadata": {},
   "outputs": [],
   "source": [
    "# produto de matrizes\n",
    "ma.dot(mb)"
   ]
  },
  {
   "cell_type": "code",
   "execution_count": null,
   "metadata": {},
   "outputs": [],
   "source": [
    "# outro produto de matrizes\n",
    "np.dot(ma, mb)"
   ]
  },
  {
   "cell_type": "markdown",
   "metadata": {},
   "source": [
    "Algumas operações, como ```+=``` e ```*=```, atuam diretamente modificando uma matriz existente, em vez de criar uma nova."
   ]
  },
  {
   "cell_type": "code",
   "execution_count": null,
   "metadata": {},
   "outputs": [],
   "source": [
    "a = np.ones((2,3), dtype=int)\n",
    "a *= 3\n",
    "a"
   ]
  },
  {
   "cell_type": "code",
   "execution_count": null,
   "metadata": {},
   "outputs": [],
   "source": [
    "b = (np.random.randint(1, 10 + 1, 6) / 10).reshape(2, 3)\n",
    "b"
   ]
  },
  {
   "cell_type": "code",
   "execution_count": null,
   "metadata": {},
   "outputs": [],
   "source": [
    "# a é automaticamente convertida para float\n",
    "b += a\n",
    "b"
   ]
  },
  {
   "cell_type": "code",
   "execution_count": null,
   "metadata": {},
   "outputs": [],
   "source": [
    "# b não é automaticamente convertida para int \n",
    "a += b"
   ]
  },
  {
   "cell_type": "markdown",
   "metadata": {},
   "source": [
    "Ao operar com vetores de tipos diferentes, o tipo do vetor resultante corresponde ao tipo mais geral ou mais preciso (um comportamento conhecido como *upcasting*)."
   ]
  },
  {
   "cell_type": "code",
   "execution_count": null,
   "metadata": {},
   "outputs": [],
   "source": [
    "a = np.ones(3, dtype=np.int32)\n",
    "a.dtype.name\n",
    "a"
   ]
  },
  {
   "cell_type": "code",
   "execution_count": null,
   "metadata": {},
   "outputs": [],
   "source": [
    "b = np.linspace(0, np.pi, 3)\n",
    "b.dtype.name\n",
    "b"
   ]
  },
  {
   "cell_type": "code",
   "execution_count": null,
   "metadata": {},
   "outputs": [],
   "source": [
    "c = a + b\n",
    "c.dtype.name\n",
    "c"
   ]
  },
  {
   "cell_type": "code",
   "execution_count": null,
   "metadata": {},
   "outputs": [],
   "source": [
    "d = np.exp(c * 1j)\n",
    "d.dtype.name\n",
    "d"
   ]
  },
  {
   "cell_type": "markdown",
   "metadata": {},
   "source": [
    "Muitas operações unárias, como calcular a soma de todos os elementos na matriz, são implementadas como métodos da classe ```ndarray```."
   ]
  },
  {
   "cell_type": "code",
   "execution_count": null,
   "metadata": {},
   "outputs": [],
   "source": [
    "a = np.random.randint(1, 10, (2,3))\n",
    "a"
   ]
  },
  {
   "cell_type": "code",
   "execution_count": null,
   "metadata": {},
   "outputs": [],
   "source": [
    "a.sum()"
   ]
  },
  {
   "cell_type": "code",
   "execution_count": null,
   "metadata": {},
   "outputs": [],
   "source": [
    "a.min()"
   ]
  },
  {
   "cell_type": "code",
   "execution_count": null,
   "metadata": {},
   "outputs": [],
   "source": [
    "a.max()"
   ]
  },
  {
   "cell_type": "markdown",
   "metadata": {},
   "source": [
    "Por padrão, essas operações se aplicam ao vetor como se ele fosse uma lista de números, independentemente de sua forma.   \n",
    "No entanto, se especificarmos o parâmetro ```axis``` você pode aplicar uma operação ao longo de um eixo especificado de um vetor:"
   ]
  },
  {
   "cell_type": "code",
   "execution_count": null,
   "metadata": {},
   "outputs": [],
   "source": [
    "a.min(axis=0)   # menores valores ao longo do eixo 0"
   ]
  },
  {
   "cell_type": "code",
   "execution_count": null,
   "metadata": {},
   "outputs": [],
   "source": [
    "a.max(axis=1)   # maiores valores ao longo do eixo 1"
   ]
  },
  {
   "cell_type": "code",
   "execution_count": null,
   "metadata": {},
   "outputs": [],
   "source": [
    "b = np.arange(12).reshape(3,4)\n",
    "b"
   ]
  },
  {
   "cell_type": "code",
   "execution_count": null,
   "metadata": {},
   "outputs": [],
   "source": [
    "# soma de cada coluna\n",
    "b.sum(axis=0)"
   ]
  },
  {
   "cell_type": "code",
   "execution_count": null,
   "metadata": {},
   "outputs": [],
   "source": [
    "# mínimo de cada linha\n",
    "b.min(axis=1)"
   ]
  },
  {
   "cell_type": "code",
   "execution_count": null,
   "metadata": {},
   "outputs": [],
   "source": [
    "# soma cumulativa ao longo de cada linha\n",
    "b.cumsum(axis=1)"
   ]
  },
  {
   "cell_type": "code",
   "execution_count": null,
   "metadata": {},
   "outputs": [],
   "source": [
    "# comment out the next line to change the printing options\n",
    "# np.set_printoptions(threshold=np.nan)"
   ]
  },
  {
   "cell_type": "markdown",
   "metadata": {},
   "source": [
    "### Operações de álgebra linear\n",
    "\n",
    "NumPy oferece diversas operações de algebra linear no pacote ```numpy.linalg```."
   ]
  },
  {
   "cell_type": "markdown",
   "metadata": {},
   "source": [
    "#### Produto de matrizes\n",
    "O produto de duas matrizes $ma$ e $mb$ é calculado por $\\textrm{numpy.dot}(ma, mb)$."
   ]
  },
  {
   "cell_type": "code",
   "execution_count": null,
   "metadata": {},
   "outputs": [],
   "source": [
    "a = np.arange(9).reshape(3,3)\n",
    "a"
   ]
  },
  {
   "cell_type": "code",
   "execution_count": null,
   "metadata": {},
   "outputs": [],
   "source": [
    "b = 2 * np.ones((3, 3))\n",
    "b"
   ]
  },
  {
   "cell_type": "code",
   "execution_count": null,
   "metadata": {},
   "outputs": [],
   "source": [
    "np.dot(a, b)"
   ]
  },
  {
   "cell_type": "code",
   "execution_count": null,
   "metadata": {},
   "outputs": [],
   "source": [
    "np.dot(b,a)"
   ]
  },
  {
   "cell_type": "markdown",
   "metadata": {},
   "source": [
    "### Inversão de matrizes\n",
    "A inversa de uma matriz $ma$ é calculada por $\\textrm{numpy.linalg.inv}(ma)$."
   ]
  },
  {
   "cell_type": "code",
   "execution_count": null,
   "metadata": {},
   "outputs": [],
   "source": [
    "a = np.array([[1, 2, 3], [0, 1, 4], [5, 6, 0]])\n",
    "a"
   ]
  },
  {
   "cell_type": "code",
   "execution_count": null,
   "metadata": {},
   "outputs": [],
   "source": [
    "b = np.linalg.inv(a)\n",
    "b"
   ]
  },
  {
   "cell_type": "code",
   "execution_count": null,
   "metadata": {},
   "outputs": [],
   "source": [
    "np.dot(a,b)"
   ]
  },
  {
   "cell_type": "markdown",
   "metadata": {},
   "source": [
    "### Solução de sistemas de equações\n",
    "Um sistema de equações lineares dado por uma matriz de coeficientes $mc$ e um vetor de termos constantes $tc$ pode ser resolvido por $\\textrm{numpy.linalg.solve}(mc, tc)$.\n",
    "\n",
    "Por exemplo, vamos resolver o seguinte sistema:\n",
    "$$\n",
    "\\left\\{\n",
    "\\begin{array}{r r r c r}\n",
    " 3x_0 & +4x_1 & +  x_2 & = & 14  \\\\\n",
    "  x_0 & - x_1 & + 2x_2 & = &  5  \\\\\n",
    "-2x_0 & +3x_1 & -  x_2 & = &  1\n",
    "\\end{array}\n",
    "\\right.\n",
    "$$"
   ]
  },
  {
   "cell_type": "code",
   "execution_count": null,
   "metadata": {},
   "outputs": [],
   "source": [
    "mc = np.array([[3., 4., 1.],\n",
    "               [1., -1., 2.],\n",
    "               [-2., 3., -1.]])\n",
    "tc = np.array([14., 5., 1.])"
   ]
  },
  {
   "cell_type": "code",
   "execution_count": null,
   "metadata": {},
   "outputs": [],
   "source": [
    "x = np.linalg.solve(mc, tc)\n",
    "print(x)"
   ]
  },
  {
   "cell_type": "code",
   "execution_count": null,
   "metadata": {},
   "outputs": [],
   "source": []
  }
 ],
 "metadata": {
  "kernelspec": {
   "display_name": "Python 3",
   "language": "python",
   "name": "python3"
  },
  "language_info": {
   "codemirror_mode": {
    "name": "ipython",
    "version": 3
   },
   "file_extension": ".py",
   "mimetype": "text/x-python",
   "name": "python",
   "nbconvert_exporter": "python",
   "pygments_lexer": "ipython3",
   "version": "3.6.4"
  }
 },
 "nbformat": 4,
 "nbformat_minor": 2
}
